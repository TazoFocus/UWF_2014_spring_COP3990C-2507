{
 "metadata": {
  "name": "Lecture08-a"
 },
 "nbformat": 3,
 "nbformat_minor": 0,
 "worksheets": [
  {
   "cells": [
    {
     "cell_type": "markdown",
     "metadata": {},
     "source": [
      "<img src=\"files/images/python-logo.png\">"
     ]
    },
    {
     "cell_type": "heading",
     "level": 1,
     "metadata": {},
     "source": [
      "Anonymous Functions, Modules, and Packages"
     ]
    },
    {
     "cell_type": "code",
     "collapsed": false,
     "input": [
      "# this block is just for the style sheet for the notebook\n",
      "from IPython.core.display import HTML\n",
      "def css_styling():\n",
      "    styles = open(\"styles/custom.css\", \"r\").read()\n",
      "    return HTML(styles)\n",
      "css_styling()"
     ],
     "language": "python",
     "metadata": {},
     "outputs": [
      {
       "html": [
        "<style>\n",
        "div.warn {    \n",
        "  background-color: #ff8c00;\n",
        "  border-color: #00008b;\n",
        "  border-left: 5px solid #00008b;\n",
        "  padding: 0.5em;\n",
        "}\n",
        "\n",
        "    @font-face {\n",
        "        font-family: \"Computer Modern\";\n",
        "        src: url('http://mirrors.ctan.org/fonts/cm-unicode/fonts/otf/cmunss.otf');\n",
        "    }\n",
        "    div.cell{\n",
        "        width:800px;\n",
        "        margin-left:16% !important;\n",
        "        margin-right:auto;\n",
        "    }\n",
        "    h1 {\n",
        "        font-family: Helvetica, serif;\n",
        "    }\n",
        "    h2 {\n",
        "        font-family: Helvetica, serif;\n",
        "    }\n",
        "    h4{\n",
        "        margin-top:12px;\n",
        "        margin-bottom: 3px;\n",
        "       }\n",
        "    div.text_cell_render{\n",
        "        font-family: Computer Modern, \"Helvetica Neue\", Arial, Helvetica, Geneva, sans-serif;\n",
        "        line-height: 135%;\n",
        "        font-size: 120%;\n",
        "        width:600px;\n",
        "        margin-left:auto;\n",
        "        margin-right:auto;\n",
        "    }\n",
        "    .CodeMirror{\n",
        "            font-family: \"Source Code Pro\", source-code-pro,Consolas, monospace;\n",
        "    }\n",
        "/*    .prompt{\n",
        "        display: None;\n",
        "    }*/\n",
        "    .text_cell_render h5 {\n",
        "        font-weight: 300;\n",
        "        font-size: 16pt;\n",
        "        color: #4057A1;\n",
        "        font-style: italic;\n",
        "        margin-bottom: .5em;\n",
        "        margin-top: 0.5em;\n",
        "        display: block;\n",
        "    }\n",
        "    \n",
        "    .warning{\n",
        "        color: rgb( 240, 20, 20 )\n",
        "        }  \n",
        "</style>\n",
        "<script>\n",
        "    MathJax.Hub.Config({\n",
        "                        TeX: {\n",
        "                           extensions: [\"AMSmath.js\"]\n",
        "                           },\n",
        "                tex2jax: {\n",
        "                    inlineMath: [ ['$','$'], [\"\\\\(\",\"\\\\)\"] ],\n",
        "                    displayMath: [ ['$$','$$'], [\"\\\\[\",\"\\\\]\"] ]\n",
        "                },\n",
        "                displayAlign: 'center', // Change this to 'center' to center equations.\n",
        "                \"HTML-CSS\": {\n",
        "                    styles: {'.MathJax_Display': {\"margin\": 4}}\n",
        "                }\n",
        "        });\n",
        "</script>\n",
        "\n"
       ],
       "output_type": "pyout",
       "prompt_number": 1,
       "text": [
        "<IPython.core.display.HTML at 0x4118d90>"
       ]
      }
     ],
     "prompt_number": 1
    },
    {
     "cell_type": "heading",
     "level": 5,
     "metadata": {},
     "source": [
      "Anonymous Functions - Lambda"
     ]
    },
    {
     "cell_type": "code",
     "collapsed": false,
     "input": [
      "L = [lambda x: x ** 2, # Inline function definition\n",
      "    lambda x: x ** 3,\n",
      "    lambda x: x ** 4] # A list of three callable functions\n",
      "\n",
      "\n",
      "for f in L:\n",
      "    print(f(2)) # Prints 4, 8, 16"
     ],
     "language": "python",
     "metadata": {},
     "outputs": [
      {
       "output_type": "stream",
       "stream": "stdout",
       "text": [
        "4\n",
        "8\n",
        "16\n"
       ]
      }
     ],
     "prompt_number": 2
    },
    {
     "cell_type": "code",
     "collapsed": false,
     "input": [
      "print(L[0](3)) # Prints 9"
     ],
     "language": "python",
     "metadata": {},
     "outputs": [
      {
       "output_type": "stream",
       "stream": "stdout",
       "text": [
        "9\n"
       ]
      }
     ],
     "prompt_number": 3
    },
    {
     "cell_type": "code",
     "collapsed": false,
     "input": [
      "def f1(x): return x ** 2\n",
      "def f2(x): return x ** 3 # Define named functions\n",
      "def f3(x): return x ** 4\n",
      "\n",
      "L = [f1, f2, f3] # Reference by name\n",
      "\n",
      "for f in L:\n",
      "    print(f(2)) # Prints 4, 8, 16"
     ],
     "language": "python",
     "metadata": {},
     "outputs": [
      {
       "output_type": "stream",
       "stream": "stdout",
       "text": [
        "4\n",
        "8\n",
        "16\n"
       ]
      }
     ],
     "prompt_number": 4
    },
    {
     "cell_type": "code",
     "collapsed": false,
     "input": [
      "map(lambda x: x*x, range(10))"
     ],
     "language": "python",
     "metadata": {},
     "outputs": [
      {
       "output_type": "pyout",
       "prompt_number": 5,
       "text": [
        "[0, 1, 4, 9, 16, 25, 36, 49, 64, 81]"
       ]
      }
     ],
     "prompt_number": 5
    },
    {
     "cell_type": "code",
     "collapsed": false,
     "input": [
      "[x*x for x in range(10)]"
     ],
     "language": "python",
     "metadata": {},
     "outputs": [
      {
       "output_type": "pyout",
       "prompt_number": 7,
       "text": [
        "[0, 1, 4, 9, 16, 25, 36, 49, 64, 81]"
       ]
      }
     ],
     "prompt_number": 7
    },
    {
     "cell_type": "code",
     "collapsed": false,
     "input": [
      "[lambda x: x*x for x in range(10)]"
     ],
     "language": "python",
     "metadata": {},
     "outputs": [
      {
       "output_type": "pyout",
       "prompt_number": 8,
       "text": [
        "[<function __main__.<lambda>>,\n",
        " <function __main__.<lambda>>,\n",
        " <function __main__.<lambda>>,\n",
        " <function __main__.<lambda>>,\n",
        " <function __main__.<lambda>>,\n",
        " <function __main__.<lambda>>,\n",
        " <function __main__.<lambda>>,\n",
        " <function __main__.<lambda>>,\n",
        " <function __main__.<lambda>>,\n",
        " <function __main__.<lambda>>]"
       ]
      }
     ],
     "prompt_number": 8
    },
    {
     "cell_type": "code",
     "collapsed": false,
     "input": [
      "[(lambda x: x*x)(x) for x in range(10)]"
     ],
     "language": "python",
     "metadata": {},
     "outputs": [
      {
       "metadata": {},
       "output_type": "pyout",
       "prompt_number": 6,
       "text": [
        "[0, 1, 4, 9, 16, 25, 36, 49, 64, 81]"
       ]
      }
     ],
     "prompt_number": 6
    },
    {
     "cell_type": "heading",
     "level": 5,
     "metadata": {},
     "source": [
      "Modules"
     ]
    },
    {
     "cell_type": "markdown",
     "metadata": {},
     "source": [
      "To review, modules are files (.py) that can be imported into the workspace. These modules tend to organize your code and allow for later use of functions and objects."
     ]
    },
    {
     "cell_type": "code",
     "collapsed": false,
     "input": [
      "import sys\n",
      "print sys.path"
     ],
     "language": "python",
     "metadata": {},
     "outputs": [
      {
       "output_type": "stream",
       "stream": "stdout",
       "text": [
        "['', 'C:\\\\Windows\\\\system32\\\\python27.zip', 'C:\\\\Python27\\\\DLLs', 'C:\\\\Python27\\\\lib', 'C:\\\\Python27\\\\lib\\\\plat-win', 'C:\\\\Python27\\\\lib\\\\lib-tk', 'C:\\\\Python27', 'C:\\\\Python27\\\\lib\\\\site-packages', 'C:\\\\Python27\\\\lib\\\\site-packages\\\\FontTools', 'C:\\\\Python27\\\\lib\\\\site-packages\\\\itk', 'C:\\\\Python27\\\\lib\\\\site-packages\\\\win32', 'C:\\\\Python27\\\\lib\\\\site-packages\\\\win32\\\\lib', 'C:\\\\Python27\\\\lib\\\\site-packages\\\\Pythonwin', 'C:\\\\Python27\\\\lib\\\\site-packages\\\\wx-2.8-msw-unicode', 'C:\\\\Python27\\\\lib\\\\site-packages\\\\IPython\\\\extensions']\n"
       ]
      }
     ],
     "prompt_number": 9
    },
    {
     "cell_type": "code",
     "collapsed": false,
     "input": [
      "package_path = 'scripts'\n",
      "sys.path.append(package_path)\n",
      "print sys.path"
     ],
     "language": "python",
     "metadata": {},
     "outputs": [
      {
       "output_type": "stream",
       "stream": "stdout",
       "text": [
        "['', 'C:\\\\Windows\\\\system32\\\\python27.zip', 'C:\\\\Python27\\\\DLLs', 'C:\\\\Python27\\\\lib', 'C:\\\\Python27\\\\lib\\\\plat-win', 'C:\\\\Python27\\\\lib\\\\lib-tk', 'C:\\\\Python27', 'C:\\\\Python27\\\\lib\\\\site-packages', 'C:\\\\Python27\\\\lib\\\\site-packages\\\\FontTools', 'C:\\\\Python27\\\\lib\\\\site-packages\\\\itk', 'C:\\\\Python27\\\\lib\\\\site-packages\\\\win32', 'C:\\\\Python27\\\\lib\\\\site-packages\\\\win32\\\\lib', 'C:\\\\Python27\\\\lib\\\\site-packages\\\\Pythonwin', 'C:\\\\Python27\\\\lib\\\\site-packages\\\\wx-2.8-msw-unicode', 'C:\\\\Python27\\\\lib\\\\site-packages\\\\IPython\\\\extensions', 'scripts', 'scripts']\n"
       ]
      }
     ],
     "prompt_number": 11
    },
    {
     "cell_type": "code",
     "collapsed": false,
     "input": [
      "import cli"
     ],
     "language": "python",
     "metadata": {},
     "outputs": [
      {
       "output_type": "stream",
       "stream": "stdout",
       "text": [
        "The length of my cli list is:  6\n",
        "Here is my list:  ['-c', '-f', 'C:\\\\Users\\\\User\\\\.ipython\\\\profile_default\\\\security\\\\kernel-68c768c9-a5e2-4dd1-9208-26a15baa1983.json', \"--KernelApp.parent_appname='ipython-notebook'\", '--interrupt=752', '--parent=728']\n",
        "this is the name of my python file:  -c\n",
        "-f\n",
        "C:\\Users\\User\\.ipython\\profile_default\\security\\kernel-68c768c9-a5e2-4dd1-9208-26a15baa1983.json\n",
        "--KernelApp.parent_appname='ipython-notebook'\n",
        "--interrupt=752\n",
        "--parent=728\n"
       ]
      }
     ],
     "prompt_number": 12
    },
    {
     "cell_type": "code",
     "collapsed": false,
     "input": [
      "sys.path.pop()"
     ],
     "language": "python",
     "metadata": {},
     "outputs": [
      {
       "output_type": "pyout",
       "prompt_number": 13,
       "text": [
        "'scripts'"
       ]
      }
     ],
     "prompt_number": 13
    },
    {
     "cell_type": "code",
     "collapsed": false,
     "input": [
      "sys.path"
     ],
     "language": "python",
     "metadata": {},
     "outputs": [
      {
       "output_type": "pyout",
       "prompt_number": 14,
       "text": [
        "['',\n",
        " 'C:\\\\Windows\\\\system32\\\\python27.zip',\n",
        " 'C:\\\\Python27\\\\DLLs',\n",
        " 'C:\\\\Python27\\\\lib',\n",
        " 'C:\\\\Python27\\\\lib\\\\plat-win',\n",
        " 'C:\\\\Python27\\\\lib\\\\lib-tk',\n",
        " 'C:\\\\Python27',\n",
        " 'C:\\\\Python27\\\\lib\\\\site-packages',\n",
        " 'C:\\\\Python27\\\\lib\\\\site-packages\\\\FontTools',\n",
        " 'C:\\\\Python27\\\\lib\\\\site-packages\\\\itk',\n",
        " 'C:\\\\Python27\\\\lib\\\\site-packages\\\\win32',\n",
        " 'C:\\\\Python27\\\\lib\\\\site-packages\\\\win32\\\\lib',\n",
        " 'C:\\\\Python27\\\\lib\\\\site-packages\\\\Pythonwin',\n",
        " 'C:\\\\Python27\\\\lib\\\\site-packages\\\\wx-2.8-msw-unicode',\n",
        " 'C:\\\\Python27\\\\lib\\\\site-packages\\\\IPython\\\\extensions',\n",
        " 'scripts']"
       ]
      }
     ],
     "prompt_number": 14
    },
    {
     "cell_type": "code",
     "collapsed": false,
     "input": [
      "pwd"
     ],
     "language": "python",
     "metadata": {},
     "outputs": [
      {
       "output_type": "pyout",
       "prompt_number": 28,
       "text": [
        "u'C:\\\\Users\\\\User\\\\Dropbox\\\\UWF\\\\spring2014\\\\Python\\\\UWF_2014_spring_COP3990C-2507\\\\notebooks'"
       ]
      }
     ],
     "prompt_number": 28
    },
    {
     "cell_type": "code",
     "collapsed": false,
     "input": [
      "s=!pwd\n",
      "print s"
     ],
     "language": "python",
     "metadata": {},
     "outputs": [
      {
       "output_type": "stream",
       "stream": "stdout",
       "text": [
        "[\"'pwd' is not recognized as an internal or external command,\", 'operable program or batch file.']\n"
       ]
      }
     ],
     "prompt_number": 29
    },
    {
     "cell_type": "code",
     "collapsed": false,
     "input": [
      "s=['C:\\\\Users\\\\User\\\\Dropbox\\\\UWF\\\\spring2014\\\\Python\\\\UWF_2014_spring_COP3990C-2507\\\\notebooks']\n"
     ],
     "language": "python",
     "metadata": {},
     "outputs": [],
     "prompt_number": 30
    },
    {
     "cell_type": "code",
     "collapsed": false,
     "input": [
      "import os\n",
      "package_path=os.path.join(s[0],'scripts')\n",
      "package_path\n"
     ],
     "language": "python",
     "metadata": {},
     "outputs": [
      {
       "output_type": "pyout",
       "prompt_number": 33,
       "text": [
        "'C:\\\\Users\\\\User\\\\Dropbox\\\\UWF\\\\spring2014\\\\Python\\\\UWF_2014_spring_COP3990C-2507\\\\notebooks\\\\scripts'"
       ]
      }
     ],
     "prompt_number": 33
    },
    {
     "cell_type": "code",
     "collapsed": false,
     "input": [],
     "language": "python",
     "metadata": {},
     "outputs": []
    },
    {
     "cell_type": "code",
     "collapsed": false,
     "input": [
      "sys.path.append(package_path)\n",
      "sys.path"
     ],
     "language": "python",
     "metadata": {},
     "outputs": [
      {
       "output_type": "pyout",
       "prompt_number": 32,
       "text": [
        "['',\n",
        " 'C:\\\\Windows\\\\system32\\\\python27.zip',\n",
        " 'C:\\\\Python27\\\\DLLs',\n",
        " 'C:\\\\Python27\\\\lib',\n",
        " 'C:\\\\Python27\\\\lib\\\\plat-win',\n",
        " 'C:\\\\Python27\\\\lib\\\\lib-tk',\n",
        " 'C:\\\\Python27',\n",
        " 'C:\\\\Python27\\\\lib\\\\site-packages',\n",
        " 'C:\\\\Python27\\\\lib\\\\site-packages\\\\FontTools',\n",
        " 'C:\\\\Python27\\\\lib\\\\site-packages\\\\itk',\n",
        " 'C:\\\\Python27\\\\lib\\\\site-packages\\\\win32',\n",
        " 'C:\\\\Python27\\\\lib\\\\site-packages\\\\win32\\\\lib',\n",
        " 'C:\\\\Python27\\\\lib\\\\site-packages\\\\Pythonwin',\n",
        " 'C:\\\\Python27\\\\lib\\\\site-packages\\\\wx-2.8-msw-unicode',\n",
        " 'C:\\\\Python27\\\\lib\\\\site-packages\\\\IPython\\\\extensions',\n",
        " 'scripts',\n",
        " 'C:\\\\Users\\\\User\\\\Dropbox\\\\UWF\\\\spring2014\\\\Python\\\\UWF_2014_spring_COP3990C-2507\\\\notebooks\\\\scripts']"
       ]
      }
     ],
     "prompt_number": 32
    },
    {
     "cell_type": "code",
     "collapsed": false,
     "input": [
      "import script1\n"
     ],
     "language": "python",
     "metadata": {},
     "outputs": [],
     "prompt_number": 38
    },
    {
     "cell_type": "code",
     "collapsed": false,
     "input": [
      "script1.x"
     ],
     "language": "python",
     "metadata": {},
     "outputs": [
      {
       "metadata": {},
       "output_type": "pyout",
       "prompt_number": 27,
       "text": [
        "'Spam!'"
       ]
      }
     ],
     "prompt_number": 27
    },
    {
     "cell_type": "code",
     "collapsed": false,
     "input": [
      "reload(script1)\n"
     ],
     "language": "python",
     "metadata": {},
     "outputs": [
      {
       "output_type": "stream",
       "stream": "stdout",
       "text": [
        "win32\n",
        "4294967296\n",
        "Spam!Spam!Spam!Spam!Spam!Spam!Spam!Spam!\n"
       ]
      },
      {
       "output_type": "pyout",
       "prompt_number": 39,
       "text": [
        "<module 'script1' from 'scripts\\script1.pyc'>"
       ]
      }
     ],
     "prompt_number": 39
    },
    {
     "cell_type": "code",
     "collapsed": false,
     "input": [
      "print script1.y"
     ],
     "language": "python",
     "metadata": {},
     "outputs": [
      {
       "output_type": "stream",
       "stream": "stdout",
       "text": [
        "No Spam!\n"
       ]
      }
     ],
     "prompt_number": 40
    },
    {
     "cell_type": "heading",
     "level": 5,
     "metadata": {},
     "source": [
      "Module Packages"
     ]
    },
    {
     "cell_type": "code",
     "collapsed": false,
     "input": [],
     "language": "python",
     "metadata": {},
     "outputs": []
    },
    {
     "cell_type": "markdown",
     "metadata": {},
     "source": [
      "Packages are a little different thatn modules. They are directory paths and are imported to your workspace. When importing a packge, one turns that directory path into a Python name space and that gives access to the modules and subdirectories of that path. "
     ]
    },
    {
     "cell_type": "code",
     "collapsed": false,
     "input": [
      "import os\n",
      "package_path=os.path.join(s[0],'scripts', 'book_code', 'code')\n",
      "sys.path.append(package_path)\n",
      "sys.path"
     ],
     "language": "python",
     "metadata": {},
     "outputs": [
      {
       "output_type": "pyout",
       "prompt_number": 41,
       "text": [
        "['',\n",
        " 'C:\\\\Windows\\\\system32\\\\python27.zip',\n",
        " 'C:\\\\Python27\\\\DLLs',\n",
        " 'C:\\\\Python27\\\\lib',\n",
        " 'C:\\\\Python27\\\\lib\\\\plat-win',\n",
        " 'C:\\\\Python27\\\\lib\\\\lib-tk',\n",
        " 'C:\\\\Python27',\n",
        " 'C:\\\\Python27\\\\lib\\\\site-packages',\n",
        " 'C:\\\\Python27\\\\lib\\\\site-packages\\\\FontTools',\n",
        " 'C:\\\\Python27\\\\lib\\\\site-packages\\\\itk',\n",
        " 'C:\\\\Python27\\\\lib\\\\site-packages\\\\win32',\n",
        " 'C:\\\\Python27\\\\lib\\\\site-packages\\\\win32\\\\lib',\n",
        " 'C:\\\\Python27\\\\lib\\\\site-packages\\\\Pythonwin',\n",
        " 'C:\\\\Python27\\\\lib\\\\site-packages\\\\wx-2.8-msw-unicode',\n",
        " 'C:\\\\Python27\\\\lib\\\\site-packages\\\\IPython\\\\extensions',\n",
        " 'scripts',\n",
        " 'C:\\\\Users\\\\User\\\\Dropbox\\\\UWF\\\\spring2014\\\\Python\\\\UWF_2014_spring_COP3990C-2507\\\\notebooks\\\\scripts',\n",
        " 'C:\\\\Users\\\\User\\\\Dropbox\\\\UWF\\\\spring2014\\\\Python\\\\UWF_2014_spring_COP3990C-2507\\\\notebooks\\\\scripts\\\\book_code\\\\code']"
       ]
      }
     ],
     "prompt_number": 41
    },
    {
     "cell_type": "code",
     "collapsed": false,
     "input": [
      "import dir1.dir2.mod"
     ],
     "language": "python",
     "metadata": {},
     "outputs": [
      {
       "output_type": "stream",
       "stream": "stdout",
       "text": [
        "dir1 init\n",
        "dir2 init\n",
        "in mod.py\n"
       ]
      }
     ],
     "prompt_number": 42
    },
    {
     "cell_type": "code",
     "collapsed": false,
     "input": [
      "mod.z"
     ],
     "language": "python",
     "metadata": {},
     "outputs": [
      {
       "ename": "NameError",
       "evalue": "name 'mod' is not defined",
       "output_type": "pyerr",
       "traceback": [
        "\u001b[1;31m---------------------------------------------------------------------------\u001b[0m\n\u001b[1;31mNameError\u001b[0m                                 Traceback (most recent call last)",
        "\u001b[1;32m<ipython-input-43-b6de10f0b258>\u001b[0m in \u001b[0;36m<module>\u001b[1;34m()\u001b[0m\n\u001b[1;32m----> 1\u001b[1;33m \u001b[0mmod\u001b[0m\u001b[1;33m.\u001b[0m\u001b[0mz\u001b[0m\u001b[1;33m\u001b[0m\u001b[0m\n\u001b[0m",
        "\u001b[1;31mNameError\u001b[0m: name 'mod' is not defined"
       ]
      }
     ],
     "prompt_number": 43
    },
    {
     "cell_type": "code",
     "collapsed": false,
     "input": [
      "dir1.dir2.mod.z"
     ],
     "language": "python",
     "metadata": {},
     "outputs": [
      {
       "output_type": "pyout",
       "prompt_number": 44,
       "text": [
        "3"
       ]
      }
     ],
     "prompt_number": 44
    },
    {
     "cell_type": "code",
     "collapsed": false,
     "input": [
      "dir1.x"
     ],
     "language": "python",
     "metadata": {},
     "outputs": [
      {
       "metadata": {},
       "output_type": "pyout",
       "prompt_number": 59,
       "text": [
        "1"
       ]
      }
     ],
     "prompt_number": 59
    },
    {
     "cell_type": "code",
     "collapsed": false,
     "input": [
      "dir1.dir2.y"
     ],
     "language": "python",
     "metadata": {},
     "outputs": [
      {
       "metadata": {},
       "output_type": "pyout",
       "prompt_number": 60,
       "text": [
        "2"
       ]
      }
     ],
     "prompt_number": 60
    },
    {
     "cell_type": "code",
     "collapsed": false,
     "input": [
      "import dir1.dir2.mod as mod"
     ],
     "language": "python",
     "metadata": {},
     "outputs": [],
     "prompt_number": 45
    },
    {
     "cell_type": "code",
     "collapsed": false,
     "input": [
      "mod.z"
     ],
     "language": "python",
     "metadata": {},
     "outputs": [
      {
       "output_type": "pyout",
       "prompt_number": 46,
       "text": [
        "3"
       ]
      }
     ],
     "prompt_number": 46
    },
    {
     "cell_type": "code",
     "collapsed": false,
     "input": [
      "dir1.x"
     ],
     "language": "python",
     "metadata": {},
     "outputs": [
      {
       "output_type": "pyout",
       "prompt_number": 47,
       "text": [
        "1"
       ]
      }
     ],
     "prompt_number": 47
    },
    {
     "cell_type": "code",
     "collapsed": false,
     "input": [
      "reload(dir1.dir2.mod)\n"
     ],
     "language": "python",
     "metadata": {},
     "outputs": [
      {
       "output_type": "stream",
       "stream": "stdout",
       "text": [
        "in mod.py\n"
       ]
      },
      {
       "output_type": "pyout",
       "prompt_number": 48,
       "text": [
        "<module 'dir1.dir2.mod' from 'C:\\Users\\User\\Dropbox\\UWF\\spring2014\\Python\\UWF_2014_spring_COP3990C-2507\\notebooks\\scripts\\book_code\\code\\dir1\\dir2\\mod.py'>"
       ]
      }
     ],
     "prompt_number": 48
    },
    {
     "cell_type": "code",
     "collapsed": false,
     "input": [
      "print dir1.dir2.mod.w"
     ],
     "language": "python",
     "metadata": {},
     "outputs": [
      {
       "output_type": "stream",
       "stream": "stdout",
       "text": [
        "33\n"
       ]
      }
     ],
     "prompt_number": 49
    },
    {
     "cell_type": "code",
     "collapsed": false,
     "input": [],
     "language": "python",
     "metadata": {},
     "outputs": []
    }
   ],
   "metadata": {}
  }
 ]
}