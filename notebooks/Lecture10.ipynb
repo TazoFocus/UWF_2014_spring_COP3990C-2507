{
 "metadata": {
  "name": ""
 },
 "nbformat": 3,
 "nbformat_minor": 0,
 "worksheets": [
  {
   "cells": [
    {
     "cell_type": "markdown",
     "metadata": {},
     "source": [
      "<img src=\"files/images/python-logo.png\">"
     ]
    },
    {
     "cell_type": "heading",
     "level": 1,
     "metadata": {},
     "source": [
      "Basic Filesystem Operations"
     ]
    },
    {
     "cell_type": "code",
     "collapsed": false,
     "input": [
      "# this block is just for the style sheet for the notebook\n",
      "from IPython.core.display import HTML\n",
      "def css_styling():\n",
      "    styles = open(\"styles/custom.css\", \"r\").read()\n",
      "    return HTML(styles)\n",
      "css_styling()"
     ],
     "language": "python",
     "metadata": {},
     "outputs": [
      {
       "html": [
        "<style>\r\n",
        "div.warn {    \r\n",
        "  background-color: #ff8c00;\r\n",
        "  border-color: #00008b;\r\n",
        "  border-left: 5px solid #00008b;\r\n",
        "  padding: 0.5em;\r\n",
        "}\r\n",
        "\r\n",
        "    @font-face {\r\n",
        "        font-family: \"Computer Modern\";\r\n",
        "        src: url('http://mirrors.ctan.org/fonts/cm-unicode/fonts/otf/cmunss.otf');\r\n",
        "    }\r\n",
        "    div.cell{\r\n",
        "        width:1000px;\r\n",
        "        margin-left:16% !important;\r\n",
        "        margin-right:auto;\r\n",
        "    }\r\n",
        "    h1 {\r\n",
        "        font-family: Helvetica, serif;\r\n",
        "    }\r\n",
        "    h2 {\r\n",
        "        font-family: Helvetica, serif;\r\n",
        "    }\r\n",
        "    h4{\r\n",
        "        margin-top:12px;\r\n",
        "        margin-bottom: 3px;\r\n",
        "       }\r\n",
        "    div.text_cell_render{\r\n",
        "        font-family: Computer Modern, \"Helvetica Neue\", Arial, Helvetica, Geneva, sans-serif;\r\n",
        "        line-height: 135%;\r\n",
        "        font-size: 120%;\r\n",
        "        width:600px;\r\n",
        "        margin-left:auto;\r\n",
        "        margin-right:auto;\r\n",
        "    }\r\n",
        "    .CodeMirror{\r\n",
        "            font-family: \"Source Code Pro\", source-code-pro,Consolas, monospace;\r\n",
        "    }\r\n",
        "/*    .prompt{\r\n",
        "        display: None;\r\n",
        "    }*/\r\n",
        "    .text_cell_render h5 {\r\n",
        "        font-weight: 300;\r\n",
        "        font-size: 16pt;\r\n",
        "        color: #4057A1;\r\n",
        "        font-style: italic;\r\n",
        "        margin-bottom: .5em;\r\n",
        "        margin-top: 0.5em;\r\n",
        "        display: block;\r\n",
        "    }\r\n",
        "    \r\n",
        "    .warning{\r\n",
        "        color: rgb( 240, 20, 20 )\r\n",
        "        }  \r\n",
        "</style>\r\n",
        "<script>\r\n",
        "    MathJax.Hub.Config({\r\n",
        "                        TeX: {\r\n",
        "                           extensions: [\"AMSmath.js\"]\r\n",
        "                           },\r\n",
        "                tex2jax: {\r\n",
        "                    inlineMath: [ ['$','$'], [\"\\\\(\",\"\\\\)\"] ],\r\n",
        "                    displayMath: [ ['$$','$$'], [\"\\\\[\",\"\\\\]\"] ]\r\n",
        "                },\r\n",
        "                displayAlign: 'center', // Change this to 'center' to center equations.\r\n",
        "                \"HTML-CSS\": {\r\n",
        "                    styles: {'.MathJax_Display': {\"margin\": 4}}\r\n",
        "                }\r\n",
        "        });\r\n",
        "</script>\r\n",
        "\r\n"
       ],
       "metadata": {},
       "output_type": "pyout",
       "prompt_number": 4,
       "text": [
        "<IPython.core.display.HTML at 0x1f71310>"
       ]
      }
     ],
     "prompt_number": 4
    },
    {
     "cell_type": "code",
     "collapsed": false,
     "input": [
      "import os\n",
      "import os.path"
     ],
     "language": "python",
     "metadata": {},
     "outputs": [],
     "prompt_number": 81
    },
    {
     "cell_type": "code",
     "collapsed": false,
     "input": [
      "# get the current working directory\n",
      "os.getcwd()"
     ],
     "language": "python",
     "metadata": {},
     "outputs": [
      {
       "metadata": {},
       "output_type": "pyout",
       "prompt_number": 82,
       "text": [
        "'/media/sf_User/Dropbox/UWF/spring2014/Python/UWF_2014_spring_COP3990C-2507/notebooks'"
       ]
      }
     ],
     "prompt_number": 82
    },
    {
     "cell_type": "code",
     "collapsed": false,
     "input": [
      "# get the user ID. - unix only\n",
      "os.geteuid()"
     ],
     "language": "python",
     "metadata": {},
     "outputs": [
      {
       "metadata": {},
       "output_type": "pyout",
       "prompt_number": 83,
       "text": [
        "1000"
       ]
      }
     ],
     "prompt_number": 83
    },
    {
     "cell_type": "code",
     "collapsed": false,
     "input": [
      "# get the group ID - unix only\n",
      "os.getegid()"
     ],
     "language": "python",
     "metadata": {},
     "outputs": [
      {
       "metadata": {},
       "output_type": "pyout",
       "prompt_number": 84,
       "text": [
        "1000"
       ]
      }
     ],
     "prompt_number": 84
    },
    {
     "cell_type": "code",
     "collapsed": false,
     "input": [
      "# get the group IDs - unix only\n",
      "os.getgroups()"
     ],
     "language": "python",
     "metadata": {},
     "outputs": [
      {
       "metadata": {},
       "output_type": "pyout",
       "prompt_number": 85,
       "text": [
        "[4, 24, 27, 30, 46, 108, 124, 125, 1000]"
       ]
      }
     ],
     "prompt_number": 85
    },
    {
     "cell_type": "code",
     "collapsed": false,
     "input": [
      "# get info about a path\n",
      "os.stat('scripts/')"
     ],
     "language": "python",
     "metadata": {},
     "outputs": [
      {
       "metadata": {},
       "output_type": "pyout",
       "prompt_number": 6,
       "text": [
        "posix.stat_result(st_mode=16888, st_ino=95, st_dev=22L, st_nlink=1, st_uid=0, st_gid=124, st_size=4096, st_atime=1392676639, st_mtime=1392676639, st_ctime=1392676639)"
       ]
      }
     ],
     "prompt_number": 6
    },
    {
     "cell_type": "code",
     "collapsed": false,
     "input": [
      "# get the user name\n",
      "os.getlogin()"
     ],
     "language": "python",
     "metadata": {},
     "outputs": [
      {
       "ename": "OSError",
       "evalue": "[Errno 25] Inappropriate ioctl for device",
       "output_type": "pyerr",
       "traceback": [
        "\u001b[1;31m---------------------------------------------------------------------------\u001b[0m\n\u001b[1;31mOSError\u001b[0m                                   Traceback (most recent call last)",
        "\u001b[1;32m<ipython-input-86-2afbc48e0857>\u001b[0m in \u001b[0;36m<module>\u001b[1;34m()\u001b[0m\n\u001b[0;32m      1\u001b[0m \u001b[1;31m# get the user name\u001b[0m\u001b[1;33m\u001b[0m\u001b[1;33m\u001b[0m\u001b[0m\n\u001b[1;32m----> 2\u001b[1;33m \u001b[0mos\u001b[0m\u001b[1;33m.\u001b[0m\u001b[0mgetlogin\u001b[0m\u001b[1;33m(\u001b[0m\u001b[1;33m)\u001b[0m\u001b[1;33m\u001b[0m\u001b[0m\n\u001b[0m",
        "\u001b[1;31mOSError\u001b[0m: [Errno 25] Inappropriate ioctl for device"
       ]
      }
     ],
     "prompt_number": 86
    },
    {
     "cell_type": "code",
     "collapsed": false,
     "input": [
      "os.getpid()"
     ],
     "language": "python",
     "metadata": {},
     "outputs": [
      {
       "metadata": {},
       "output_type": "pyout",
       "prompt_number": 87,
       "text": [
        "2434"
       ]
      }
     ],
     "prompt_number": 87
    },
    {
     "cell_type": "code",
     "collapsed": false,
     "input": [
      "#os.chdir('..')"
     ],
     "language": "python",
     "metadata": {},
     "outputs": [],
     "prompt_number": 75
    },
    {
     "cell_type": "code",
     "collapsed": false,
     "input": [
      "print 'Current working directory:\\n', os.getcwd(), '\\n'\n",
      "os.chdir('scripts')\n",
      "print 'After chdir, current working directory:\\n', os.getcwd(), '\\n'\n",
      "print 'File in CWD:\\n', os.listdir('.'),'\\n'# '.' is the cwd\n",
      "os.chdir('..') # go back one directory\n",
      "print 'Current working directory:\\n', os.getcwd(), '\\n'\n"
     ],
     "language": "python",
     "metadata": {},
     "outputs": [
      {
       "output_type": "stream",
       "stream": "stdout",
       "text": [
        "Current working directory:\n",
        "/media/sf_User/Dropbox/UWF/spring2014/Python/UWF_2014_spring_COP3990C-2507/notebooks \n",
        "\n",
        "After chdir, current working directory:\n",
        "/media/sf_User/Dropbox/UWF/spring2014/Python/UWF_2014_spring_COP3990C-2507/notebooks/scripts \n",
        "\n",
        "File in CWD:\n",
        "['book_code', 'cli.py', 'cli.pyc', 'dir0', 'gen_random_csv_file.py', 'hw01-solutions', 'hw02-solutions', 'hw03-solutions', 'menu.xml', 'myfile.py', 'myutils', 'script.py', 'script0.py', 'script1.py', 'script1.pyc', 'script2.py', 'test.py', 'test_input.py', 'test_script.py', 'test_script.txt', 'threenames.py'] \n",
        "\n",
        "Current working directory:\n",
        "/media/sf_User/Dropbox/UWF/spring2014/Python/UWF_2014_spring_COP3990C-2507/notebooks \n",
        "\n"
       ]
      }
     ],
     "prompt_number": 89
    },
    {
     "cell_type": "code",
     "collapsed": false,
     "input": [
      "# check is directory exists\n",
      "os.path.exists('test')"
     ],
     "language": "python",
     "metadata": {},
     "outputs": [
      {
       "metadata": {},
       "output_type": "pyout",
       "prompt_number": 90,
       "text": [
        "False"
       ]
      }
     ],
     "prompt_number": 90
    },
    {
     "cell_type": "code",
     "collapsed": false,
     "input": [
      "# create a directory \n",
      "os.mkdir('test')"
     ],
     "language": "python",
     "metadata": {},
     "outputs": [
      {
       "ename": "OSError",
       "evalue": "[Errno 17] File exists: 'test'",
       "output_type": "pyerr",
       "traceback": [
        "\u001b[1;31m---------------------------------------------------------------------------\u001b[0m\n\u001b[1;31mOSError\u001b[0m                                   Traceback (most recent call last)",
        "\u001b[1;32m<ipython-input-92-c9ec82920df9>\u001b[0m in \u001b[0;36m<module>\u001b[1;34m()\u001b[0m\n\u001b[0;32m      1\u001b[0m \u001b[1;31m# create a directory\u001b[0m\u001b[1;33m\u001b[0m\u001b[1;33m\u001b[0m\u001b[0m\n\u001b[1;32m----> 2\u001b[1;33m \u001b[0mos\u001b[0m\u001b[1;33m.\u001b[0m\u001b[0mmkdir\u001b[0m\u001b[1;33m(\u001b[0m\u001b[1;34m'test'\u001b[0m\u001b[1;33m)\u001b[0m\u001b[1;33m\u001b[0m\u001b[0m\n\u001b[0m",
        "\u001b[1;31mOSError\u001b[0m: [Errno 17] File exists: 'test'"
       ]
      }
     ],
     "prompt_number": 92
    },
    {
     "cell_type": "code",
     "collapsed": false,
     "input": [
      "# check is directory exists\n",
      "os.path.exists('test')"
     ],
     "language": "python",
     "metadata": {},
     "outputs": [
      {
       "metadata": {},
       "output_type": "pyout",
       "prompt_number": 93,
       "text": [
        "True"
       ]
      }
     ],
     "prompt_number": 93
    },
    {
     "cell_type": "code",
     "collapsed": false,
     "input": [
      "# get the absolute path \n",
      "os.path.abspath('.') # . is the local directory"
     ],
     "language": "python",
     "metadata": {},
     "outputs": [
      {
       "metadata": {},
       "output_type": "pyout",
       "prompt_number": 94,
       "text": [
        "'/media/sf_User/Dropbox/UWF/spring2014/Python/UWF_2014_spring_COP3990C-2507/notebooks'"
       ]
      }
     ],
     "prompt_number": 94
    },
    {
     "cell_type": "code",
     "collapsed": false,
     "input": [
      "# get the basename of a file\n",
      "os.path.basename('/1/2/3/4/5/scripts/gen_random_csv_file.py')"
     ],
     "language": "python",
     "metadata": {},
     "outputs": [
      {
       "metadata": {},
       "output_type": "pyout",
       "prompt_number": 95,
       "text": [
        "'gen_random_csv_file.py'"
       ]
      }
     ],
     "prompt_number": 95
    },
    {
     "cell_type": "code",
     "collapsed": false,
     "input": [
      "# get the directory name of a file\n",
      "os.path.dirname('/1/2/3/4/5/scripts/gen_random_csv_file.py')"
     ],
     "language": "python",
     "metadata": {},
     "outputs": [
      {
       "metadata": {},
       "output_type": "pyout",
       "prompt_number": 96,
       "text": [
        "'/1/2/3/4/5/scripts'"
       ]
      }
     ],
     "prompt_number": 96
    },
    {
     "cell_type": "code",
     "collapsed": false,
     "input": [
      "# check if a path exists\n",
      "os.path.exists('scripts')"
     ],
     "language": "python",
     "metadata": {},
     "outputs": [
      {
       "metadata": {},
       "output_type": "pyout",
       "prompt_number": 97,
       "text": [
        "True"
       ]
      }
     ],
     "prompt_number": 97
    },
    {
     "cell_type": "code",
     "collapsed": false,
     "input": [
      "# check if a path exists\n",
      "os.path.exists('scripts/gen_random_csv_file.py')"
     ],
     "language": "python",
     "metadata": {},
     "outputs": [
      {
       "metadata": {},
       "output_type": "pyout",
       "prompt_number": 98,
       "text": [
        "True"
       ]
      }
     ],
     "prompt_number": 98
    },
    {
     "cell_type": "code",
     "collapsed": false,
     "input": [
      "# check if a path exists\n",
      "os.path.exists('scripts/gen_random_csv_file')"
     ],
     "language": "python",
     "metadata": {},
     "outputs": [
      {
       "metadata": {},
       "output_type": "pyout",
       "prompt_number": 99,
       "text": [
        "False"
       ]
      }
     ],
     "prompt_number": 99
    },
    {
     "cell_type": "code",
     "collapsed": false,
     "input": [
      "# expand ~ and replace it with the home directory\n",
      "os.path.expanduser('~/Dropbox/UWF')"
     ],
     "language": "python",
     "metadata": {},
     "outputs": [
      {
       "metadata": {},
       "output_type": "pyout",
       "prompt_number": 28,
       "text": [
        "'/home/jimmy/Dropbox/UWF'"
       ]
      }
     ],
     "prompt_number": 28
    },
    {
     "cell_type": "code",
     "collapsed": false,
     "input": [
      "# expand system variables\n",
      "os.path.expandvars('$HOME')"
     ],
     "language": "python",
     "metadata": {},
     "outputs": [
      {
       "metadata": {},
       "output_type": "pyout",
       "prompt_number": 29,
       "text": [
        "'/home/jimmy'"
       ]
      }
     ],
     "prompt_number": 29
    },
    {
     "cell_type": "code",
     "collapsed": false,
     "input": [
      "# get the latest access time to a path\n",
      "os.path.getatime('scripts/gen_random_csv_file.py')"
     ],
     "language": "python",
     "metadata": {},
     "outputs": [
      {
       "metadata": {},
       "output_type": "pyout",
       "prompt_number": 30,
       "text": [
        "1392073948.900669"
       ]
      }
     ],
     "prompt_number": 30
    },
    {
     "cell_type": "code",
     "collapsed": false,
     "input": [
      "# get the latest modification time of a path\n",
      "os.path.getmtime('scripts/gen_random_csv_file.py')"
     ],
     "language": "python",
     "metadata": {},
     "outputs": [
      {
       "metadata": {},
       "output_type": "pyout",
       "prompt_number": 31,
       "text": [
        "1391718655.0"
       ]
      }
     ],
     "prompt_number": 31
    },
    {
     "cell_type": "code",
     "collapsed": false,
     "input": [
      "# get file size in bytes\n",
      "os.path.getsize('scripts/gen_random_csv_file.py')"
     ],
     "language": "python",
     "metadata": {},
     "outputs": [
      {
       "metadata": {},
       "output_type": "pyout",
       "prompt_number": 32,
       "text": [
        "272"
       ]
      }
     ],
     "prompt_number": 32
    },
    {
     "cell_type": "code",
     "collapsed": false,
     "input": [
      "# check is path is absolute\n",
      "os.path.isabs('scripts/gen_random_csv_file.py')"
     ],
     "language": "python",
     "metadata": {},
     "outputs": [
      {
       "metadata": {},
       "output_type": "pyout",
       "prompt_number": 101,
       "text": [
        "False"
       ]
      }
     ],
     "prompt_number": 101
    },
    {
     "cell_type": "code",
     "collapsed": false,
     "input": [
      "# is the path a file?\n",
      "os.path.isfile('scripts/gen_random_csv_file.py')"
     ],
     "language": "python",
     "metadata": {},
     "outputs": [
      {
       "metadata": {},
       "output_type": "pyout",
       "prompt_number": 102,
       "text": [
        "True"
       ]
      }
     ],
     "prompt_number": 102
    },
    {
     "cell_type": "code",
     "collapsed": false,
     "input": [
      "# is the path a file?\n",
      "os.path.isfile('scripts')"
     ],
     "language": "python",
     "metadata": {},
     "outputs": [
      {
       "metadata": {},
       "output_type": "pyout",
       "prompt_number": 103,
       "text": [
        "False"
       ]
      }
     ],
     "prompt_number": 103
    },
    {
     "cell_type": "code",
     "collapsed": false,
     "input": [
      "# is the path a directory?\n",
      "os.path.isdir('scripts')"
     ],
     "language": "python",
     "metadata": {},
     "outputs": [
      {
       "metadata": {},
       "output_type": "pyout",
       "prompt_number": 104,
       "text": [
        "True"
       ]
      }
     ],
     "prompt_number": 104
    },
    {
     "cell_type": "code",
     "collapsed": false,
     "input": [
      "# check if file descriptors point to the same file\n",
      "#fin1 = open('abc', wb')\n",
      "#fin2 = open('ac', wb')\n",
      "\n",
      "os.path.sameopenfile(fin1, fin2)"
     ],
     "language": "python",
     "metadata": {},
     "outputs": [
      {
       "metadata": {},
       "output_type": "pyout",
       "prompt_number": 42,
       "text": [
        "<function posixpath.sameopenfile>"
       ]
      }
     ],
     "prompt_number": 42
    },
    {
     "cell_type": "code",
     "collapsed": false,
     "input": [
      "# split up to the extension of the file\n",
      "os.path.splitext('scripts/gen_random_csv_file.py')"
     ],
     "language": "python",
     "metadata": {},
     "outputs": [
      {
       "metadata": {},
       "output_type": "pyout",
       "prompt_number": 43,
       "text": [
        "('scripts/gen_random_csv_file', '.py')"
       ]
      }
     ],
     "prompt_number": 43
    },
    {
     "cell_type": "code",
     "collapsed": false,
     "input": [
      "# here we have no extension\n",
      "os.path.splitext('scripts')"
     ],
     "language": "python",
     "metadata": {},
     "outputs": [
      {
       "metadata": {},
       "output_type": "pyout",
       "prompt_number": 44,
       "text": [
        "('scripts', '')"
       ]
      }
     ],
     "prompt_number": 44
    },
    {
     "cell_type": "code",
     "collapsed": false,
     "input": [
      "# walk through a directory \n",
      "def visit(arg,dir_name,names):\n",
      "    print dir_name, \" :\\t %d files\" %len(names)\n",
      "    \n",
      "    \n",
      "os.path.walk(os.path.expanduser('scripts/'), visit, None)"
     ],
     "language": "python",
     "metadata": {},
     "outputs": [
      {
       "output_type": "stream",
       "stream": "stdout",
       "text": [
        "scripts/  :\t 21 files\n",
        "scripts/book_code  :\t 3 files\n",
        "scripts/book_code/code  :\t 366 files\n",
        "scripts/book_code/code/__pycache__  :\t 9 files\n",
        "scripts/book_code/code/py2x"
       ]
      },
      {
       "output_type": "stream",
       "stream": "stdout",
       "text": [
        "  :\t 1 files\n",
        "scripts/book_code/code/py3x  :\t 2 files\n",
        "scripts/book_code/code/py3x/__pycache__  :\t 0 files\n",
        "scripts/book_code/code/pydoc  :\t 2 files\n",
        "scripts/book_code/code/mypkg"
       ]
      },
      {
       "output_type": "stream",
       "stream": "stdout",
       "text": [
        "  :\t 3 files\n",
        "scripts/book_code/code/mypkg/__pycache__  :\t 0 files\n",
        "scripts/book_code/code/ns  :\t 2 files\n",
        "scripts/book_code/code/ns/dir1  :\t 1 files\n",
        "scripts/book_code/code/ns/dir1/sub  :\t 3 files\n",
        "scripts/book_code/code/ns/dir1/sub/pkg  :\t 2 files\n",
        "scripts/book_code/code/ns/dir1/sub/pkg/__pycache__"
       ]
      },
      {
       "output_type": "stream",
       "stream": "stdout",
       "text": [
        "  :\t 0 files\n",
        "scripts/book_code/code/ns/dir1/sub/__pycache__  :\t 0 files\n",
        "scripts/book_code/code/ns/dir2  :\t 1 files\n",
        "scripts/book_code/code/ns/dir2/sub  :\t 3 files\n",
        "scripts/book_code/code/ns/dir2/sub/lower  :\t 2 files\n",
        "scripts/book_code/code/ns/dir2/sub/lower/__pycache__  :\t 0 files\n",
        "scripts/book_code/code/ns/dir2/sub/__pycache__  :\t 0 files\n",
        "scripts/book_code/code/ns2"
       ]
      },
      {
       "output_type": "stream",
       "stream": "stdout",
       "text": [
        "  :\t 0 files\n",
        "scripts/book_code/code/ns3  :\t 1 files\n",
        "scripts/book_code/code/ns3/dir  :\t 2 files\n",
        "scripts/book_code/code/ns3/dir/__pycache__  :\t 0 files\n",
        "scripts/book_code/code/ns4  :\t 2 files\n",
        "scripts/book_code/code/ns4/dir1  :\t 1 files\n",
        "scripts/book_code/code/ns4/dir1/sub  :\t 0 files\n",
        "scripts/book_code/code/ns4/dir2  :\t 1 files\n",
        "scripts/book_code/code/ns4/dir2/sub  :\t 2 files\n",
        "scripts/book_code/code/ns4/dir2/sub/__pycache__  :\t 0 files\n",
        "scripts/book_code/code/pkg"
       ]
      },
      {
       "output_type": "stream",
       "stream": "stdout",
       "text": [
        "  :\t 5 files\n",
        "scripts/book_code/code/pkg/__pycache__  :\t 0 files\n",
        "scripts/book_code/code/a1  :\t 1 files\n",
        "scripts/book_code/code/a1/b  :\t 3 files\n",
        "scripts/book_code/code/a1/b/__pycache__  :\t 0 files\n",
        "scripts/book_code/code/dir1"
       ]
      },
      {
       "output_type": "stream",
       "stream": "stdout",
       "text": [
        "  :\t 4 files\n",
        "scripts/book_code/code/dir1/dir2  :\t 5 files\n",
        "scripts/book_code/code/dir1/dir2/__pycache__  :\t 0 files\n",
        "scripts/book_code/code/dir1/__pycache__  :\t 0 files\n",
        "scripts/book_code/code/dualpkg  :\t 5 files\n",
        "scripts/book_code/code/dualpkg/__pycache__  :\t 0 files\n",
        "scripts/book_code/__admin__"
       ]
      },
      {
       "output_type": "stream",
       "stream": "stdout",
       "text": [
        "  :\t 10 files\n",
        "scripts/book_code/__admin__/__pycache__  :\t 2 files\n",
        "scripts/dir0  :\t 4 files\n",
        "scripts/dir0/dir1  :\t 3 files\n",
        "scripts/dir0/dir1/dir2  :\t 3 files\n",
        "scripts/dir0/dir1/dir2/dir3  :\t 2 files\n",
        "scripts/hw01-solutions"
       ]
      },
      {
       "output_type": "stream",
       "stream": "stdout",
       "text": [
        "  :\t 1 files\n",
        "scripts/hw02-solutions  :\t 5 files\n",
        "scripts/hw03-solutions  :\t 8 files\n",
        "scripts/myutils  :\t 0 files\n"
       ]
      }
     ],
     "prompt_number": 105
    },
    {
     "cell_type": "code",
     "collapsed": false,
     "input": [
      "# list files in a directory according to an extension\n",
      "import glob\n",
      "sorted(glob.glob('scripts/t*'))"
     ],
     "language": "python",
     "metadata": {},
     "outputs": [
      {
       "metadata": {},
       "output_type": "pyout",
       "prompt_number": 106,
       "text": [
        "['scripts/test.py',\n",
        " 'scripts/test_input.py',\n",
        " 'scripts/test_script.py',\n",
        " 'scripts/test_script.txt',\n",
        " 'scripts/threenames.py']"
       ]
      }
     ],
     "prompt_number": 106
    },
    {
     "cell_type": "code",
     "collapsed": false,
     "input": [
      "# Same as above\n",
      "x=glob.iglob('scripts/*.py')"
     ],
     "language": "python",
     "metadata": {},
     "outputs": [],
     "prompt_number": 107
    },
    {
     "cell_type": "code",
     "collapsed": false,
     "input": [
      "# now list the files\n",
      "for f in x:\n",
      "    print f"
     ],
     "language": "python",
     "metadata": {},
     "outputs": [
      {
       "output_type": "stream",
       "stream": "stdout",
       "text": [
        "scripts/cli.py\n",
        "scripts/gen_random_csv_file.py\n",
        "scripts/myfile.py\n",
        "scripts/script.py\n",
        "scripts/script0.py\n",
        "scripts/script1.py\n",
        "scripts/script2.py\n",
        "scripts/test.py\n",
        "scripts/test_input.py\n",
        "scripts/test_script.py\n",
        "scripts/threenames.py\n"
       ]
      }
     ],
     "prompt_number": 108
    },
    {
     "cell_type": "code",
     "collapsed": false,
     "input": [],
     "language": "python",
     "metadata": {},
     "outputs": []
    }
   ],
   "metadata": {}
  }
 ]
}