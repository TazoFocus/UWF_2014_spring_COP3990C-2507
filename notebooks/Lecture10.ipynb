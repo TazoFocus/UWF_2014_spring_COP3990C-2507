{
 "metadata": {
  "name": ""
 },
 "nbformat": 3,
 "nbformat_minor": 0,
 "worksheets": [
  {
   "cells": [
    {
     "cell_type": "markdown",
     "metadata": {},
     "source": [
      "<img src=\"files/images/python-logo.png\">"
     ]
    },
    {
     "cell_type": "heading",
     "level": 1,
     "metadata": {},
     "source": [
      "Basic Filesystem Operations"
     ]
    },
    {
     "cell_type": "code",
     "collapsed": false,
     "input": [
      "# this block is just for the style sheet for the notebook\n",
      "from IPython.core.display import HTML\n",
      "def css_styling():\n",
      "    styles = open(\"styles/custom.css\", \"r\").read()\n",
      "    return HTML(styles)\n",
      "css_styling()"
     ],
     "language": "python",
     "metadata": {},
     "outputs": [
      {
       "html": [
        "<style>\n",
        "div.warn {    \n",
        "  background-color: #ff8c00;\n",
        "  border-color: #00008b;\n",
        "  border-left: 5px solid #00008b;\n",
        "  padding: 0.5em;\n",
        "}\n",
        "\n",
        "    @font-face {\n",
        "        font-family: \"Computer Modern\";\n",
        "        src: url('http://mirrors.ctan.org/fonts/cm-unicode/fonts/otf/cmunss.otf');\n",
        "    }\n",
        "    div.cell{\n",
        "        width:800px;\n",
        "        margin-left:16% !important;\n",
        "        margin-right:auto;\n",
        "    }\n",
        "    h1 {\n",
        "        font-family: Helvetica, serif;\n",
        "    }\n",
        "    h2 {\n",
        "        font-family: Helvetica, serif;\n",
        "    }\n",
        "    h4{\n",
        "        margin-top:12px;\n",
        "        margin-bottom: 3px;\n",
        "       }\n",
        "    div.text_cell_render{\n",
        "        font-family: Computer Modern, \"Helvetica Neue\", Arial, Helvetica, Geneva, sans-serif;\n",
        "        line-height: 135%;\n",
        "        font-size: 120%;\n",
        "        width:600px;\n",
        "        margin-left:auto;\n",
        "        margin-right:auto;\n",
        "    }\n",
        "    .CodeMirror{\n",
        "            font-family: \"Source Code Pro\", source-code-pro,Consolas, monospace;\n",
        "    }\n",
        "/*    .prompt{\n",
        "        display: None;\n",
        "    }*/\n",
        "    .text_cell_render h5 {\n",
        "        font-weight: 300;\n",
        "        font-size: 16pt;\n",
        "        color: #4057A1;\n",
        "        font-style: italic;\n",
        "        margin-bottom: .5em;\n",
        "        margin-top: 0.5em;\n",
        "        display: block;\n",
        "    }\n",
        "    \n",
        "    .warning{\n",
        "        color: rgb( 240, 20, 20 )\n",
        "        }  \n",
        "</style>\n",
        "<script>\n",
        "    MathJax.Hub.Config({\n",
        "                        TeX: {\n",
        "                           extensions: [\"AMSmath.js\"]\n",
        "                           },\n",
        "                tex2jax: {\n",
        "                    inlineMath: [ ['$','$'], [\"\\\\(\",\"\\\\)\"] ],\n",
        "                    displayMath: [ ['$$','$$'], [\"\\\\[\",\"\\\\]\"] ]\n",
        "                },\n",
        "                displayAlign: 'center', // Change this to 'center' to center equations.\n",
        "                \"HTML-CSS\": {\n",
        "                    styles: {'.MathJax_Display': {\"margin\": 4}}\n",
        "                }\n",
        "        });\n",
        "</script>\n",
        "\n"
       ],
       "output_type": "pyout",
       "prompt_number": 5,
       "text": [
        "<IPython.core.display.HTML at 0x41d23f0>"
       ]
      }
     ],
     "prompt_number": 5
    },
    {
     "cell_type": "code",
     "collapsed": false,
     "input": [
      "import os\n",
      "import os.path"
     ],
     "language": "python",
     "metadata": {},
     "outputs": [],
     "prompt_number": 1
    },
    {
     "cell_type": "code",
     "collapsed": false,
     "input": [
      "# get the current working directory\n",
      "os.getcwd()"
     ],
     "language": "python",
     "metadata": {},
     "outputs": [
      {
       "metadata": {},
       "output_type": "pyout",
       "prompt_number": 2,
       "text": [
        "'/media/sf_User/Dropbox/UWF/spring2014/Python/UWF_2014_spring_COP3990C-2507/notebooks'"
       ]
      }
     ],
     "prompt_number": 2
    },
    {
     "cell_type": "code",
     "collapsed": false,
     "input": [
      "# get the user ID. - unix only\n",
      "os.geteuid()"
     ],
     "language": "python",
     "metadata": {},
     "outputs": [
      {
       "metadata": {},
       "output_type": "pyout",
       "prompt_number": 3,
       "text": [
        "1000"
       ]
      }
     ],
     "prompt_number": 3
    },
    {
     "cell_type": "code",
     "collapsed": false,
     "input": [
      "# get the group ID - unix only\n",
      "os.getegid()"
     ],
     "language": "python",
     "metadata": {},
     "outputs": [
      {
       "metadata": {},
       "output_type": "pyout",
       "prompt_number": 4,
       "text": [
        "1000"
       ]
      }
     ],
     "prompt_number": 4
    },
    {
     "cell_type": "code",
     "collapsed": false,
     "input": [
      "# get the group IDs - unix only\n",
      "os.getgroups()"
     ],
     "language": "python",
     "metadata": {},
     "outputs": [
      {
       "metadata": {},
       "output_type": "pyout",
       "prompt_number": 5,
       "text": [
        "[4, 24, 27, 30, 46, 108, 124, 125, 1000]"
       ]
      }
     ],
     "prompt_number": 5
    },
    {
     "cell_type": "code",
     "collapsed": false,
     "input": [
      "# get info about a path\n",
      "os.stat('scripts/')"
     ],
     "language": "python",
     "metadata": {},
     "outputs": [
      {
       "metadata": {},
       "output_type": "pyout",
       "prompt_number": 6,
       "text": [
        "posix.stat_result(st_mode=16888, st_ino=95, st_dev=22L, st_nlink=1, st_uid=0, st_gid=124, st_size=4096, st_atime=1392676639, st_mtime=1392676639, st_ctime=1392676639)"
       ]
      }
     ],
     "prompt_number": 6
    },
    {
     "cell_type": "code",
     "collapsed": false,
     "input": [
      "# get the user name\n",
      "os.getlogin()"
     ],
     "language": "python",
     "metadata": {},
     "outputs": [
      {
       "ename": "OSError",
       "evalue": "[Errno 25] Inappropriate ioctl for device",
       "output_type": "pyerr",
       "traceback": [
        "\u001b[1;31m---------------------------------------------------------------------------\u001b[0m\n\u001b[1;31mOSError\u001b[0m                                   Traceback (most recent call last)",
        "\u001b[1;32m<ipython-input-56-2afbc48e0857>\u001b[0m in \u001b[0;36m<module>\u001b[1;34m()\u001b[0m\n\u001b[0;32m      1\u001b[0m \u001b[1;31m# get the user name\u001b[0m\u001b[1;33m\u001b[0m\u001b[1;33m\u001b[0m\u001b[0m\n\u001b[1;32m----> 2\u001b[1;33m \u001b[0mos\u001b[0m\u001b[1;33m.\u001b[0m\u001b[0mgetlogin\u001b[0m\u001b[1;33m(\u001b[0m\u001b[1;33m)\u001b[0m\u001b[1;33m\u001b[0m\u001b[0m\n\u001b[0m",
        "\u001b[1;31mOSError\u001b[0m: [Errno 25] Inappropriate ioctl for device"
       ]
      }
     ],
     "prompt_number": 56
    },
    {
     "cell_type": "code",
     "collapsed": false,
     "input": [
      "os.getpid()"
     ],
     "language": "python",
     "metadata": {},
     "outputs": [
      {
       "metadata": {},
       "output_type": "pyout",
       "prompt_number": 57,
       "text": [
        "2434"
       ]
      }
     ],
     "prompt_number": 57
    },
    {
     "cell_type": "code",
     "collapsed": false,
     "input": [
      "# create a directory \n",
      "os.mkdir('test')"
     ],
     "language": "python",
     "metadata": {},
     "outputs": [],
     "prompt_number": 54
    },
    {
     "cell_type": "code",
     "collapsed": false,
     "input": [
      "# check is directory exists\n",
      "os.path.exists('test')"
     ],
     "language": "python",
     "metadata": {},
     "outputs": [
      {
       "metadata": {},
       "output_type": "pyout",
       "prompt_number": 55,
       "text": [
        "True"
       ]
      }
     ],
     "prompt_number": 55
    },
    {
     "cell_type": "code",
     "collapsed": false,
     "input": [
      "# get the absolute path \n",
      "os.path.abspath('.') # . is the local directory"
     ],
     "language": "python",
     "metadata": {},
     "outputs": [
      {
       "metadata": {},
       "output_type": "pyout",
       "prompt_number": 22,
       "text": [
        "'/media/sf_User/Dropbox/UWF/spring2014/Python/UWF_2014_spring_COP3990C-2507/notebooks'"
       ]
      }
     ],
     "prompt_number": 22
    },
    {
     "cell_type": "code",
     "collapsed": false,
     "input": [
      "# get the basename of a file\n",
      "os.path.basename('scripts/gen_random_csv_file.py')"
     ],
     "language": "python",
     "metadata": {},
     "outputs": [
      {
       "metadata": {},
       "output_type": "pyout",
       "prompt_number": 23,
       "text": [
        "'gen_random_csv_file.py'"
       ]
      }
     ],
     "prompt_number": 23
    },
    {
     "cell_type": "code",
     "collapsed": false,
     "input": [
      "# get the directory name of a file\n",
      "os.path.dirname('/home/aliean/Dropbox/UWF/spring2014/python/UWF_2014_spring_COP3990C-2507/notebooks/scripts/gen_random_csv_file.py')"
     ],
     "language": "python",
     "metadata": {},
     "outputs": [
      {
       "metadata": {},
       "output_type": "pyout",
       "prompt_number": 24,
       "text": [
        "'/home/aliean/Dropbox/UWF/spring2014/python/UWF_2014_spring_COP3990C-2507/notebooks/scripts'"
       ]
      }
     ],
     "prompt_number": 24
    },
    {
     "cell_type": "code",
     "collapsed": false,
     "input": [
      "# check if a path exists\n",
      "os.path.exists('scripts')"
     ],
     "language": "python",
     "metadata": {},
     "outputs": [
      {
       "metadata": {},
       "output_type": "pyout",
       "prompt_number": 25,
       "text": [
        "True"
       ]
      }
     ],
     "prompt_number": 25
    },
    {
     "cell_type": "code",
     "collapsed": false,
     "input": [
      "# check if a path exists\n",
      "os.path.exists('scripts/gen_random_csv_file.py')"
     ],
     "language": "python",
     "metadata": {},
     "outputs": [
      {
       "metadata": {},
       "output_type": "pyout",
       "prompt_number": 26,
       "text": [
        "True"
       ]
      }
     ],
     "prompt_number": 26
    },
    {
     "cell_type": "code",
     "collapsed": false,
     "input": [
      "# check if a path exists\n",
      "os.path.exists('scripts/gen_random_csv_file')"
     ],
     "language": "python",
     "metadata": {},
     "outputs": [
      {
       "metadata": {},
       "output_type": "pyout",
       "prompt_number": 27,
       "text": [
        "False"
       ]
      }
     ],
     "prompt_number": 27
    },
    {
     "cell_type": "code",
     "collapsed": false,
     "input": [
      "# expand ~ and replace it with the home directory\n",
      "os.path.expanduser('~/Dropbox/UWF')"
     ],
     "language": "python",
     "metadata": {},
     "outputs": [
      {
       "metadata": {},
       "output_type": "pyout",
       "prompt_number": 28,
       "text": [
        "'/home/jimmy/Dropbox/UWF'"
       ]
      }
     ],
     "prompt_number": 28
    },
    {
     "cell_type": "code",
     "collapsed": false,
     "input": [
      "# expand system variables\n",
      "os.path.expandvars('$HOME')"
     ],
     "language": "python",
     "metadata": {},
     "outputs": [
      {
       "metadata": {},
       "output_type": "pyout",
       "prompt_number": 29,
       "text": [
        "'/home/jimmy'"
       ]
      }
     ],
     "prompt_number": 29
    },
    {
     "cell_type": "code",
     "collapsed": false,
     "input": [
      "# get the latest access time to a path\n",
      "os.path.getatime('scripts/gen_random_csv_file.py')"
     ],
     "language": "python",
     "metadata": {},
     "outputs": [
      {
       "metadata": {},
       "output_type": "pyout",
       "prompt_number": 30,
       "text": [
        "1392073948.900669"
       ]
      }
     ],
     "prompt_number": 30
    },
    {
     "cell_type": "code",
     "collapsed": false,
     "input": [
      "# get the latest modification time of a path\n",
      "os.path.getmtime('scripts/gen_random_csv_file.py')"
     ],
     "language": "python",
     "metadata": {},
     "outputs": [
      {
       "metadata": {},
       "output_type": "pyout",
       "prompt_number": 31,
       "text": [
        "1391718655.0"
       ]
      }
     ],
     "prompt_number": 31
    },
    {
     "cell_type": "code",
     "collapsed": false,
     "input": [
      "# get file size in bytes\n",
      "os.path.getsize('scripts/gen_random_csv_file.py')"
     ],
     "language": "python",
     "metadata": {},
     "outputs": [
      {
       "metadata": {},
       "output_type": "pyout",
       "prompt_number": 32,
       "text": [
        "272"
       ]
      }
     ],
     "prompt_number": 32
    },
    {
     "cell_type": "code",
     "collapsed": false,
     "input": [
      "# check is path is absolute\n",
      "os.path.isabs('scripts/gen_random_csv_file.py')"
     ],
     "language": "python",
     "metadata": {},
     "outputs": [
      {
       "metadata": {},
       "output_type": "pyout",
       "prompt_number": 33,
       "text": [
        "False"
       ]
      }
     ],
     "prompt_number": 33
    },
    {
     "cell_type": "code",
     "collapsed": false,
     "input": [
      "# is the path a file?\n",
      "os.path.isfile('scripts/gen_random_csv_file.py')"
     ],
     "language": "python",
     "metadata": {},
     "outputs": [
      {
       "metadata": {},
       "output_type": "pyout",
       "prompt_number": 34,
       "text": [
        "True"
       ]
      }
     ],
     "prompt_number": 34
    },
    {
     "cell_type": "code",
     "collapsed": false,
     "input": [
      "# is the path a file?\n",
      "os.path.isfile('scripts')"
     ],
     "language": "python",
     "metadata": {},
     "outputs": [
      {
       "metadata": {},
       "output_type": "pyout",
       "prompt_number": 35,
       "text": [
        "False"
       ]
      }
     ],
     "prompt_number": 35
    },
    {
     "cell_type": "code",
     "collapsed": false,
     "input": [
      "# is the path a directory?\n",
      "os.path.isdir('scripts')"
     ],
     "language": "python",
     "metadata": {},
     "outputs": [
      {
       "metadata": {},
       "output_type": "pyout",
       "prompt_number": 36,
       "text": [
        "True"
       ]
      }
     ],
     "prompt_number": 36
    },
    {
     "cell_type": "code",
     "collapsed": false,
     "input": [
      "# check if file descriptors point to the same file\n",
      "os.path.sameopenfile(fin1, fin2)"
     ],
     "language": "python",
     "metadata": {},
     "outputs": [
      {
       "metadata": {},
       "output_type": "pyout",
       "prompt_number": 42,
       "text": [
        "<function posixpath.sameopenfile>"
       ]
      }
     ],
     "prompt_number": 42
    },
    {
     "cell_type": "code",
     "collapsed": false,
     "input": [
      "# split up to the extension of the file\n",
      "os.path.splitext('scripts/gen_random_csv_file.py')"
     ],
     "language": "python",
     "metadata": {},
     "outputs": [
      {
       "metadata": {},
       "output_type": "pyout",
       "prompt_number": 43,
       "text": [
        "('scripts/gen_random_csv_file', '.py')"
       ]
      }
     ],
     "prompt_number": 43
    },
    {
     "cell_type": "code",
     "collapsed": false,
     "input": [
      "# here we have no extension\n",
      "os.path.splitext('scripts')"
     ],
     "language": "python",
     "metadata": {},
     "outputs": [
      {
       "metadata": {},
       "output_type": "pyout",
       "prompt_number": 44,
       "text": [
        "('scripts', '')"
       ]
      }
     ],
     "prompt_number": 44
    },
    {
     "cell_type": "code",
     "collapsed": false,
     "input": [
      "# walk through a directory \n",
      "def visit(arg,dir_name,names):\n",
      "    print dir_name, \" :\\t %d files\" %len(names)\n",
      "    \n",
      "    \n",
      "os.path.walk(os.path.expanduser('scripts/'), visit, None)"
     ],
     "language": "python",
     "metadata": {},
     "outputs": [
      {
       "output_type": "stream",
       "stream": "stdout",
       "text": [
        "scripts/  :\t 21 files\n",
        "scripts/book_code  :\t 3 files\n",
        "scripts/book_code/code  :\t 366 files\n",
        "scripts/book_code/code/__pycache__  :\t 9 files\n",
        "scripts/book_code/code/py2x"
       ]
      },
      {
       "output_type": "stream",
       "stream": "stdout",
       "text": [
        "  :\t 1 files\n",
        "scripts/book_code/code/py3x  :\t 2 files\n",
        "scripts/book_code/code/py3x/__pycache__  :\t 0 files\n",
        "scripts/book_code/code/pydoc  :\t 2 files\n",
        "scripts/book_code/code/mypkg"
       ]
      },
      {
       "output_type": "stream",
       "stream": "stdout",
       "text": [
        "  :\t 3 files\n",
        "scripts/book_code/code/mypkg/__pycache__  :\t 0 files\n",
        "scripts/book_code/code/ns  :\t 2 files\n",
        "scripts/book_code/code/ns/dir1  :\t 1 files\n",
        "scripts/book_code/code/ns/dir1/sub  :\t 3 files\n",
        "scripts/book_code/code/ns/dir1/sub/pkg  :\t 2 files\n",
        "scripts/book_code/code/ns/dir1/sub/pkg/__pycache__"
       ]
      },
      {
       "output_type": "stream",
       "stream": "stdout",
       "text": [
        "  :\t 0 files\n",
        "scripts/book_code/code/ns/dir1/sub/__pycache__  :\t 0 files\n",
        "scripts/book_code/code/ns/dir2  :\t 1 files\n",
        "scripts/book_code/code/ns/dir2/sub  :\t 3 files\n",
        "scripts/book_code/code/ns/dir2/sub/lower  :\t 2 files\n",
        "scripts/book_code/code/ns/dir2/sub/lower/__pycache__  :\t 0 files\n",
        "scripts/book_code/code/ns/dir2/sub/__pycache__"
       ]
      },
      {
       "output_type": "stream",
       "stream": "stdout",
       "text": [
        "  :\t 0 files\n",
        "scripts/book_code/code/ns2  :\t 0 files\n",
        "scripts/book_code/code/ns3  :\t 1 files\n",
        "scripts/book_code/code/ns3/dir  :\t 2 files\n",
        "scripts/book_code/code/ns3/dir/__pycache__  :\t 0 files\n",
        "scripts/book_code/code/ns4  :\t 2 files\n",
        "scripts/book_code/code/ns4/dir1  :\t 1 files\n",
        "scripts/book_code/code/ns4/dir1/sub  :\t 0 files\n",
        "scripts/book_code/code/ns4/dir2 "
       ]
      },
      {
       "output_type": "stream",
       "stream": "stdout",
       "text": [
        " :\t 1 files\n",
        "scripts/book_code/code/ns4/dir2/sub  :\t 2 files\n",
        "scripts/book_code/code/ns4/dir2/sub/__pycache__  :\t 0 files\n",
        "scripts/book_code/code/pkg  :\t 5 files\n",
        "scripts/book_code/code/pkg/__pycache__"
       ]
      },
      {
       "output_type": "stream",
       "stream": "stdout",
       "text": [
        "  :\t 0 files\n",
        "scripts/book_code/code/a1  :\t 1 files\n",
        "scripts/book_code/code/a1/b  :\t 3 files\n",
        "scripts/book_code/code/a1/b/__pycache__  :\t 0 files\n",
        "scripts/book_code/code/dir1"
       ]
      },
      {
       "output_type": "stream",
       "stream": "stdout",
       "text": [
        "  :\t 4 files\n",
        "scripts/book_code/code/dir1/dir2  :\t 5 files\n",
        "scripts/book_code/code/dir1/dir2/__pycache__  :\t 0 files\n",
        "scripts/book_code/code/dir1/__pycache__  :\t 0 files\n",
        "scripts/book_code/code/dualpkg  :\t 5 files\n",
        "scripts/book_code/code/dualpkg/__pycache__  :\t 0 files\n",
        "scripts/book_code/__admin__"
       ]
      },
      {
       "output_type": "stream",
       "stream": "stdout",
       "text": [
        "  :\t 10 files\n",
        "scripts/book_code/__admin__/__pycache__  :\t 2 files\n",
        "scripts/dir0  :\t 4 files\n",
        "scripts/dir0/dir1  :\t 3 files\n",
        "scripts/dir0/dir1/dir2  :\t 3 files\n",
        "scripts/dir0/dir1/dir2/dir3  :\t 2 files\n",
        "scripts/hw01-solutions"
       ]
      },
      {
       "output_type": "stream",
       "stream": "stdout",
       "text": [
        "  :\t 1 files\n",
        "scripts/hw02-solutions  :\t 5 files\n",
        "scripts/hw03-solutions  :\t 8 files\n",
        "scripts/myutils  :\t 0 files\n"
       ]
      }
     ],
     "prompt_number": 51
    },
    {
     "cell_type": "code",
     "collapsed": false,
     "input": [
      "# list files in a directory according to an extension\n",
      "import glob\n",
      "sorted(glob.glob('scripts/*.py'))"
     ],
     "language": "python",
     "metadata": {},
     "outputs": [
      {
       "metadata": {},
       "output_type": "pyout",
       "prompt_number": 52,
       "text": [
        "['scripts/cli.py',\n",
        " 'scripts/gen_random_csv_file.py',\n",
        " 'scripts/myfile.py',\n",
        " 'scripts/script.py',\n",
        " 'scripts/script0.py',\n",
        " 'scripts/script1.py',\n",
        " 'scripts/script2.py',\n",
        " 'scripts/test.py',\n",
        " 'scripts/test_input.py',\n",
        " 'scripts/test_script.py',\n",
        " 'scripts/threenames.py']"
       ]
      }
     ],
     "prompt_number": 52
    },
    {
     "cell_type": "code",
     "collapsed": false,
     "input": [
      "# Same as above\n",
      "x=glob.iglob('scripts/*.py')"
     ],
     "language": "python",
     "metadata": {},
     "outputs": [],
     "prompt_number": 58
    },
    {
     "cell_type": "code",
     "collapsed": false,
     "input": [
      "# now list the files\n",
      "for f in x:\n",
      "    print f"
     ],
     "language": "python",
     "metadata": {},
     "outputs": [
      {
       "output_type": "stream",
       "stream": "stdout",
       "text": [
        "scripts/cli.py\n",
        "scripts/gen_random_csv_file.py\n",
        "scripts/myfile.py\n",
        "scripts/script.py\n",
        "scripts/script0.py\n",
        "scripts/script1.py\n",
        "scripts/script2.py\n",
        "scripts/test.py\n",
        "scripts/test_input.py\n",
        "scripts/test_script.py\n",
        "scripts/threenames.py\n"
       ]
      }
     ],
     "prompt_number": 61
    },
    {
     "cell_type": "code",
     "collapsed": false,
     "input": [],
     "language": "python",
     "metadata": {},
     "outputs": []
    }
   ],
   "metadata": {}
  }
 ]
}