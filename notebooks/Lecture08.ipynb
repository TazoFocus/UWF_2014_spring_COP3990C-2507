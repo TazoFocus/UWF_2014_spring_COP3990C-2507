{
 "metadata": {
  "name": ""
 },
 "nbformat": 3,
 "nbformat_minor": 0,
 "worksheets": [
  {
   "cells": [
    {
     "cell_type": "markdown",
     "metadata": {},
     "source": [
      "<img src=\"files/images/python-logo.png\">"
     ]
    },
    {
     "cell_type": "heading",
     "level": 1,
     "metadata": {},
     "source": [
      "XML & Modules"
     ]
    },
    {
     "cell_type": "code",
     "collapsed": false,
     "input": [
      "# this block is just for the style sheet for the notebook\n",
      "from IPython.core.display import HTML\n",
      "def css_styling():\n",
      "    styles = open(\"styles/custom.css\", \"r\").read()\n",
      "    return HTML(styles)\n",
      "css_styling()"
     ],
     "language": "python",
     "metadata": {},
     "outputs": [
      {
       "html": [
        "<style>\n",
        "div.warn {    \n",
        "  background-color: #ff8c00;\n",
        "  border-color: #00008b;\n",
        "  border-left: 5px solid #00008b;\n",
        "  padding: 0.5em;\n",
        "}\n",
        "\n",
        "    @font-face {\n",
        "        font-family: \"Computer Modern\";\n",
        "        src: url('http://mirrors.ctan.org/fonts/cm-unicode/fonts/otf/cmunss.otf');\n",
        "    }\n",
        "    div.cell{\n",
        "        width:800px;\n",
        "        margin-left:16% !important;\n",
        "        margin-right:auto;\n",
        "    }\n",
        "    h1 {\n",
        "        font-family: Helvetica, serif;\n",
        "    }\n",
        "    h2 {\n",
        "        font-family: Helvetica, serif;\n",
        "    }\n",
        "    h4{\n",
        "        margin-top:12px;\n",
        "        margin-bottom: 3px;\n",
        "       }\n",
        "    div.text_cell_render{\n",
        "        font-family: Computer Modern, \"Helvetica Neue\", Arial, Helvetica, Geneva, sans-serif;\n",
        "        line-height: 135%;\n",
        "        font-size: 120%;\n",
        "        width:600px;\n",
        "        margin-left:auto;\n",
        "        margin-right:auto;\n",
        "    }\n",
        "    .CodeMirror{\n",
        "            font-family: \"Source Code Pro\", source-code-pro,Consolas, monospace;\n",
        "    }\n",
        "/*    .prompt{\n",
        "        display: None;\n",
        "    }*/\n",
        "    .text_cell_render h5 {\n",
        "        font-weight: 300;\n",
        "        font-size: 16pt;\n",
        "        color: #4057A1;\n",
        "        font-style: italic;\n",
        "        margin-bottom: .5em;\n",
        "        margin-top: 0.5em;\n",
        "        display: block;\n",
        "    }\n",
        "    \n",
        "    .warning{\n",
        "        color: rgb( 240, 20, 20 )\n",
        "        }  \n",
        "</style>\n",
        "<script>\n",
        "    MathJax.Hub.Config({\n",
        "                        TeX: {\n",
        "                           extensions: [\"AMSmath.js\"]\n",
        "                           },\n",
        "                tex2jax: {\n",
        "                    inlineMath: [ ['$','$'], [\"\\\\(\",\"\\\\)\"] ],\n",
        "                    displayMath: [ ['$$','$$'], [\"\\\\[\",\"\\\\]\"] ]\n",
        "                },\n",
        "                displayAlign: 'center', // Change this to 'center' to center equations.\n",
        "                \"HTML-CSS\": {\n",
        "                    styles: {'.MathJax_Display': {\"margin\": 4}}\n",
        "                }\n",
        "        });\n",
        "</script>\n",
        "\n"
       ],
       "output_type": "pyout",
       "prompt_number": 1,
       "text": [
        "<IPython.core.display.HTML at 0x42734f0>"
       ]
      }
     ],
     "prompt_number": 1
    },
    {
     "cell_type": "heading",
     "level": 5,
     "metadata": {},
     "source": [
      "XML Processing"
     ]
    },
    {
     "cell_type": "raw",
     "metadata": {},
     "source": [
      "<breakfast_menu>\n",
      "\t<food name=\"Belgian Waffles\">\n",
      "\t\t<price>$5.95</price>\n",
      "\t\t<description>two of our famous Belgian Waffles with plenty of real maple syrup</description>\n",
      "\t\t<calories>650</calories>\n",
      "\t</food>\n",
      "\t<food name=\"Strawberry Belgian Waffles\">\n",
      "\t\t<price>$7.95</price>\n",
      "\t\t<description>light Belgian waffles covered with strawberries and whipped cream</description>\n",
      "\t\t<calories>900</calories>\n",
      "\t</food>\n",
      "\t<food name=\"Berry-Berry Belgian Waffles\">\n",
      "\t\t<price>$8.95</price>\n",
      "\t\t<description>light Belgian waffles covered with an assortment of fresh berries and whipped cream</description>\n",
      "\t\t<calories>900</calories>\n",
      "\t</food>\n",
      "\t<food name=\"French Toast\">\n",
      "\t\t<price>$4.50</price>\n",
      "\t\t<description>thick slices made from our homemade sourdough bread</description>\n",
      "\t\t<calories>600</calories>\n",
      "\t</food>\n",
      "\t<food name=\"Homestyle Breakfast\">\n",
      "\t\t<price>$6.95</price>\n",
      "\t\t<description>two eggs, bacon or sausage, toast, and our ever-popular hash browns</description>\n",
      "\t\t<calories>950</calories>\n",
      "\t</food>\n",
      "</breakfast_menu>"
     ]
    },
    {
     "cell_type": "code",
     "collapsed": false,
     "input": [
      "# import the appropriate libraries\n",
      "import xml.etree.ElementTree as ET # xml processing\n"
     ],
     "language": "python",
     "metadata": {},
     "outputs": [],
     "prompt_number": 1
    },
    {
     "cell_type": "code",
     "collapsed": false,
     "input": [
      "# read the XML file\n",
      "tree = ET.parse('scripts/menu.xml')\n"
     ],
     "language": "python",
     "metadata": {},
     "outputs": [],
     "prompt_number": 2
    },
    {
     "cell_type": "code",
     "collapsed": false,
     "input": [
      "print 'tree element:\\t', tree"
     ],
     "language": "python",
     "metadata": {},
     "outputs": [
      {
       "output_type": "stream",
       "stream": "stdout",
       "text": [
        "tree element:\t<xml.etree.ElementTree.ElementTree object at 0x2b52ed0>\n"
       ]
      }
     ],
     "prompt_number": 3
    },
    {
     "cell_type": "code",
     "collapsed": false,
     "input": [
      "# get the root of the tree\n",
      "root = tree.getroot()\n"
     ],
     "language": "python",
     "metadata": {},
     "outputs": [],
     "prompt_number": 4
    },
    {
     "cell_type": "code",
     "collapsed": false,
     "input": [
      "print 'root element:\\t ', root"
     ],
     "language": "python",
     "metadata": {},
     "outputs": [
      {
       "output_type": "stream",
       "stream": "stdout",
       "text": [
        "root element:\t  <Element 'breakfast_menu' at 0x2b59650>\n"
       ]
      }
     ],
     "prompt_number": 5
    },
    {
     "cell_type": "code",
     "collapsed": false,
     "input": [
      "# here is the name of the root element\n",
      "root.tag"
     ],
     "language": "python",
     "metadata": {},
     "outputs": [
      {
       "metadata": {},
       "output_type": "pyout",
       "prompt_number": 6,
       "text": [
        "'breakfast_menu'"
       ]
      }
     ],
     "prompt_number": 6
    },
    {
     "cell_type": "code",
     "collapsed": false,
     "input": [
      "# get the children of breakfast_menu, the next level down the tree\n",
      "children = root.getchildren()"
     ],
     "language": "python",
     "metadata": {},
     "outputs": [],
     "prompt_number": 8
    },
    {
     "cell_type": "code",
     "collapsed": false,
     "input": [
      "for child in children:\n",
      "    print child.tag"
     ],
     "language": "python",
     "metadata": {},
     "outputs": [
      {
       "output_type": "stream",
       "stream": "stdout",
       "text": [
        "food\n",
        "food\n",
        "food\n",
        "food\n",
        "food\n"
       ]
      }
     ],
     "prompt_number": 9
    },
    {
     "cell_type": "code",
     "collapsed": false,
     "input": [
      "# for each child (node), get it's children and print out their names (tags)\n",
      "for child in children:\n",
      "    grand_children = child.getchildren()\n",
      "    print child.tag\n",
      "    for grand_child in grand_children:\n",
      "        print grand_child.tag"
     ],
     "language": "python",
     "metadata": {},
     "outputs": [
      {
       "output_type": "stream",
       "stream": "stdout",
       "text": [
        "food\n",
        "price\n",
        "description\n",
        "calories\n",
        "food\n",
        "price\n",
        "description\n",
        "calories\n",
        "food\n",
        "price\n",
        "description\n",
        "calories\n",
        "food\n",
        "price\n",
        "description\n",
        "calories\n",
        "food\n",
        "price\n",
        "description\n",
        "calories\n"
       ]
      }
     ],
     "prompt_number": 13
    },
    {
     "cell_type": "code",
     "collapsed": false,
     "input": [
      "# make a list of all the <food> tags\n",
      "food_tags = root.findall('food')\n",
      "print 'number of food tags = ', len(food_tags)"
     ],
     "language": "python",
     "metadata": {},
     "outputs": [
      {
       "output_type": "stream",
       "stream": "stdout",
       "text": [
        "number of food tags =  5\n"
       ]
      }
     ],
     "prompt_number": 18
    },
    {
     "cell_type": "code",
     "collapsed": false,
     "input": [
      "# print the <food> tags - it's not what you would expect\n",
      "print food_tags"
     ],
     "language": "python",
     "metadata": {},
     "outputs": [
      {
       "output_type": "stream",
       "stream": "stdout",
       "text": [
        "[<Element 'food' at 0x43964d0>, <Element 'food' at 0x43965f0>, <Element 'food' at 0x4396690>, <Element 'food' at 0x4396750>, <Element 'food' at 0x43967d0>]\n"
       ]
      }
     ],
     "prompt_number": 20
    },
    {
     "cell_type": "code",
     "collapsed": false,
     "input": [
      "# access the enties in the list\n",
      "first_food_item = food_tags[0]\n",
      "print 'the first child node is:\\t', first_food_item"
     ],
     "language": "python",
     "metadata": {},
     "outputs": [
      {
       "output_type": "stream",
       "stream": "stdout",
       "text": [
        "the first child node is:\t<Element 'food' at 0x43964d0>\n"
       ]
      }
     ],
     "prompt_number": 26
    },
    {
     "cell_type": "code",
     "collapsed": false,
     "input": [
      "# here's how we can view a child node's content\n",
      "ET.dump(first_food_item)"
     ],
     "language": "python",
     "metadata": {},
     "outputs": [
      {
       "output_type": "stream",
       "stream": "stdout",
       "text": [
        "<food name=\"Belgian Waffles\">\n",
        "\t\t<price>$5.95</price>\n",
        "\t\t<description>two of our famous Belgian Waffles with plenty of real maple syrup</description>\n",
        "\t\t<calories>650</calories>\n",
        "\t</food>\n",
        "\t\n"
       ]
      }
     ],
     "prompt_number": 24
    },
    {
     "cell_type": "code",
     "collapsed": false,
     "input": [
      "section = 'food'\n",
      "tag = 'price'\n",
      "node = root.find(section)\n",
      "subnode = node.find(tag)\n",
      "print \"Path to Price subnode of Food node:\"\n",
      "print \"Root:\", str(root), \" Node: \", node, \"Subnode: \", subnode\n",
      "print"
     ],
     "language": "python",
     "metadata": {},
     "outputs": [
      {
       "output_type": "stream",
       "stream": "stdout",
       "text": [
        "Path to Price subnode of Food node:\n",
        "Root: <Element 'breakfast_menu' at 0x4396470>  Node:  <Element 'food' at 0x43964d0> Subnode:  <Element 'price' at 0x4396510>\n",
        "\n"
       ]
      }
     ],
     "prompt_number": 27
    },
    {
     "cell_type": "code",
     "collapsed": false,
     "input": [
      "#node = root.find('food')\n",
      "#subnode = node.find('prince')\n",
      "#subsubnode = subnode.find('curr')"
     ],
     "language": "python",
     "metadata": {},
     "outputs": []
    },
    {
     "cell_type": "code",
     "collapsed": false,
     "input": [
      "#Specify the path to the 'name' attribute of the 'food' node\n",
      "node = root.find(section)\n",
      "attribute = node.attrib['name']\n",
      "print \"Path to Name attribute of Food node:\"\n",
      "print \"Root:\", str(root), \" Node: \", node, \"Attribute: \", attribute\n",
      "print"
     ],
     "language": "python",
     "metadata": {},
     "outputs": [
      {
       "output_type": "stream",
       "stream": "stdout",
       "text": [
        "Path to Name attribute of Food node:\n",
        "Root: <Element 'breakfast_menu' at 0x4396470>  Node:  <Element 'food' at 0x43964d0> Attribute:  Belgian Waffles\n",
        "\n"
       ]
      }
     ],
     "prompt_number": 28
    },
    {
     "cell_type": "code",
     "collapsed": false,
     "input": [
      "#Find the attributes of each food node\n",
      "print \"All nodes, subnodes and attributes:\" \n",
      "for node in root:\n",
      "    print node.tag, node.attrib\n",
      "    for subnode in node:\n",
      "        print subnode.tag, subnode.text\n",
      "print"
     ],
     "language": "python",
     "metadata": {},
     "outputs": [
      {
       "output_type": "stream",
       "stream": "stdout",
       "text": [
        "All nodes, subnodes and attributes:\n",
        "food {'name': 'Belgian Waffles'}\n",
        "price $5.95\n",
        "description two of our famous Belgian Waffles with plenty of real maple syrup\n",
        "calories 650\n",
        "food {'name': 'Strawberry Belgian Waffles'}\n",
        "price $7.95\n",
        "description light Belgian waffles covered with strawberries and whipped cream\n",
        "calories 900\n",
        "food {'name': 'Berry-Berry Belgian Waffles'}\n",
        "price $8.95\n",
        "description light Belgian waffles covered with an assortment of fresh berries and whipped cream\n",
        "calories 900\n",
        "food {'name': 'French Toast'}\n",
        "price $4.50\n",
        "description thick slices made from our homemade sourdough bread\n",
        "calories 600\n",
        "food {'name': 'Homestyle Breakfast'}\n",
        "price $6.95\n",
        "description two eggs, bacon or sausage, toast, and our ever-popular hash browns\n",
        "calories 950\n",
        "\n"
       ]
      }
     ],
     "prompt_number": 29
    },
    {
     "cell_type": "code",
     "collapsed": false,
     "input": [
      " #Add a new attribute to each food tag   \n",
      "for node in tree.iter(tag='food'):\n",
      "    node.set('category', 'breakfast')"
     ],
     "language": "python",
     "metadata": {},
     "outputs": [],
     "prompt_number": 31
    },
    {
     "cell_type": "code",
     "collapsed": false,
     "input": [
      "# you can search by name\n",
      "name = 'Belgian Waffles'\n",
      "for selected_name in root.findall(\"./food/[@name='%s']\" % name):\n",
      "     #print the description associated with the selected name\n",
      "     print \"Found Belgian Waffles!\"\n",
      "     print name, \":\",  selected_name.find('description').text"
     ],
     "language": "python",
     "metadata": {},
     "outputs": [
      {
       "output_type": "stream",
       "stream": "stdout",
       "text": [
        "Found Belgian Waffles!\n",
        "Belgian Waffles : two of our famous Belgian Waffles with plenty of real maple syrup\n"
       ]
      }
     ],
     "prompt_number": 30
    },
    {
     "cell_type": "code",
     "collapsed": false,
     "input": [
      "#find a specific node\n",
      "#and update a subnode\n",
      "for node in tree.iter(tag='food'):\n",
      "   if node.attrib['name'] == 'French Toast':\n",
      "      subnode = node.find('price')\n",
      "      print \"Subnode text: \", subnode.text\n",
      "      subnode.text = '$6.50'\n",
      "      print \"Modified subnode text: \",  subnode.text "
     ],
     "language": "python",
     "metadata": {},
     "outputs": [
      {
       "output_type": "stream",
       "stream": "stdout",
       "text": [
        "Subnode text:  $4.50\n",
        "Modified subnode text:  $6.50\n"
       ]
      }
     ],
     "prompt_number": 32
    },
    {
     "cell_type": "code",
     "collapsed": false,
     "input": [
      "#Add a new subelement to the root                                                                        \n",
      "new_name = 'Three-Egg Omlette'  \n",
      "new_price = '$7.95'\n",
      "new_description = 'three-egg omlette with your choice of meat, cheese and vegetables'\n",
      "new_calories = '900'                                \n",
      "food_node = ET.SubElement(root, 'food', {'name':new_name})\n",
      "price_subnode = ET.SubElement(food_node, 'price')\n",
      "price_subnode.text = new_price\n",
      "description_subnode = ET.SubElement(food_node, 'description')\n",
      "description_subnode.text = new_description\n",
      "calories_subnode = ET.SubElement(food_node, 'calories')\n",
      "calories_subnode.text = new_calories"
     ],
     "language": "python",
     "metadata": {},
     "outputs": [],
     "prompt_number": 33
    },
    {
     "cell_type": "code",
     "collapsed": false,
     "input": [
      "#<el name='x'> 4 </el>\n",
      "#<price amount='5.5' cur='$$'/>"
     ],
     "language": "python",
     "metadata": {},
     "outputs": []
    },
    {
     "cell_type": "code",
     "collapsed": false,
     "input": [
      "#Write out the modified xml     \n",
      "tree.write('outputMenu.xml') "
     ],
     "language": "python",
     "metadata": {},
     "outputs": [],
     "prompt_number": 34
    },
    {
     "cell_type": "heading",
     "level": 5,
     "metadata": {},
     "source": [
      "Python Modules"
     ]
    },
    {
     "cell_type": "markdown",
     "metadata": {},
     "source": [
      "Python searches for packages in the following order\n",
      "\n",
      "<ul>\n",
      "    <li>The home directory of the program</li>\n",
      "<li>PYTHONPATH directories (if set)</li>\n",
      "<li>Standard library directories</li>\n",
      "<li>The contents of any .pth files (if present)</li>\n",
      "<li>The site-packages home of third-party extensions</li>\n",
      "</ul>"
     ]
    },
    {
     "cell_type": "heading",
     "level": 6,
     "metadata": {},
     "source": [
      "Home directory"
     ]
    },
    {
     "cell_type": "markdown",
     "metadata": {},
     "source": [
      "This is the local directory and is searched by default"
     ]
    },
    {
     "cell_type": "heading",
     "level": 6,
     "metadata": {},
     "source": [
      "PYTHONPATH"
     ]
    },
    {
     "cell_type": "markdown",
     "metadata": {},
     "source": [
      "This is a system variable that has the location of modules on your system. Python uses the information stored in that variable to search for modules if they cannot be found in the home directory."
     ]
    },
    {
     "cell_type": "heading",
     "level": 6,
     "metadata": {},
     "source": [
      "Standard Library Directories"
     ]
    },
    {
     "cell_type": "markdown",
     "metadata": {},
     "source": [
      "This is searched automatically."
     ]
    },
    {
     "cell_type": "heading",
     "level": 6,
     "metadata": {},
     "source": [
      ".path File"
     ]
    },
    {
     "cell_type": "markdown",
     "metadata": {},
     "source": [
      "A file added to the top level Python directory that includes a path per line for the location of the packages."
     ]
    },
    {
     "cell_type": "heading",
     "level": 6,
     "metadata": {},
     "source": [
      "Site Packages Directory"
     ]
    },
    {
     "cell_type": "markdown",
     "metadata": {},
     "source": [
      "Python adds this automatically when you install 3rd party packages."
     ]
    },
    {
     "cell_type": "code",
     "collapsed": false,
     "input": [
      "# let's look at the system path\n",
      "import sys\n",
      "sys.path"
     ],
     "language": "python",
     "metadata": {},
     "outputs": [
      {
       "output_type": "pyout",
       "prompt_number": 1,
       "text": [
        "['',\n",
        " 'C:\\\\Windows\\\\system32\\\\python27.zip',\n",
        " 'c:\\\\Python27\\\\DLLs',\n",
        " 'c:\\\\Python27\\\\lib',\n",
        " 'c:\\\\Python27\\\\lib\\\\plat-win',\n",
        " 'c:\\\\Python27\\\\lib\\\\lib-tk',\n",
        " 'c:\\\\Python27',\n",
        " 'c:\\\\Python27\\\\lib\\\\site-packages',\n",
        " 'c:\\\\Python27\\\\lib\\\\site-packages\\\\FontTools',\n",
        " 'c:\\\\Python27\\\\lib\\\\site-packages\\\\itk',\n",
        " 'c:\\\\Python27\\\\lib\\\\site-packages\\\\win32',\n",
        " 'c:\\\\Python27\\\\lib\\\\site-packages\\\\win32\\\\lib',\n",
        " 'c:\\\\Python27\\\\lib\\\\site-packages\\\\Pythonwin',\n",
        " 'c:\\\\Python27\\\\lib\\\\site-packages\\\\wx-2.8-msw-unicode',\n",
        " 'c:\\\\Python27\\\\lib\\\\site-packages\\\\IPython\\\\extensions']"
       ]
      }
     ],
     "prompt_number": 1
    },
    {
     "cell_type": "code",
     "collapsed": false,
     "input": [
      "import os\n",
      "'PYTHONPATH' in os.environ"
     ],
     "language": "python",
     "metadata": {},
     "outputs": [
      {
       "output_type": "pyout",
       "prompt_number": 21,
       "text": [
        "False"
       ]
      }
     ],
     "prompt_number": 21
    },
    {
     "cell_type": "code",
     "collapsed": false,
     "input": [],
     "language": "python",
     "metadata": {},
     "outputs": [],
     "prompt_number": 22
    },
    {
     "cell_type": "code",
     "collapsed": false,
     "input": [
      "import 'scripts/book_code/code/simple'"
     ],
     "language": "python",
     "metadata": {},
     "outputs": [
      {
       "ename": "SyntaxError",
       "evalue": "invalid syntax (<ipython-input-23-fbba2fdfd1be>, line 1)",
       "output_type": "pyerr",
       "traceback": [
        "\u001b[1;36m  File \u001b[1;32m\"<ipython-input-23-fbba2fdfd1be>\"\u001b[1;36m, line \u001b[1;32m1\u001b[0m\n\u001b[1;33m    import 'scripts/book_code/code/simple'\u001b[0m\n\u001b[1;37m                                         ^\u001b[0m\n\u001b[1;31mSyntaxError\u001b[0m\u001b[1;31m:\u001b[0m invalid syntax\n"
       ]
      }
     ],
     "prompt_number": 23
    },
    {
     "cell_type": "code",
     "collapsed": false,
     "input": [
      "cd scripts"
     ],
     "language": "python",
     "metadata": {},
     "outputs": [
      {
       "output_type": "stream",
       "stream": "stdout",
       "text": [
        "C:\\Users\\User\\Dropbox\\UWF\\spring2014\\Python\\UWF_2014_spring_COP3990C-2507\\notebooks\\scripts\n"
       ]
      }
     ],
     "prompt_number": 24
    },
    {
     "cell_type": "code",
     "collapsed": false,
     "input": [
      "cd book_code/"
     ],
     "language": "python",
     "metadata": {},
     "outputs": [
      {
       "output_type": "stream",
       "stream": "stdout",
       "text": [
        "C:\\Users\\User\\Dropbox\\UWF\\spring2014\\Python\\UWF_2014_spring_COP3990C-2507\\notebooks\\scripts\\book_code\n"
       ]
      }
     ],
     "prompt_number": 25
    },
    {
     "cell_type": "code",
     "collapsed": false,
     "input": [
      "cd code/"
     ],
     "language": "python",
     "metadata": {},
     "outputs": [
      {
       "output_type": "stream",
       "stream": "stdout",
       "text": [
        "C:\\Users\\User\\Dropbox\\UWF\\spring2014\\Python\\UWF_2014_spring_COP3990C-2507\\notebooks\\scripts\\book_code\\code\n"
       ]
      }
     ],
     "prompt_number": 26
    },
    {
     "cell_type": "code",
     "collapsed": false,
     "input": [
      "import simple"
     ],
     "language": "python",
     "metadata": {},
     "outputs": [
      {
       "output_type": "stream",
       "stream": "stdout",
       "text": [
        "hello\n"
       ]
      }
     ],
     "prompt_number": 27
    },
    {
     "cell_type": "code",
     "collapsed": false,
     "input": [
      "simple.spam"
     ],
     "language": "python",
     "metadata": {},
     "outputs": [
      {
       "output_type": "pyout",
       "prompt_number": 7,
       "text": [
        "1"
       ]
      }
     ],
     "prompt_number": 7
    },
    {
     "cell_type": "code",
     "collapsed": false,
     "input": [
      "simple.spam = 2\n",
      "print simple.spam"
     ],
     "language": "python",
     "metadata": {},
     "outputs": [
      {
       "output_type": "stream",
       "stream": "stdout",
       "text": [
        "2\n"
       ]
      }
     ],
     "prompt_number": 29
    },
    {
     "cell_type": "code",
     "collapsed": false,
     "input": [
      "# later import wont change the value of the variable\n",
      "import simple"
     ],
     "language": "python",
     "metadata": {},
     "outputs": [],
     "prompt_number": 30
    },
    {
     "cell_type": "code",
     "collapsed": false,
     "input": [
      "simple.spam"
     ],
     "language": "python",
     "metadata": {},
     "outputs": [
      {
       "output_type": "pyout",
       "prompt_number": 31,
       "text": [
        "2"
       ]
      }
     ],
     "prompt_number": 31
    },
    {
     "cell_type": "code",
     "collapsed": false,
     "input": [
      "# to get back the original values from the module, reload it\n",
      "reload(simple)"
     ],
     "language": "python",
     "metadata": {},
     "outputs": [
      {
       "output_type": "stream",
       "stream": "stdout",
       "text": [
        "hello\n"
       ]
      },
      {
       "output_type": "pyout",
       "prompt_number": 32,
       "text": [
        "<module 'simple' from 'simple.pyc'>"
       ]
      }
     ],
     "prompt_number": 32
    },
    {
     "cell_type": "code",
     "collapsed": false,
     "input": [
      "simple.spam"
     ],
     "language": "python",
     "metadata": {},
     "outputs": [
      {
       "output_type": "pyout",
       "prompt_number": 33,
       "text": [
        "1"
       ]
      }
     ],
     "prompt_number": 33
    },
    {
     "cell_type": "code",
     "collapsed": false,
     "input": [
      "# let's look at the file small.py\n",
      "# x = 1\n",
      "# y = [1,2]"
     ],
     "language": "python",
     "metadata": {},
     "outputs": []
    },
    {
     "cell_type": "code",
     "collapsed": false,
     "input": [
      "import small"
     ],
     "language": "python",
     "metadata": {},
     "outputs": [],
     "prompt_number": 34
    },
    {
     "cell_type": "code",
     "collapsed": false,
     "input": [
      "print small.x\n",
      "print small.y"
     ],
     "language": "python",
     "metadata": {},
     "outputs": [
      {
       "output_type": "stream",
       "stream": "stdout",
       "text": [
        "1\n",
        "[1, 2]\n"
       ]
      }
     ],
     "prompt_number": 36
    },
    {
     "cell_type": "code",
     "collapsed": false,
     "input": [],
     "language": "python",
     "metadata": {},
     "outputs": []
    },
    {
     "cell_type": "code",
     "collapsed": false,
     "input": [
      "# load the individual attributes\n",
      "from small import x,y"
     ],
     "language": "python",
     "metadata": {},
     "outputs": [],
     "prompt_number": 38
    },
    {
     "cell_type": "code",
     "collapsed": false,
     "input": [
      "print x,y"
     ],
     "language": "python",
     "metadata": {},
     "outputs": [
      {
       "output_type": "stream",
       "stream": "stdout",
       "text": [
        "1 [1, 2]\n"
       ]
      }
     ],
     "prompt_number": 39
    },
    {
     "cell_type": "code",
     "collapsed": false,
     "input": [
      "# change the values\n",
      "x = 42\n",
      "y[0] = 42"
     ],
     "language": "python",
     "metadata": {},
     "outputs": [],
     "prompt_number": 40
    },
    {
     "cell_type": "code",
     "collapsed": false,
     "input": [
      "# import the module - the values have changed\n",
      "import small\n",
      "print small.x\n",
      "print small.y"
     ],
     "language": "python",
     "metadata": {},
     "outputs": [
      {
       "output_type": "stream",
       "stream": "stdout",
       "text": [
        "1\n",
        "[42, 2]\n"
       ]
      }
     ],
     "prompt_number": 42
    },
    {
     "cell_type": "code",
     "collapsed": false,
     "input": [
      "# import again\n",
      "from small import x,y"
     ],
     "language": "python",
     "metadata": {},
     "outputs": [],
     "prompt_number": 43
    },
    {
     "cell_type": "code",
     "collapsed": false,
     "input": [
      "# only mutable type has changed\n",
      "print x,y"
     ],
     "language": "python",
     "metadata": {},
     "outputs": [
      {
       "output_type": "stream",
       "stream": "stdout",
       "text": [
        "1 [42, 2]\n"
       ]
      }
     ],
     "prompt_number": 44
    },
    {
     "cell_type": "code",
     "collapsed": false,
     "input": [
      "# to get the original values, reload the module\n",
      "reload(small)"
     ],
     "language": "python",
     "metadata": {},
     "outputs": [
      {
       "output_type": "pyout",
       "prompt_number": 45,
       "text": [
        "<module 'small' from 'small.pyc'>"
       ]
      }
     ],
     "prompt_number": 45
    },
    {
     "cell_type": "code",
     "collapsed": false,
     "input": [
      "# show values\n",
      "print small.x\n",
      "print small.y"
     ],
     "language": "python",
     "metadata": {},
     "outputs": [
      {
       "output_type": "stream",
       "stream": "stdout",
       "text": [
        "1\n",
        "[1, 2]\n"
       ]
      }
     ],
     "prompt_number": 46
    },
    {
     "cell_type": "code",
     "collapsed": false,
     "input": [
      "# local values for x and y have not changed\n",
      "x,y"
     ],
     "language": "python",
     "metadata": {},
     "outputs": [
      {
       "output_type": "pyout",
       "prompt_number": 22,
       "text": [
        "(1, [42, 2])"
       ]
      }
     ],
     "prompt_number": 22
    },
    {
     "cell_type": "code",
     "collapsed": false,
     "input": [
      "# import module M\n",
      "import M"
     ],
     "language": "python",
     "metadata": {},
     "outputs": [],
     "prompt_number": 47
    },
    {
     "cell_type": "code",
     "collapsed": false,
     "input": [
      "M.printer()"
     ],
     "language": "python",
     "metadata": {},
     "outputs": [
      {
       "output_type": "stream",
       "stream": "stdout",
       "text": [
        "I am in function M.py\n"
       ]
      }
     ],
     "prompt_number": 48
    },
    {
     "cell_type": "code",
     "collapsed": false,
     "input": [
      "# remove reference to the module\n",
      "del M"
     ],
     "language": "python",
     "metadata": {},
     "outputs": [],
     "prompt_number": 49
    },
    {
     "cell_type": "code",
     "collapsed": false,
     "input": [
      "# the latest import wins when attributes have the same name\n",
      "from N import printer\n",
      "from M import printer\n",
      "printer()"
     ],
     "language": "python",
     "metadata": {},
     "outputs": [
      {
       "output_type": "stream",
       "stream": "stdout",
       "text": [
        "I am in function M.py\n"
       ]
      }
     ],
     "prompt_number": 51
    },
    {
     "cell_type": "code",
     "collapsed": false,
     "input": [
      "# one way to resolve this\n",
      "from M import printer as printerM\n",
      "from N import printer as printerN\n",
      "printerM()\n",
      "printerN()"
     ],
     "language": "python",
     "metadata": {},
     "outputs": [
      {
       "output_type": "stream",
       "stream": "stdout",
       "text": [
        "I am in function M.py\n",
        "I am in function N.py\n"
       ]
      }
     ],
     "prompt_number": 28
    },
    {
     "cell_type": "code",
     "collapsed": false,
     "input": [
      "# another way\n",
      "import M, N\n",
      "M.printer()\n",
      "N.printer()"
     ],
     "language": "python",
     "metadata": {},
     "outputs": [
      {
       "output_type": "stream",
       "stream": "stdout",
       "text": [
        "I am in function M.py\n",
        "I am in function N.py\n"
       ]
      }
     ],
     "prompt_number": 29
    },
    {
     "cell_type": "code",
     "collapsed": false,
     "input": [
      "import module1"
     ],
     "language": "python",
     "metadata": {},
     "outputs": [],
     "prompt_number": 30
    },
    {
     "cell_type": "code",
     "collapsed": false,
     "input": [],
     "language": "python",
     "metadata": {},
     "outputs": []
    },
    {
     "cell_type": "code",
     "collapsed": false,
     "input": [
      "%run mod1.py"
     ],
     "language": "python",
     "metadata": {},
     "outputs": [
      {
       "output_type": "stream",
       "stream": "stdout",
       "text": [
        "2 3\n",
        "1 2 3\n"
       ]
      }
     ],
     "prompt_number": 32
    },
    {
     "cell_type": "code",
     "collapsed": false,
     "input": [
      "l=[1,2,3]"
     ],
     "language": "python",
     "metadata": {},
     "outputs": [],
     "prompt_number": 1
    },
    {
     "cell_type": "code",
     "collapsed": false,
     "input": [
      "type(l)"
     ],
     "language": "python",
     "metadata": {},
     "outputs": [
      {
       "output_type": "pyout",
       "prompt_number": 2,
       "text": [
        "list"
       ]
      }
     ],
     "prompt_number": 2
    },
    {
     "cell_type": "code",
     "collapsed": false,
     "input": [
      "x=(1,2,3)\n",
      "type(x)"
     ],
     "language": "python",
     "metadata": {},
     "outputs": [
      {
       "output_type": "pyout",
       "prompt_number": 5,
       "text": [
        "tuple"
       ]
      }
     ],
     "prompt_number": 5
    },
    {
     "cell_type": "code",
     "collapsed": false,
     "input": [
      "if type(x).mro()[0] == 'tuple':\n",
      "    print 'It''s alive!'\n"
     ],
     "language": "python",
     "metadata": {},
     "outputs": [],
     "prompt_number": 12
    },
    {
     "cell_type": "code",
     "collapsed": false,
     "input": [
      "s=type(x)\n",
      "print s\n",
      "print type(s)"
     ],
     "language": "python",
     "metadata": {},
     "outputs": [
      {
       "output_type": "stream",
       "stream": "stdout",
       "text": [
        "<type 'tuple'>\n",
        "<type 'type'>\n"
       ]
      }
     ],
     "prompt_number": 7
    },
    {
     "cell_type": "code",
     "collapsed": false,
     "input": [
      "s"
     ],
     "language": "python",
     "metadata": {},
     "outputs": [
      {
       "output_type": "pyout",
       "prompt_number": 8,
       "text": [
        "tuple"
       ]
      }
     ],
     "prompt_number": 8
    },
    {
     "cell_type": "code",
     "collapsed": false,
     "input": [
      "s[0]"
     ],
     "language": "python",
     "metadata": {},
     "outputs": [
      {
       "ename": "TypeError",
       "evalue": "'type' object has no attribute '__getitem__'",
       "output_type": "pyerr",
       "traceback": [
        "\u001b[1;31m---------------------------------------------------------------------------\u001b[0m\n\u001b[1;31mTypeError\u001b[0m                                 Traceback (most recent call last)",
        "\u001b[1;32m<ipython-input-9-4e98c4f87897>\u001b[0m in \u001b[0;36m<module>\u001b[1;34m()\u001b[0m\n\u001b[1;32m----> 1\u001b[1;33m \u001b[0ms\u001b[0m\u001b[1;33m[\u001b[0m\u001b[1;36m0\u001b[0m\u001b[1;33m]\u001b[0m\u001b[1;33m\u001b[0m\u001b[0m\n\u001b[0m",
        "\u001b[1;31mTypeError\u001b[0m: 'type' object has no attribute '__getitem__'"
       ]
      }
     ],
     "prompt_number": 9
    },
    {
     "cell_type": "code",
     "collapsed": false,
     "input": [
      "str(s.mro()[0])"
     ],
     "language": "python",
     "metadata": {},
     "outputs": [
      {
       "output_type": "pyout",
       "prompt_number": 13,
       "text": [
        "\"<type 'tuple'>\""
       ]
      }
     ],
     "prompt_number": 13
    },
    {
     "cell_type": "code",
     "collapsed": false,
     "input": [
      "def func(l):\n",
      "    print 's'"
     ],
     "language": "python",
     "metadata": {},
     "outputs": [],
     "prompt_number": 14
    },
    {
     "cell_type": "code",
     "collapsed": false,
     "input": [
      "func(l)"
     ],
     "language": "python",
     "metadata": {},
     "outputs": [
      {
       "output_type": "stream",
       "stream": "stdout",
       "text": [
        "s\n"
       ]
      }
     ],
     "prompt_number": 16
    },
    {
     "cell_type": "code",
     "collapsed": false,
     "input": [
      "l"
     ],
     "language": "python",
     "metadata": {},
     "outputs": [
      {
       "output_type": "pyout",
       "prompt_number": 17,
       "text": [
        "[1, 2, 3]"
       ]
      }
     ],
     "prompt_number": 17
    },
    {
     "cell_type": "code",
     "collapsed": false,
     "input": [
      "L=[x**2 for x in range(10)]"
     ],
     "language": "python",
     "metadata": {},
     "outputs": [],
     "prompt_number": 1
    },
    {
     "cell_type": "code",
     "collapsed": false,
     "input": [
      "L[3:6]"
     ],
     "language": "python",
     "metadata": {},
     "outputs": [
      {
       "metadata": {},
       "output_type": "pyout",
       "prompt_number": 2,
       "text": [
        "[9, 16, 25]"
       ]
      }
     ],
     "prompt_number": 2
    },
    {
     "cell_type": "code",
     "collapsed": false,
     "input": [
      "L"
     ],
     "language": "python",
     "metadata": {},
     "outputs": [
      {
       "metadata": {},
       "output_type": "pyout",
       "prompt_number": 3,
       "text": [
        "[0, 1, 4, 9, 16, 25, 36, 49, 64, 81]"
       ]
      }
     ],
     "prompt_number": 3
    },
    {
     "cell_type": "code",
     "collapsed": false,
     "input": [],
     "language": "python",
     "metadata": {},
     "outputs": []
    }
   ],
   "metadata": {}
  }
 ]
}