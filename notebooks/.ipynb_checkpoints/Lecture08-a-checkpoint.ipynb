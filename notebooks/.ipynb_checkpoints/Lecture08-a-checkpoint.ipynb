{
 "metadata": {
  "name": ""
 },
 "nbformat": 3,
 "nbformat_minor": 0,
 "worksheets": [
  {
   "cells": [
    {
     "cell_type": "markdown",
     "metadata": {},
     "source": [
      "<img src=\"files/images/python-logo.png\">"
     ]
    },
    {
     "cell_type": "heading",
     "level": 1,
     "metadata": {},
     "source": [
      "Anonymous Functions, Modules, and Packages"
     ]
    },
    {
     "cell_type": "code",
     "collapsed": false,
     "input": [
      "# this block is just for the style sheet for the notebook\n",
      "from IPython.core.display import HTML\n",
      "def css_styling():\n",
      "    styles = open(\"styles/custom.css\", \"r\").read()\n",
      "    return HTML(styles)\n",
      "css_styling()"
     ],
     "language": "python",
     "metadata": {},
     "outputs": [
      {
       "html": [
        "<style>\n",
        "div.warn {    \n",
        "  background-color: #ff8c00;\n",
        "  border-color: #00008b;\n",
        "  border-left: 5px solid #00008b;\n",
        "  padding: 0.5em;\n",
        "}\n",
        "\n",
        "    @font-face {\n",
        "        font-family: \"Computer Modern\";\n",
        "        src: url('http://mirrors.ctan.org/fonts/cm-unicode/fonts/otf/cmunss.otf');\n",
        "    }\n",
        "    div.cell{\n",
        "        width:800px;\n",
        "        margin-left:16% !important;\n",
        "        margin-right:auto;\n",
        "    }\n",
        "    h1 {\n",
        "        font-family: Helvetica, serif;\n",
        "    }\n",
        "    h2 {\n",
        "        font-family: Helvetica, serif;\n",
        "    }\n",
        "    h4{\n",
        "        margin-top:12px;\n",
        "        margin-bottom: 3px;\n",
        "       }\n",
        "    div.text_cell_render{\n",
        "        font-family: Computer Modern, \"Helvetica Neue\", Arial, Helvetica, Geneva, sans-serif;\n",
        "        line-height: 135%;\n",
        "        font-size: 120%;\n",
        "        width:600px;\n",
        "        margin-left:auto;\n",
        "        margin-right:auto;\n",
        "    }\n",
        "    .CodeMirror{\n",
        "            font-family: \"Source Code Pro\", source-code-pro,Consolas, monospace;\n",
        "    }\n",
        "/*    .prompt{\n",
        "        display: None;\n",
        "    }*/\n",
        "    .text_cell_render h5 {\n",
        "        font-weight: 300;\n",
        "        font-size: 16pt;\n",
        "        color: #4057A1;\n",
        "        font-style: italic;\n",
        "        margin-bottom: .5em;\n",
        "        margin-top: 0.5em;\n",
        "        display: block;\n",
        "    }\n",
        "    \n",
        "    .warning{\n",
        "        color: rgb( 240, 20, 20 )\n",
        "        }  \n",
        "</style>\n",
        "<script>\n",
        "    MathJax.Hub.Config({\n",
        "                        TeX: {\n",
        "                           extensions: [\"AMSmath.js\"]\n",
        "                           },\n",
        "                tex2jax: {\n",
        "                    inlineMath: [ ['$','$'], [\"\\\\(\",\"\\\\)\"] ],\n",
        "                    displayMath: [ ['$$','$$'], [\"\\\\[\",\"\\\\]\"] ]\n",
        "                },\n",
        "                displayAlign: 'center', // Change this to 'center' to center equations.\n",
        "                \"HTML-CSS\": {\n",
        "                    styles: {'.MathJax_Display': {\"margin\": 4}}\n",
        "                }\n",
        "        });\n",
        "</script>\n",
        "\n"
       ],
       "metadata": {},
       "output_type": "pyout",
       "prompt_number": 1,
       "text": [
        "<IPython.core.display.HTML at 0x2af7150>"
       ]
      }
     ],
     "prompt_number": 1
    },
    {
     "cell_type": "heading",
     "level": 5,
     "metadata": {},
     "source": [
      "Anonymous Functions - Lambda"
     ]
    },
    {
     "cell_type": "code",
     "collapsed": false,
     "input": [
      "L = [lambda x: x ** 2, # Inline function definition\n",
      "    lambda x: x ** 3,\n",
      "    lambda x: x ** 4] # A list of three callable functions\n",
      "\n",
      "\n",
      "for f in L:\n",
      "    print(f(2)) # Prints 4, 8, 16"
     ],
     "language": "python",
     "metadata": {},
     "outputs": [
      {
       "output_type": "stream",
       "stream": "stdout",
       "text": [
        "4\n",
        "8\n",
        "16\n"
       ]
      }
     ],
     "prompt_number": 2
    },
    {
     "cell_type": "code",
     "collapsed": false,
     "input": [
      "print(L[0](3)) # Prints 9"
     ],
     "language": "python",
     "metadata": {},
     "outputs": [
      {
       "output_type": "stream",
       "stream": "stdout",
       "text": [
        "9\n"
       ]
      }
     ],
     "prompt_number": 3
    },
    {
     "cell_type": "code",
     "collapsed": false,
     "input": [
      "def f1(x): return x ** 2\n",
      "def f2(x): return x ** 3 # Define named functions\n",
      "def f3(x): return x ** 4\n",
      "\n",
      "L = [f1, f2, f3] # Reference by name\n",
      "\n",
      "for f in L:\n",
      "    print(f(2)) # Prints 4, 8, 16"
     ],
     "language": "python",
     "metadata": {},
     "outputs": [
      {
       "output_type": "stream",
       "stream": "stdout",
       "text": [
        "4\n",
        "8\n",
        "16\n"
       ]
      }
     ],
     "prompt_number": 4
    },
    {
     "cell_type": "code",
     "collapsed": false,
     "input": [
      "map(lambda x: x*x, range(10))"
     ],
     "language": "python",
     "metadata": {},
     "outputs": [
      {
       "metadata": {},
       "output_type": "pyout",
       "prompt_number": 5,
       "text": [
        "[0, 1, 4, 9, 16, 25, 36, 49, 64, 81]"
       ]
      }
     ],
     "prompt_number": 5
    },
    {
     "cell_type": "code",
     "collapsed": false,
     "input": [
      "[(lambda x: x*x)(x) for x in range(10)]"
     ],
     "language": "python",
     "metadata": {},
     "outputs": [
      {
       "metadata": {},
       "output_type": "pyout",
       "prompt_number": 6,
       "text": [
        "[0, 1, 4, 9, 16, 25, 36, 49, 64, 81]"
       ]
      }
     ],
     "prompt_number": 6
    },
    {
     "cell_type": "heading",
     "level": 5,
     "metadata": {},
     "source": [
      "Modules"
     ]
    },
    {
     "cell_type": "markdown",
     "metadata": {},
     "source": [
      "To review, modules are files (.py) that can be imported into the workspace. These modules tend to organize your code and allow for later use of functions and objects."
     ]
    },
    {
     "cell_type": "code",
     "collapsed": false,
     "input": [
      "import sys\n",
      "print sys.path"
     ],
     "language": "python",
     "metadata": {},
     "outputs": [
      {
       "output_type": "stream",
       "stream": "stdout",
       "text": [
        "['', '/home/jimmy/anaconda/lib/python27.zip', '/home/jimmy/anaconda/lib/python2.7', '/home/jimmy/anaconda/lib/python2.7/plat-linux2', '/home/jimmy/anaconda/lib/python2.7/lib-tk', '/home/jimmy/anaconda/lib/python2.7/lib-old', '/home/jimmy/anaconda/lib/python2.7/lib-dynload', '/home/jimmy/anaconda/lib/python2.7/site-packages', '/home/jimmy/anaconda/lib/python2.7/site-packages/PIL', '/home/jimmy/anaconda/lib/python2.7/site-packages/setuptools-0.6c11-py2.7.egg-info', '/home/jimmy/anaconda/lib/python2.7/site-packages/IPython/extensions']\n"
       ]
      }
     ],
     "prompt_number": 2
    },
    {
     "cell_type": "code",
     "collapsed": false,
     "input": [
      "package_path = 'scripts'\n",
      "sys.path.append(package_path)"
     ],
     "language": "python",
     "metadata": {},
     "outputs": [],
     "prompt_number": 18
    },
    {
     "cell_type": "code",
     "collapsed": false,
     "input": [
      "import cli"
     ],
     "language": "python",
     "metadata": {},
     "outputs": [
      {
       "output_type": "stream",
       "stream": "stdout",
       "text": [
        "The length of my cli list is:  7\n",
        "Here is my list:  ['-c', '-f', '/home/jimmy/.config/ipython/profile_default/security/kernel-d0cf983e-5324-407e-bd55-88ee16fdaaf4.json', \"--IPKernelApp.parent_appname='ipython-notebook'\", '--profile-dir', '/home/jimmy/.config/ipython/profile_default', '--parent=1']\n",
        "this is the name of my python file:  -c\n",
        "-f\n",
        "/home/jimmy/.config/ipython/profile_default/security/kernel-d0cf983e-5324-407e-bd55-88ee16fdaaf4.json\n",
        "--IPKernelApp.parent_appname='ipython-notebook'\n",
        "--profile-dir\n",
        "/home/jimmy/.config/ipython/profile_default\n",
        "--parent=1\n"
       ]
      }
     ],
     "prompt_number": 19
    },
    {
     "cell_type": "code",
     "collapsed": false,
     "input": [
      "sys.path.pop()"
     ],
     "language": "python",
     "metadata": {},
     "outputs": [
      {
       "metadata": {},
       "output_type": "pyout",
       "prompt_number": 20,
       "text": [
        "'scripts'"
       ]
      }
     ],
     "prompt_number": 20
    },
    {
     "cell_type": "code",
     "collapsed": false,
     "input": [
      "sys.path"
     ],
     "language": "python",
     "metadata": {},
     "outputs": [
      {
       "metadata": {},
       "output_type": "pyout",
       "prompt_number": 21,
       "text": [
        "['',\n",
        " '/home/jimmy/anaconda/lib/python27.zip',\n",
        " '/home/jimmy/anaconda/lib/python2.7',\n",
        " '/home/jimmy/anaconda/lib/python2.7/plat-linux2',\n",
        " '/home/jimmy/anaconda/lib/python2.7/lib-tk',\n",
        " '/home/jimmy/anaconda/lib/python2.7/lib-old',\n",
        " '/home/jimmy/anaconda/lib/python2.7/lib-dynload',\n",
        " '/home/jimmy/anaconda/lib/python2.7/site-packages',\n",
        " '/home/jimmy/anaconda/lib/python2.7/site-packages/PIL',\n",
        " '/home/jimmy/anaconda/lib/python2.7/site-packages/setuptools-0.6c11-py2.7.egg-info',\n",
        " '/home/jimmy/anaconda/lib/python2.7/site-packages/IPython/extensions']"
       ]
      }
     ],
     "prompt_number": 21
    },
    {
     "cell_type": "code",
     "collapsed": false,
     "input": [
      "!pwd"
     ],
     "language": "python",
     "metadata": {},
     "outputs": [
      {
       "output_type": "stream",
       "stream": "stdout",
       "text": [
        "/media/iWork/pythonClass/notebooks\r\n"
       ]
      }
     ],
     "prompt_number": 12
    },
    {
     "cell_type": "code",
     "collapsed": false,
     "input": [
      "s=!pwd\n",
      "print s"
     ],
     "language": "python",
     "metadata": {},
     "outputs": [
      {
       "output_type": "stream",
       "stream": "stdout",
       "text": [
        "['/media/iWork/pythonClass/notebooks']\n"
       ]
      }
     ],
     "prompt_number": 22
    },
    {
     "cell_type": "code",
     "collapsed": false,
     "input": [
      "import os\n",
      "package_path=os.path.join(s[0],'scripts')\n",
      "package_path\n"
     ],
     "language": "python",
     "metadata": {},
     "outputs": [
      {
       "metadata": {},
       "output_type": "pyout",
       "prompt_number": 24,
       "text": [
        "'/media/iWork/pythonClass/notebooks/scripts'"
       ]
      }
     ],
     "prompt_number": 24
    },
    {
     "cell_type": "code",
     "collapsed": false,
     "input": [
      "sys.path.append(package_path)\n",
      "sys.path"
     ],
     "language": "python",
     "metadata": {},
     "outputs": [
      {
       "metadata": {},
       "output_type": "pyout",
       "prompt_number": 25,
       "text": [
        "['',\n",
        " '/home/jimmy/anaconda/lib/python27.zip',\n",
        " '/home/jimmy/anaconda/lib/python2.7',\n",
        " '/home/jimmy/anaconda/lib/python2.7/plat-linux2',\n",
        " '/home/jimmy/anaconda/lib/python2.7/lib-tk',\n",
        " '/home/jimmy/anaconda/lib/python2.7/lib-old',\n",
        " '/home/jimmy/anaconda/lib/python2.7/lib-dynload',\n",
        " '/home/jimmy/anaconda/lib/python2.7/site-packages',\n",
        " '/home/jimmy/anaconda/lib/python2.7/site-packages/PIL',\n",
        " '/home/jimmy/anaconda/lib/python2.7/site-packages/setuptools-0.6c11-py2.7.egg-info',\n",
        " '/home/jimmy/anaconda/lib/python2.7/site-packages/IPython/extensions',\n",
        " '/media/iWork/pythonClass/notebooks/scripts']"
       ]
      }
     ],
     "prompt_number": 25
    },
    {
     "cell_type": "code",
     "collapsed": false,
     "input": [
      "import script1\n"
     ],
     "language": "python",
     "metadata": {},
     "outputs": [
      {
       "output_type": "stream",
       "stream": "stdout",
       "text": [
        "linux2\n",
        "4294967296\n",
        "Spam!Spam!Spam!Spam!Spam!Spam!Spam!Spam!\n"
       ]
      }
     ],
     "prompt_number": 26
    },
    {
     "cell_type": "code",
     "collapsed": false,
     "input": [
      "script1.x"
     ],
     "language": "python",
     "metadata": {},
     "outputs": [
      {
       "metadata": {},
       "output_type": "pyout",
       "prompt_number": 27,
       "text": [
        "'Spam!'"
       ]
      }
     ],
     "prompt_number": 27
    },
    {
     "cell_type": "heading",
     "level": 5,
     "metadata": {},
     "source": [
      "Module Packages"
     ]
    },
    {
     "cell_type": "markdown",
     "metadata": {},
     "source": [
      "Packages are a little different thatn modules. They are directory paths and are imported to your workspace. When importing a packge, one turns that directory path into a Python name space and that gives access to the modules and subdirectories of that path. "
     ]
    },
    {
     "cell_type": "markdown",
     "metadata": {},
     "source": [
      "<img src=\"files/images/dir_structure.png\">"
     ]
    },
    {
     "cell_type": "code",
     "collapsed": false,
     "input": [
      "import os\n",
      "package_path=os.path.join(s[0],'scripts', 'book_code', 'code')\n",
      "sys.path.append(package_path)\n",
      "sys.path"
     ],
     "language": "python",
     "metadata": {},
     "outputs": [
      {
       "metadata": {},
       "output_type": "pyout",
       "prompt_number": 53,
       "text": [
        "['',\n",
        " '/home/jimmy/anaconda/lib/python27.zip',\n",
        " '/home/jimmy/anaconda/lib/python2.7',\n",
        " '/home/jimmy/anaconda/lib/python2.7/plat-linux2',\n",
        " '/home/jimmy/anaconda/lib/python2.7/lib-tk',\n",
        " '/home/jimmy/anaconda/lib/python2.7/lib-old',\n",
        " '/home/jimmy/anaconda/lib/python2.7/lib-dynload',\n",
        " '/home/jimmy/anaconda/lib/python2.7/site-packages',\n",
        " '/home/jimmy/anaconda/lib/python2.7/site-packages/PIL',\n",
        " '/home/jimmy/anaconda/lib/python2.7/site-packages/setuptools-0.6c11-py2.7.egg-info',\n",
        " '/home/jimmy/anaconda/lib/python2.7/site-packages/IPython/extensions',\n",
        " '/media/iWork/pythonClass/notebooks/scripts/book_code/code']"
       ]
      }
     ],
     "prompt_number": 53
    },
    {
     "cell_type": "code",
     "collapsed": false,
     "input": [
      "import dir1.dir2.mod"
     ],
     "language": "python",
     "metadata": {},
     "outputs": [],
     "prompt_number": 56
    },
    {
     "cell_type": "code",
     "collapsed": false,
     "input": [
      "mod.z"
     ],
     "language": "python",
     "metadata": {},
     "outputs": [
      {
       "ename": "NameError",
       "evalue": "name 'mod' is not defined",
       "output_type": "pyerr",
       "traceback": [
        "\u001b[1;31m---------------------------------------------------------------------------\u001b[0m\n\u001b[1;31mNameError\u001b[0m                                 Traceback (most recent call last)",
        "\u001b[1;32m<ipython-input-57-b6de10f0b258>\u001b[0m in \u001b[0;36m<module>\u001b[1;34m()\u001b[0m\n\u001b[1;32m----> 1\u001b[1;33m \u001b[0mmod\u001b[0m\u001b[1;33m.\u001b[0m\u001b[0mz\u001b[0m\u001b[1;33m\u001b[0m\u001b[0m\n\u001b[0m",
        "\u001b[1;31mNameError\u001b[0m: name 'mod' is not defined"
       ]
      }
     ],
     "prompt_number": 57
    },
    {
     "cell_type": "code",
     "collapsed": false,
     "input": [
      "dir1.dir2.mod.z"
     ],
     "language": "python",
     "metadata": {},
     "outputs": [
      {
       "metadata": {},
       "output_type": "pyout",
       "prompt_number": 58,
       "text": [
        "3"
       ]
      }
     ],
     "prompt_number": 58
    },
    {
     "cell_type": "code",
     "collapsed": false,
     "input": [
      "dir1.x"
     ],
     "language": "python",
     "metadata": {},
     "outputs": [
      {
       "metadata": {},
       "output_type": "pyout",
       "prompt_number": 59,
       "text": [
        "1"
       ]
      }
     ],
     "prompt_number": 59
    },
    {
     "cell_type": "code",
     "collapsed": false,
     "input": [
      "dir1.dir2.y"
     ],
     "language": "python",
     "metadata": {},
     "outputs": [
      {
       "metadata": {},
       "output_type": "pyout",
       "prompt_number": 60,
       "text": [
        "2"
       ]
      }
     ],
     "prompt_number": 60
    },
    {
     "cell_type": "code",
     "collapsed": false,
     "input": [],
     "language": "python",
     "metadata": {},
     "outputs": []
    }
   ],
   "metadata": {}
  }
 ]
}