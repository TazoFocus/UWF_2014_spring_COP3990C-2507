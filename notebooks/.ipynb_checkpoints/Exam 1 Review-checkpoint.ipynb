{
 "metadata": {
  "name": ""
 },
 "nbformat": 3,
 "nbformat_minor": 0,
 "worksheets": [
  {
   "cells": [
    {
     "cell_type": "code",
     "collapsed": false,
     "input": [
      "from IPython.core.display import HTML\n",
      "def css_styling():\n",
      "    styles = open(\"styles/custom.css\", \"r\").read()\n",
      "    return HTML(styles)\n",
      "css_styling()"
     ],
     "language": "python",
     "metadata": {},
     "outputs": [
      {
       "html": [
        "<style>\r\n",
        "div.warn {    \r\n",
        "  background-color: #ff8c00;\r\n",
        "  border-color: #00008b;\r\n",
        "  border-left: 5px solid #00008b;\r\n",
        "  padding: 0.5em;\r\n",
        "}\r\n",
        "\r\n",
        "    @font-face {\r\n",
        "        font-family: \"Computer Modern\";\r\n",
        "        src: url('http://mirrors.ctan.org/fonts/cm-unicode/fonts/otf/cmunss.otf');\r\n",
        "    }\r\n",
        "    div.cell{\r\n",
        "        width:800px;\r\n",
        "        margin-left:16% !important;\r\n",
        "        margin-right:auto;\r\n",
        "    }\r\n",
        "    h1 {\r\n",
        "        font-family: Helvetica, serif;\r\n",
        "    }\r\n",
        "    h2 {\r\n",
        "        font-family: Helvetica, serif;\r\n",
        "    }\r\n",
        "    h4{\r\n",
        "        margin-top:12px;\r\n",
        "        margin-bottom: 3px;\r\n",
        "       }\r\n",
        "    div.text_cell_render{\r\n",
        "        font-family: Computer Modern, \"Helvetica Neue\", Arial, Helvetica, Geneva, sans-serif;\r\n",
        "        line-height: 135%;\r\n",
        "        font-size: 120%;\r\n",
        "        width:600px;\r\n",
        "        margin-left:auto;\r\n",
        "        margin-right:auto;\r\n",
        "    }\r\n",
        "    .CodeMirror{\r\n",
        "            font-family: \"Source Code Pro\", source-code-pro,Consolas, monospace;\r\n",
        "    }\r\n",
        "/*    .prompt{\r\n",
        "        display: None;\r\n",
        "    }*/\r\n",
        "    .text_cell_render h5 {\r\n",
        "        font-weight: 300;\r\n",
        "        font-size: 16pt;\r\n",
        "        color: #4057A1;\r\n",
        "        font-style: italic;\r\n",
        "        margin-bottom: .5em;\r\n",
        "        margin-top: 0.5em;\r\n",
        "        display: block;\r\n",
        "    }\r\n",
        "    \r\n",
        "    .warning{\r\n",
        "        color: rgb( 240, 20, 20 )\r\n",
        "        }  \r\n",
        "</style>\r\n",
        "<script>\r\n",
        "    MathJax.Hub.Config({\r\n",
        "                        TeX: {\r\n",
        "                           extensions: [\"AMSmath.js\"]\r\n",
        "                           },\r\n",
        "                tex2jax: {\r\n",
        "                    inlineMath: [ ['$','$'], [\"\\\\(\",\"\\\\)\"] ],\r\n",
        "                    displayMath: [ ['$$','$$'], [\"\\\\[\",\"\\\\]\"] ]\r\n",
        "                },\r\n",
        "                displayAlign: 'center', // Change this to 'center' to center equations.\r\n",
        "                \"HTML-CSS\": {\r\n",
        "                    styles: {'.MathJax_Display': {\"margin\": 4}}\r\n",
        "                }\r\n",
        "        });\r\n",
        "</script>\r\n",
        "\r\n"
       ],
       "metadata": {},
       "output_type": "pyout",
       "prompt_number": 113,
       "text": [
        "<IPython.core.display.HTML at 0x2d53410>"
       ]
      }
     ],
     "prompt_number": 113
    },
    {
     "cell_type": "heading",
     "level": 1,
     "metadata": {},
     "source": [
      "Exam 1 Review"
     ]
    },
    {
     "cell_type": "heading",
     "level": 5,
     "metadata": {},
     "source": [
      "Numbers and Operators"
     ]
    },
    {
     "cell_type": "code",
     "collapsed": false,
     "input": [
      "# ** - raise to the power\n",
      "2**3"
     ],
     "language": "python",
     "metadata": {},
     "outputs": [
      {
       "metadata": {},
       "output_type": "pyout",
       "prompt_number": 114,
       "text": [
        "8"
       ]
      }
     ],
     "prompt_number": 114
    },
    {
     "cell_type": "code",
     "collapsed": false,
     "input": [
      "# / - division\n",
      "# in Python 2.7 and below, it performs integer division\n",
      "20/8"
     ],
     "language": "python",
     "metadata": {},
     "outputs": [
      {
       "metadata": {},
       "output_type": "pyout",
       "prompt_number": 115,
       "text": [
        "2"
       ]
      }
     ],
     "prompt_number": 115
    },
    {
     "cell_type": "code",
     "collapsed": false,
     "input": [
      "# // quotiont of division\n",
      "20//8"
     ],
     "language": "python",
     "metadata": {},
     "outputs": [
      {
       "metadata": {},
       "output_type": "pyout",
       "prompt_number": 116,
       "text": [
        "2"
       ]
      }
     ],
     "prompt_number": 116
    },
    {
     "cell_type": "code",
     "collapsed": false,
     "input": [
      "# % - remainder of division\n",
      "20 % 8"
     ],
     "language": "python",
     "metadata": {},
     "outputs": [
      {
       "metadata": {},
       "output_type": "pyout",
       "prompt_number": 117,
       "text": [
        "4"
       ]
      }
     ],
     "prompt_number": 117
    },
    {
     "cell_type": "code",
     "collapsed": false,
     "input": [
      "# get both the quotient and remainder as a tuple\n",
      "divmod(20, 8)"
     ],
     "language": "python",
     "metadata": {},
     "outputs": [
      {
       "metadata": {},
       "output_type": "pyout",
       "prompt_number": 118,
       "text": [
        "(2, 4)"
       ]
      }
     ],
     "prompt_number": 118
    },
    {
     "cell_type": "code",
     "collapsed": false,
     "input": [
      "# to perform 'regular' division, at least one parameter has to be a float\n",
      "20.0/8"
     ],
     "language": "python",
     "metadata": {},
     "outputs": [
      {
       "metadata": {},
       "output_type": "pyout",
       "prompt_number": 119,
       "text": [
        "2.5"
       ]
      }
     ],
     "prompt_number": 119
    },
    {
     "cell_type": "code",
     "collapsed": false,
     "input": [
      "# evaluate a decimal as a fraction given as a tuple (numerator, denominator)\n",
      "x=3.5\n",
      "print x.as_integer_ratio()"
     ],
     "language": "python",
     "metadata": {},
     "outputs": [
      {
       "output_type": "stream",
       "stream": "stdout",
       "text": [
        "(7, 2)\n"
       ]
      }
     ],
     "prompt_number": 120
    },
    {
     "cell_type": "code",
     "collapsed": false,
     "input": [
      "# convert a float to an int\n",
      "int(8.51)"
     ],
     "language": "python",
     "metadata": {},
     "outputs": [
      {
       "metadata": {},
       "output_type": "pyout",
       "prompt_number": 121,
       "text": [
        "8"
       ]
      }
     ],
     "prompt_number": 121
    },
    {
     "cell_type": "code",
     "collapsed": false,
     "input": [
      "# generate a list of numbers between 5 and 15\n",
      "range(5,16)"
     ],
     "language": "python",
     "metadata": {},
     "outputs": [
      {
       "metadata": {},
       "output_type": "pyout",
       "prompt_number": 122,
       "text": [
        "[5, 6, 7, 8, 9, 10, 11, 12, 13, 14, 15]"
       ]
      }
     ],
     "prompt_number": 122
    },
    {
     "cell_type": "code",
     "collapsed": false,
     "input": [
      "# random numbers\n",
      "import random"
     ],
     "language": "python",
     "metadata": {},
     "outputs": [],
     "prompt_number": 123
    },
    {
     "cell_type": "code",
     "collapsed": false,
     "input": [
      "# random number between 0 and 1\n",
      "random.random()"
     ],
     "language": "python",
     "metadata": {},
     "outputs": [
      {
       "metadata": {},
       "output_type": "pyout",
       "prompt_number": 124,
       "text": [
        "0.764510861352438"
       ]
      }
     ],
     "prompt_number": 124
    },
    {
     "cell_type": "code",
     "collapsed": false,
     "input": [
      "# get a random entry from a list of integers from 1 to 10\n",
      "random.choice(range(1,11))"
     ],
     "language": "python",
     "metadata": {},
     "outputs": [
      {
       "metadata": {},
       "output_type": "pyout",
       "prompt_number": 125,
       "text": [
        "5"
       ]
      }
     ],
     "prompt_number": 125
    },
    {
     "cell_type": "code",
     "collapsed": false,
     "input": [
      "# generate a list of 10 random numbers\n",
      "[random.random() for _ in range(0, 10)]"
     ],
     "language": "python",
     "metadata": {},
     "outputs": [
      {
       "metadata": {},
       "output_type": "pyout",
       "prompt_number": 126,
       "text": [
        "[0.09764784283370076,\n",
        " 0.9664801600143959,\n",
        " 0.6181611769401053,\n",
        " 0.42998374005591855,\n",
        " 0.02081475813039546,\n",
        " 0.8766427454375514,\n",
        " 0.5171415231695868,\n",
        " 0.5731371188976431,\n",
        " 0.3211352027505652,\n",
        " 0.5557082579285986]"
       ]
      }
     ],
     "prompt_number": 126
    },
    {
     "cell_type": "code",
     "collapsed": false,
     "input": [
      "# generate a list of 10 random integers from 50 to 100\n",
      "random.sample(xrange(50,101), 10)"
     ],
     "language": "python",
     "metadata": {},
     "outputs": [
      {
       "metadata": {},
       "output_type": "pyout",
       "prompt_number": 127,
       "text": [
        "[80, 53, 97, 64, 69, 67, 58, 77, 78, 84]"
       ]
      }
     ],
     "prompt_number": 127
    },
    {
     "cell_type": "code",
     "collapsed": false,
     "input": [
      "# declare a complex number\n",
      "a = 1 + 1j\n",
      "print a"
     ],
     "language": "python",
     "metadata": {},
     "outputs": [
      {
       "output_type": "stream",
       "stream": "stdout",
       "text": [
        "(1+1j)\n"
       ]
      }
     ],
     "prompt_number": 128
    },
    {
     "cell_type": "code",
     "collapsed": false,
     "input": [
      "# another way to declare a complex number\n",
      "b = complex(1,2)\n",
      "print b"
     ],
     "language": "python",
     "metadata": {},
     "outputs": [
      {
       "output_type": "stream",
       "stream": "stdout",
       "text": [
        "(1+2j)\n"
       ]
      }
     ],
     "prompt_number": 129
    },
    {
     "cell_type": "code",
     "collapsed": false,
     "input": [
      "# multiply complex numbers - result is complex\n",
      "a*b"
     ],
     "language": "python",
     "metadata": {},
     "outputs": [
      {
       "metadata": {},
       "output_type": "pyout",
       "prompt_number": 130,
       "text": [
        "(-1+3j)"
       ]
      }
     ],
     "prompt_number": 130
    },
    {
     "cell_type": "code",
     "collapsed": false,
     "input": [
      "# divide complex numbers\n",
      "a/b"
     ],
     "language": "python",
     "metadata": {},
     "outputs": [
      {
       "metadata": {},
       "output_type": "pyout",
       "prompt_number": 131,
       "text": [
        "(0.6-0.2j)"
       ]
      }
     ],
     "prompt_number": 131
    },
    {
     "cell_type": "code",
     "collapsed": false,
     "input": [
      "# get the real part of a complex number\n",
      "b.real"
     ],
     "language": "python",
     "metadata": {},
     "outputs": [
      {
       "metadata": {},
       "output_type": "pyout",
       "prompt_number": 132,
       "text": [
        "1.0"
       ]
      }
     ],
     "prompt_number": 132
    },
    {
     "cell_type": "code",
     "collapsed": false,
     "input": [
      "# get the imaginary part a complex number\n",
      "b.imag"
     ],
     "language": "python",
     "metadata": {},
     "outputs": [
      {
       "metadata": {},
       "output_type": "pyout",
       "prompt_number": 133,
       "text": [
        "2.0"
       ]
      }
     ],
     "prompt_number": 133
    },
    {
     "cell_type": "code",
     "collapsed": false,
     "input": [
      "# complex arithmetic\n",
      "c = a + b\n",
      "print c"
     ],
     "language": "python",
     "metadata": {},
     "outputs": [
      {
       "output_type": "stream",
       "stream": "stdout",
       "text": [
        "(2+3j)\n"
       ]
      }
     ],
     "prompt_number": 134
    },
    {
     "cell_type": "heading",
     "level": 5,
     "metadata": {},
     "source": [
      "Lists"
     ]
    },
    {
     "cell_type": "markdown",
     "metadata": {},
     "source": [
      "A Python list is a container that stores sequence of elements. These elements need not be the same type. You can have strings stored alongside integers and other lists  and data types"
     ]
    },
    {
     "cell_type": "code",
     "collapsed": false,
     "input": [
      "# this is an empty list\n",
      "L = []"
     ],
     "language": "python",
     "metadata": {},
     "outputs": [],
     "prompt_number": 135
    },
    {
     "cell_type": "code",
     "collapsed": false,
     "input": [
      "# one way to create a list (of integers in this example)\n",
      "L = [1,2,3,4,5]\n",
      "print L"
     ],
     "language": "python",
     "metadata": {},
     "outputs": [
      {
       "output_type": "stream",
       "stream": "stdout",
       "text": [
        "[1, 2, 3, 4, 5]\n"
       ]
      }
     ],
     "prompt_number": 136
    },
    {
     "cell_type": "code",
     "collapsed": false,
     "input": [
      "# another way is to use (x)range \n",
      "L = range(1,6)\n",
      "print L"
     ],
     "language": "python",
     "metadata": {},
     "outputs": [
      {
       "output_type": "stream",
       "stream": "stdout",
       "text": [
        "[1, 2, 3, 4, 5]\n"
       ]
      }
     ],
     "prompt_number": 137
    },
    {
     "cell_type": "code",
     "collapsed": false,
     "input": [
      "# yet another way \n",
      "L = [] # create an empty list\n",
      "L.append(1)\n",
      "L.append(2)\n",
      "L.append(3)\n",
      "L.append(4)\n",
      "L.append(5)\n",
      "print L"
     ],
     "language": "python",
     "metadata": {},
     "outputs": [
      {
       "output_type": "stream",
       "stream": "stdout",
       "text": [
        "[1, 2, 3, 4, 5]\n"
       ]
      }
     ],
     "prompt_number": 138
    },
    {
     "cell_type": "code",
     "collapsed": false,
     "input": [
      "# how long is the list?\n",
      "len(L)"
     ],
     "language": "python",
     "metadata": {},
     "outputs": [
      {
       "metadata": {},
       "output_type": "pyout",
       "prompt_number": 139,
       "text": [
        "5"
       ]
      }
     ],
     "prompt_number": 139
    },
    {
     "cell_type": "code",
     "collapsed": false,
     "input": [
      "# access the list elements\n",
      "print L[0] # first element\n",
      "print L[-1] # last element"
     ],
     "language": "python",
     "metadata": {},
     "outputs": [
      {
       "output_type": "stream",
       "stream": "stdout",
       "text": [
        "1\n",
        "5\n"
       ]
      }
     ],
     "prompt_number": 140
    },
    {
     "cell_type": "code",
     "collapsed": false,
     "input": [
      "# get a slice of the list\n",
      "L[0:3] # get elements 0,1, & 2"
     ],
     "language": "python",
     "metadata": {},
     "outputs": [
      {
       "metadata": {},
       "output_type": "pyout",
       "prompt_number": 141,
       "text": [
        "[1, 2, 3]"
       ]
      }
     ],
     "prompt_number": 141
    },
    {
     "cell_type": "code",
     "collapsed": false,
     "input": [
      "# remove an element from the list\n",
      "L.pop(2) # remove the element of index 2\n",
      "print L"
     ],
     "language": "python",
     "metadata": {},
     "outputs": [
      {
       "output_type": "stream",
       "stream": "stdout",
       "text": [
        "[1, 2, 4, 5]\n"
       ]
      }
     ],
     "prompt_number": 142
    },
    {
     "cell_type": "code",
     "collapsed": false,
     "input": [
      "# sort a  list\n",
      "L = random.sample(range(0,100),5)\n",
      "print L\n",
      "L.sort()\n",
      "print L"
     ],
     "language": "python",
     "metadata": {},
     "outputs": [
      {
       "output_type": "stream",
       "stream": "stdout",
       "text": [
        "[10, 42, 70, 52, 27]\n",
        "[10, 27, 42, 52, 70]\n"
       ]
      }
     ],
     "prompt_number": 143
    },
    {
     "cell_type": "code",
     "collapsed": false,
     "input": [
      "# generate a list of integers from -5 to 9 by 2\n",
      "L = range(-5,10,2)\n",
      "print L"
     ],
     "language": "python",
     "metadata": {},
     "outputs": [
      {
       "output_type": "stream",
       "stream": "stdout",
       "text": [
        "[-5, -3, -1, 1, 3, 5, 7, 9]\n"
       ]
      }
     ],
     "prompt_number": 144
    },
    {
     "cell_type": "code",
     "collapsed": false,
     "input": [
      "# list comprehension\n",
      "# create a list whose elements are lists of the square and cube of a number\n",
      "[[x ** 2, x ** 3] for x in range(4)]"
     ],
     "language": "python",
     "metadata": {},
     "outputs": [
      {
       "metadata": {},
       "output_type": "pyout",
       "prompt_number": 145,
       "text": [
        "[[0, 0], [1, 1], [4, 8], [9, 27]]"
       ]
      }
     ],
     "prompt_number": 145
    },
    {
     "cell_type": "code",
     "collapsed": false,
     "input": [
      "# another list comprehension example\n",
      "# build a list with an if statement\n",
      "[[x, x/2, x*2] for x in range(-6, 7, 2) if x > 0]"
     ],
     "language": "python",
     "metadata": {},
     "outputs": [
      {
       "metadata": {},
       "output_type": "pyout",
       "prompt_number": 146,
       "text": [
        "[[2, 1, 4], [4, 2, 8], [6, 3, 12]]"
       ]
      }
     ],
     "prompt_number": 146
    },
    {
     "cell_type": "code",
     "collapsed": false,
     "input": [
      "# 2-dimensional list - each element is a list\n",
      "M=[[1,2,3],\n",
      "   [4,5,6],\n",
      "   [7,8,9]]\n",
      "print M"
     ],
     "language": "python",
     "metadata": {},
     "outputs": [
      {
       "output_type": "stream",
       "stream": "stdout",
       "text": [
        "[[1, 2, 3], [4, 5, 6], [7, 8, 9]]\n"
       ]
      }
     ],
     "prompt_number": 147
    },
    {
     "cell_type": "code",
     "collapsed": false,
     "input": [
      "# get the diagonal elements of M using list comprehension\n",
      "diag = [M[i][i] for i in [0, 1, 2]]\n",
      "print diag"
     ],
     "language": "python",
     "metadata": {},
     "outputs": [
      {
       "output_type": "stream",
       "stream": "stdout",
       "text": [
        "[1, 5, 9]\n"
       ]
      }
     ],
     "prompt_number": 148
    },
    {
     "cell_type": "heading",
     "level": 5,
     "metadata": {},
     "source": [
      "Strings"
     ]
    },
    {
     "cell_type": "code",
     "collapsed": false,
     "input": [
      "# here is an empty string\n",
      "string = ''"
     ],
     "language": "python",
     "metadata": {},
     "outputs": [],
     "prompt_number": 149
    },
    {
     "cell_type": "code",
     "collapsed": false,
     "input": [
      "# create a string\n",
      "string = '   the quick brown fox jumps over the lazy dog. '\n",
      "string"
     ],
     "language": "python",
     "metadata": {},
     "outputs": [
      {
       "metadata": {},
       "output_type": "pyout",
       "prompt_number": 150,
       "text": [
        "'   the quick brown fox jumps over the lazy dog. '"
       ]
      }
     ],
     "prompt_number": 150
    },
    {
     "cell_type": "code",
     "collapsed": false,
     "input": [
      "# get the length of the string\n",
      "len(string)"
     ],
     "language": "python",
     "metadata": {},
     "outputs": [
      {
       "metadata": {},
       "output_type": "pyout",
       "prompt_number": 151,
       "text": [
        "48"
       ]
      }
     ],
     "prompt_number": 151
    },
    {
     "cell_type": "code",
     "collapsed": false,
     "input": [
      "# strip the white spaces from a string\n",
      "string.strip()"
     ],
     "language": "python",
     "metadata": {},
     "outputs": [
      {
       "metadata": {},
       "output_type": "pyout",
       "prompt_number": 152,
       "text": [
        "'the quick brown fox jumps over the lazy dog.'"
       ]
      }
     ],
     "prompt_number": 152
    },
    {
     "cell_type": "code",
     "collapsed": false,
     "input": [
      "# count the number of occurrences of the letter 'o' in the string\n",
      "string.count('o')"
     ],
     "language": "python",
     "metadata": {},
     "outputs": [
      {
       "metadata": {},
       "output_type": "pyout",
       "prompt_number": 153,
       "text": [
        "4"
       ]
      }
     ],
     "prompt_number": 153
    },
    {
     "cell_type": "code",
     "collapsed": false,
     "input": [
      "# check if a string ends with a certain character\n",
      "string.endswith('.')"
     ],
     "language": "python",
     "metadata": {},
     "outputs": [
      {
       "metadata": {},
       "output_type": "pyout",
       "prompt_number": 154,
       "text": [
        "False"
       ]
      }
     ],
     "prompt_number": 154
    },
    {
     "cell_type": "code",
     "collapsed": false,
     "input": [
      "# fiind the beginning index of the first occurrence of a word\n",
      "string.find('fox')"
     ],
     "language": "python",
     "metadata": {},
     "outputs": [
      {
       "metadata": {},
       "output_type": "pyout",
       "prompt_number": 155,
       "text": [
        "19"
       ]
      }
     ],
     "prompt_number": 155
    },
    {
     "cell_type": "code",
     "collapsed": false,
     "input": [
      "# concatenate two (or more) strings - use the + sign\n",
      "line = 'abcde' + 'fghijk'\n",
      "print line"
     ],
     "language": "python",
     "metadata": {},
     "outputs": [
      {
       "output_type": "stream",
       "stream": "stdout",
       "text": [
        "abcdefghijk\n"
       ]
      }
     ],
     "prompt_number": 156
    },
    {
     "cell_type": "code",
     "collapsed": false,
     "input": [
      "# get a substring\n",
      "print line[1:5]"
     ],
     "language": "python",
     "metadata": {},
     "outputs": [
      {
       "output_type": "stream",
       "stream": "stdout",
       "text": [
        "bcde\n"
       ]
      }
     ],
     "prompt_number": 157
    },
    {
     "cell_type": "code",
     "collapsed": false,
     "input": [],
     "language": "python",
     "metadata": {},
     "outputs": [],
     "prompt_number": 157
    },
    {
     "cell_type": "code",
     "collapsed": false,
     "input": [
      "# break up string and save to a list\n",
      "L = list('abcdefgh')\n",
      "print L"
     ],
     "language": "python",
     "metadata": {},
     "outputs": [
      {
       "output_type": "stream",
       "stream": "stdout",
       "text": [
        "['a', 'b', 'c', 'd', 'e', 'f', 'g', 'h']\n"
       ]
      }
     ],
     "prompt_number": 158
    },
    {
     "cell_type": "code",
     "collapsed": false,
     "input": [
      "# make the elements of a list (of characters or strings) into a string\n",
      "''.join(L)"
     ],
     "language": "python",
     "metadata": {},
     "outputs": [
      {
       "metadata": {},
       "output_type": "pyout",
       "prompt_number": 159,
       "text": [
        "'abcdefgh'"
       ]
      }
     ],
     "prompt_number": 159
    },
    {
     "cell_type": "code",
     "collapsed": false,
     "input": [
      "# add dashes between the elements of list when changing it to a string\n",
      "'-'.join(L)"
     ],
     "language": "python",
     "metadata": {},
     "outputs": [
      {
       "metadata": {},
       "output_type": "pyout",
       "prompt_number": 160,
       "text": [
        "'a-b-c-d-e-f-g-h'"
       ]
      }
     ],
     "prompt_number": 160
    },
    {
     "cell_type": "code",
     "collapsed": false,
     "input": [
      "# split the string into a list at a specific delimiter\n",
      "line = 'aaa,bbb,cccc c,dd'\n",
      "line1 = line.split(',') \n",
      "print line\n",
      "print line1"
     ],
     "language": "python",
     "metadata": {},
     "outputs": [
      {
       "output_type": "stream",
       "stream": "stdout",
       "text": [
        "aaa,bbb,cccc c,dd\n",
        "['aaa', 'bbb', 'cccc c', 'dd']\n"
       ]
      }
     ],
     "prompt_number": 161
    },
    {
     "cell_type": "code",
     "collapsed": false,
     "input": [
      "# get help about a string function\n",
      "help(line.split)"
     ],
     "language": "python",
     "metadata": {},
     "outputs": [
      {
       "output_type": "stream",
       "stream": "stdout",
       "text": [
        "Help on built-in function split:\n",
        "\n",
        "split(...)\n",
        "    S.split([sep [,maxsplit]]) -> list of strings\n",
        "    \n",
        "    Return a list of the words in the string S, using sep as the\n",
        "    delimiter string.  If maxsplit is given, at most maxsplit\n",
        "    splits are done. If sep is not specified or is None, any\n",
        "    whitespace string is a separator and empty strings are removed\n",
        "    from the result.\n",
        "\n"
       ]
      }
     ],
     "prompt_number": 162
    },
    {
     "cell_type": "code",
     "collapsed": false,
     "input": [
      "# list the functions and operations available on a string\n",
      "dir(line)"
     ],
     "language": "python",
     "metadata": {},
     "outputs": [
      {
       "metadata": {},
       "output_type": "pyout",
       "prompt_number": 163,
       "text": [
        "['__add__',\n",
        " '__class__',\n",
        " '__contains__',\n",
        " '__delattr__',\n",
        " '__doc__',\n",
        " '__eq__',\n",
        " '__format__',\n",
        " '__ge__',\n",
        " '__getattribute__',\n",
        " '__getitem__',\n",
        " '__getnewargs__',\n",
        " '__getslice__',\n",
        " '__gt__',\n",
        " '__hash__',\n",
        " '__init__',\n",
        " '__le__',\n",
        " '__len__',\n",
        " '__lt__',\n",
        " '__mod__',\n",
        " '__mul__',\n",
        " '__ne__',\n",
        " '__new__',\n",
        " '__reduce__',\n",
        " '__reduce_ex__',\n",
        " '__repr__',\n",
        " '__rmod__',\n",
        " '__rmul__',\n",
        " '__setattr__',\n",
        " '__sizeof__',\n",
        " '__str__',\n",
        " '__subclasshook__',\n",
        " '_formatter_field_name_split',\n",
        " '_formatter_parser',\n",
        " 'capitalize',\n",
        " 'center',\n",
        " 'count',\n",
        " 'decode',\n",
        " 'encode',\n",
        " 'endswith',\n",
        " 'expandtabs',\n",
        " 'find',\n",
        " 'format',\n",
        " 'index',\n",
        " 'isalnum',\n",
        " 'isalpha',\n",
        " 'isdigit',\n",
        " 'islower',\n",
        " 'isspace',\n",
        " 'istitle',\n",
        " 'isupper',\n",
        " 'join',\n",
        " 'ljust',\n",
        " 'lower',\n",
        " 'lstrip',\n",
        " 'partition',\n",
        " 'replace',\n",
        " 'rfind',\n",
        " 'rindex',\n",
        " 'rjust',\n",
        " 'rpartition',\n",
        " 'rsplit',\n",
        " 'rstrip',\n",
        " 'split',\n",
        " 'splitlines',\n",
        " 'startswith',\n",
        " 'strip',\n",
        " 'swapcase',\n",
        " 'title',\n",
        " 'translate',\n",
        " 'upper',\n",
        " 'zfill']"
       ]
      }
     ],
     "prompt_number": 163
    },
    {
     "cell_type": "code",
     "collapsed": false,
     "input": [
      "# do the same for a list\n",
      "dir(L)"
     ],
     "language": "python",
     "metadata": {},
     "outputs": [
      {
       "metadata": {},
       "output_type": "pyout",
       "prompt_number": 164,
       "text": [
        "['__add__',\n",
        " '__class__',\n",
        " '__contains__',\n",
        " '__delattr__',\n",
        " '__delitem__',\n",
        " '__delslice__',\n",
        " '__doc__',\n",
        " '__eq__',\n",
        " '__format__',\n",
        " '__ge__',\n",
        " '__getattribute__',\n",
        " '__getitem__',\n",
        " '__getslice__',\n",
        " '__gt__',\n",
        " '__hash__',\n",
        " '__iadd__',\n",
        " '__imul__',\n",
        " '__init__',\n",
        " '__iter__',\n",
        " '__le__',\n",
        " '__len__',\n",
        " '__lt__',\n",
        " '__mul__',\n",
        " '__ne__',\n",
        " '__new__',\n",
        " '__reduce__',\n",
        " '__reduce_ex__',\n",
        " '__repr__',\n",
        " '__reversed__',\n",
        " '__rmul__',\n",
        " '__setattr__',\n",
        " '__setitem__',\n",
        " '__setslice__',\n",
        " '__sizeof__',\n",
        " '__str__',\n",
        " '__subclasshook__',\n",
        " 'append',\n",
        " 'count',\n",
        " 'extend',\n",
        " 'index',\n",
        " 'insert',\n",
        " 'pop',\n",
        " 'remove',\n",
        " 'reverse',\n",
        " 'sort']"
       ]
      }
     ],
     "prompt_number": 164
    },
    {
     "cell_type": "heading",
     "level": 5,
     "metadata": {},
     "source": [
      "Dictionaries"
     ]
    },
    {
     "cell_type": "code",
     "collapsed": false,
     "input": [
      "# empty dictionary\n",
      "D = {}"
     ],
     "language": "python",
     "metadata": {},
     "outputs": [],
     "prompt_number": 165
    },
    {
     "cell_type": "code",
     "collapsed": false,
     "input": [
      "# add elements to the dictionary (that must exist even if empty)\n",
      "D['food'] = 'Spam'\n",
      "D['quantity'] = 4\n",
      "D['color']='pink'\n",
      "D"
     ],
     "language": "python",
     "metadata": {},
     "outputs": [
      {
       "metadata": {},
       "output_type": "pyout",
       "prompt_number": 166,
       "text": [
        "{'color': 'pink', 'food': 'Spam', 'quantity': 4}"
       ]
      }
     ],
     "prompt_number": 166
    },
    {
     "cell_type": "code",
     "collapsed": false,
     "input": [
      "# another way to declare a dictionary - does not need to be predeclared\n",
      "D = {'food': 'Spam', 'quantity': 4, 'color': 'pink'}\n",
      "print D\n",
      "D[0] = 'ZERO' # here we added a key-value pair to the dictionary\n",
      "print D"
     ],
     "language": "python",
     "metadata": {},
     "outputs": [
      {
       "output_type": "stream",
       "stream": "stdout",
       "text": [
        "{'food': 'Spam', 'color': 'pink', 'quantity': 4}\n",
        "{'food': 'Spam', 'color': 'pink', 0: 'ZERO', 'quantity': 4}\n"
       ]
      }
     ],
     "prompt_number": 167
    },
    {
     "cell_type": "code",
     "collapsed": false,
     "input": [
      "D['somthing'] = 'another' # adding another key-value pair"
     ],
     "language": "python",
     "metadata": {},
     "outputs": [],
     "prompt_number": 168
    },
    {
     "cell_type": "code",
     "collapsed": false,
     "input": [
      "# print the value associated with the key 'food'\n",
      "D['food']"
     ],
     "language": "python",
     "metadata": {},
     "outputs": [
      {
       "metadata": {},
       "output_type": "pyout",
       "prompt_number": 169,
       "text": [
        "'Spam'"
       ]
      }
     ],
     "prompt_number": 169
    },
    {
     "cell_type": "code",
     "collapsed": false,
     "input": [
      "# another way to create a dictionary\n",
      "bob1 = dict(name='Bob', job='dev', age=40)\n",
      "print bob1"
     ],
     "language": "python",
     "metadata": {},
     "outputs": [
      {
       "output_type": "stream",
       "stream": "stdout",
       "text": [
        "{'age': 40, 'job': 'dev', 'name': 'Bob'}\n"
       ]
      }
     ],
     "prompt_number": 170
    },
    {
     "cell_type": "code",
     "collapsed": false,
     "input": [
      "# yet another way to create a dictionary\n",
      "bob2 = dict(zip(['name', 'job', 'age'], ['Bob', 'dev', 40]))\n",
      "print bob2"
     ],
     "language": "python",
     "metadata": {},
     "outputs": [
      {
       "output_type": "stream",
       "stream": "stdout",
       "text": [
        "{'age': 40, 'job': 'dev', 'name': 'Bob'}\n"
       ]
      }
     ],
     "prompt_number": 171
    },
    {
     "cell_type": "code",
     "collapsed": false,
     "input": [
      "# nesting - no restrictions on value\n",
      "rec = {'name': {'first': ['bob', 'mob'], 'last': 'Smith'},\n",
      "           'jobs': ['dev', 'mgr'],\n",
      "           'age':  40.5}\n",
      "print rec"
     ],
     "language": "python",
     "metadata": {},
     "outputs": [
      {
       "output_type": "stream",
       "stream": "stdout",
       "text": [
        "{'age': 40.5, 'jobs': ['dev', 'mgr'], 'name': {'last': 'Smith', 'first': ['bob', 'mob']}}\n"
       ]
      }
     ],
     "prompt_number": 172
    },
    {
     "cell_type": "code",
     "collapsed": false,
     "input": [
      "# access the first element\n",
      "rec['name']"
     ],
     "language": "python",
     "metadata": {},
     "outputs": [
      {
       "metadata": {},
       "output_type": "pyout",
       "prompt_number": 173,
       "text": [
        "{'first': ['bob', 'mob'], 'last': 'Smith'}"
       ]
      }
     ],
     "prompt_number": 173
    },
    {
     "cell_type": "code",
     "collapsed": false,
     "input": [
      "# access the 'sub'element\n",
      "rec['name']['first']"
     ],
     "language": "python",
     "metadata": {},
     "outputs": [
      {
       "metadata": {},
       "output_type": "pyout",
       "prompt_number": 174,
       "text": [
        "['bob', 'mob']"
       ]
      }
     ],
     "prompt_number": 174
    },
    {
     "cell_type": "code",
     "collapsed": false,
     "input": [
      "# access the first value of that subelement\n",
      "rec['name']['first'][0]"
     ],
     "language": "python",
     "metadata": {},
     "outputs": [
      {
       "metadata": {},
       "output_type": "pyout",
       "prompt_number": 175,
       "text": [
        "'bob'"
       ]
      }
     ],
     "prompt_number": 175
    },
    {
     "cell_type": "heading",
     "level": 5,
     "metadata": {},
     "source": [
      "Tuples - Immutable lists"
     ]
    },
    {
     "cell_type": "code",
     "collapsed": false,
     "input": [
      "# empty tuple\n",
      "T = ()"
     ],
     "language": "python",
     "metadata": {},
     "outputs": [],
     "prompt_number": 176
    },
    {
     "cell_type": "code",
     "collapsed": false,
     "input": [
      "# definition\n",
      "T= (1, 2, 3, 4)\n",
      "print T"
     ],
     "language": "python",
     "metadata": {},
     "outputs": [
      {
       "output_type": "stream",
       "stream": "stdout",
       "text": [
        "(1, 2, 3, 4)\n"
       ]
      }
     ],
     "prompt_number": 177
    },
    {
     "cell_type": "code",
     "collapsed": false,
     "input": [
      "# get the first element of T just like you would with lists\n",
      "T[0]"
     ],
     "language": "python",
     "metadata": {},
     "outputs": [
      {
       "metadata": {},
       "output_type": "pyout",
       "prompt_number": 178,
       "text": [
        "1"
       ]
      }
     ],
     "prompt_number": 178
    },
    {
     "cell_type": "code",
     "collapsed": false,
     "input": [
      "# add two tuples to make a larger tuple\n",
      "T+(5,6)"
     ],
     "language": "python",
     "metadata": {},
     "outputs": [
      {
       "metadata": {},
       "output_type": "pyout",
       "prompt_number": 179,
       "text": [
        "(1, 2, 3, 4, 5, 6)"
       ]
      }
     ],
     "prompt_number": 179
    },
    {
     "cell_type": "code",
     "collapsed": false,
     "input": [
      "# here's how you add the 7 to the tuple\n",
      "T + (7,)"
     ],
     "language": "python",
     "metadata": {},
     "outputs": [
      {
       "metadata": {},
       "output_type": "pyout",
       "prompt_number": 180,
       "text": [
        "(1, 2, 3, 4, 7)"
       ]
      }
     ],
     "prompt_number": 180
    },
    {
     "cell_type": "code",
     "collapsed": false,
     "input": [
      "# here's how you add a string to the tuple\n",
      "T + ('abc',)"
     ],
     "language": "python",
     "metadata": {},
     "outputs": [
      {
       "metadata": {},
       "output_type": "pyout",
       "prompt_number": 181,
       "text": [
        "(1, 2, 3, 4, 'abc')"
       ]
      }
     ],
     "prompt_number": 181
    },
    {
     "cell_type": "heading",
     "level": 5,
     "metadata": {},
     "source": [
      "Files I/O"
     ]
    },
    {
     "cell_type": "code",
     "collapsed": false,
     "input": [
      "# import os so you have access to the operating system's file separator\n",
      "import os\n",
      "print os.sep"
     ],
     "language": "python",
     "metadata": {},
     "outputs": [
      {
       "output_type": "stream",
       "stream": "stdout",
       "text": [
        "/\n"
       ]
      }
     ],
     "prompt_number": 182
    },
    {
     "cell_type": "code",
     "collapsed": false,
     "input": [
      "# open a file for reading\n",
      "fin = open('scripts' + os.sep + 'test.txt', 'rb')"
     ],
     "language": "python",
     "metadata": {},
     "outputs": [],
     "prompt_number": 183
    },
    {
     "cell_type": "code",
     "collapsed": false,
     "input": [
      "# read one line\n",
      "fin.readline()"
     ],
     "language": "python",
     "metadata": {},
     "outputs": [
      {
       "metadata": {},
       "output_type": "pyout",
       "prompt_number": 184,
       "text": [
        "'line1\\n'"
       ]
      }
     ],
     "prompt_number": 184
    },
    {
     "cell_type": "code",
     "collapsed": false,
     "input": [
      "# close the file\n",
      "fin.close()"
     ],
     "language": "python",
     "metadata": {},
     "outputs": [],
     "prompt_number": 185
    },
    {
     "cell_type": "code",
     "collapsed": false,
     "input": [
      "# read all the lines in the file with one statement\n",
      "fin = open('scripts' + os.sep + 'test.txt', 'rb')\n",
      "data = fin.readlines()\n",
      "fin.close()\n",
      "print data"
     ],
     "language": "python",
     "metadata": {},
     "outputs": [
      {
       "output_type": "stream",
       "stream": "stdout",
       "text": [
        "['line1\\n', 'line2\\n', 'line3\\n', 'line4\\n']\n"
       ]
      }
     ],
     "prompt_number": 187
    },
    {
     "cell_type": "code",
     "collapsed": false,
     "input": [
      "# find out where we are in the file\n",
      "fin = open('scripts' + os.sep + 'test.txt', 'rb')\n",
      "fin.read(3) # read 3 bytes\n",
      "print fin.tell()\n",
      "fin.close()"
     ],
     "language": "python",
     "metadata": {},
     "outputs": [
      {
       "output_type": "stream",
       "stream": "stdout",
       "text": [
        "3\n"
       ]
      }
     ],
     "prompt_number": 188
    },
    {
     "cell_type": "code",
     "collapsed": false,
     "input": [
      "# go to a location in the file\n",
      "fin = open('scripts' + os.sep + 'test.txt', 'rb')\n",
      "fin.read(3) # read 3 bytes\n",
      "print fin.tell()\n",
      "fin.seek(10,1) # go 10 bytes from our current location\n",
      "print fin.tell()\n",
      "print fin.read(1) # read 1 byte\n",
      "fin.close()"
     ],
     "language": "python",
     "metadata": {},
     "outputs": [
      {
       "output_type": "stream",
       "stream": "stdout",
       "text": [
        "3\n",
        "13\n",
        "i\n"
       ]
      }
     ],
     "prompt_number": 189
    },
    {
     "cell_type": "code",
     "collapsed": false,
     "input": [
      "# read the whole file as a string\n",
      "fin = open('scripts' + os.sep + 'test.txt', 'rb')\n",
      "data = fin.read() # read to the end of the file\n",
      "print fin.tell() # of bytes we read (the size of this file)\n",
      "print data\n",
      "fin.close()"
     ],
     "language": "python",
     "metadata": {},
     "outputs": [
      {
       "output_type": "stream",
       "stream": "stdout",
       "text": [
        "24\n",
        "line1\n",
        "line2\n",
        "line3\n",
        "line4\n",
        "\n"
       ]
      }
     ],
     "prompt_number": 190
    },
    {
     "cell_type": "code",
     "collapsed": false,
     "input": [
      "# go to the end f the file\n",
      "fin = open('scripts' + os.sep + 'test.txt', 'rb')\n",
      "fin.seek(0,2)\n",
      "print fin.tell() # the byte number we're at\n",
      "fin.close()"
     ],
     "language": "python",
     "metadata": {},
     "outputs": [
      {
       "output_type": "stream",
       "stream": "stdout",
       "text": [
        "24\n"
       ]
      }
     ],
     "prompt_number": 192
    },
    {
     "cell_type": "code",
     "collapsed": false,
     "input": [
      "# another way to open and read from a file - no close() necessary\n",
      "with open('scripts' + os.sep + 'test.txt', 'rb') as fin:\n",
      "    print fin.readlines()\n"
     ],
     "language": "python",
     "metadata": {},
     "outputs": [
      {
       "output_type": "stream",
       "stream": "stdout",
       "text": [
        "['line1\\n', 'line2\\n', 'line3\\n', 'line4\\n']\n"
       ]
      }
     ],
     "prompt_number": 194
    },
    {
     "cell_type": "code",
     "collapsed": false,
     "input": [
      "# write to a file\n",
      "fout = open('scripts' + os.sep + 'test.out', 'wb')\n",
      "fout.write('abcdefg\\n')\n",
      "fout.write('1234567')\n",
      "fout.close()"
     ],
     "language": "python",
     "metadata": {},
     "outputs": [],
     "prompt_number": 195
    },
    {
     "cell_type": "code",
     "collapsed": false,
     "input": [
      "# read the contents of the just created file\n",
      "fin = open('scripts' + os.sep + 'test.out', 'rb')\n",
      "print fin.read()\n",
      "fin.close()"
     ],
     "language": "python",
     "metadata": {},
     "outputs": [
      {
       "output_type": "stream",
       "stream": "stdout",
       "text": [
        "abcdefg\n",
        "1234567\n"
       ]
      }
     ],
     "prompt_number": 196
    },
    {
     "cell_type": "code",
     "collapsed": false,
     "input": [
      "# read the contents of a csv file\n",
      "import csv\n",
      "\n",
      "with open('data' + os.sep + 'csv_file.csv', 'rb') as fin:\n",
      "    csv_reader = csv.reader(fin)\n",
      "    \n",
      "    for row in csv_reader:\n",
      "        print row"
     ],
     "language": "python",
     "metadata": {},
     "outputs": [
      {
       "output_type": "stream",
       "stream": "stdout",
       "text": [
        "['a', 'b', 'c', 'd', 'e']\n",
        "['f', 'g', 'h', 'i', 'j']\n",
        "['h', 'i', 'j', 'k', 'l']\n"
       ]
      }
     ],
     "prompt_number": 200
    },
    {
     "cell_type": "code",
     "collapsed": false,
     "input": [
      "# let's read a csv file and store the data in a list the persists after \n",
      "# the file is closed\n",
      "data_list = []\n",
      "with open('data' + os.sep + 'csv_file.csv', 'rb') as fin:\n",
      "    csv_reader = csv.reader(fin)\n",
      "    \n",
      "    for row in csv_reader:\n",
      "        data_list.append(row)\n",
      "\n",
      "# print the data\n",
      "print data_list"
     ],
     "language": "python",
     "metadata": {},
     "outputs": [
      {
       "output_type": "stream",
       "stream": "stdout",
       "text": [
        "[['a', 'b', 'c', 'd', 'e'], ['f', 'g', 'h', 'i', 'j'], ['h', 'i', 'j', 'k', 'l']]\n"
       ]
      }
     ],
     "prompt_number": 202
    },
    {
     "cell_type": "code",
     "collapsed": false,
     "input": [
      "# let's write the data to a file in reverse order for the list and for each \n",
      "# element in the list\n",
      "\n",
      "import csv\n",
      "import os\n",
      "\n",
      "fout = open('data' + os.sep + 'csv_out.csv', 'wb')\n",
      "\n",
      "csv_writer = csv.writer(fout)\n",
      "\n",
      "for row in reversed(data_list):\n",
      "    csv_writer.writerow(row)\n",
      "    \n",
      "fout.close()"
     ],
     "language": "python",
     "metadata": {},
     "outputs": [],
     "prompt_number": 204
    },
    {
     "cell_type": "code",
     "collapsed": false,
     "input": [
      "# read data from a csv file that has headers\n",
      "fin = open('data' + os.sep + 'csv_file2.csv', 'rb')\n",
      "csv_data = csv.DictReader(fin, delimiter=',')\n",
      "\n",
      "# let's see how the structure looks\n",
      "for line in csv_data:\n",
      "    print line['lat']"
     ],
     "language": "python",
     "metadata": {},
     "outputs": [
      {
       "output_type": "stream",
       "stream": "stdout",
       "text": [
        "0.30618435234\n",
        "0.423177995977\n",
        "0.217746501105\n",
        "0.0642327448485\n",
        "0.321243534318\n",
        "0.911230037313\n"
       ]
      }
     ],
     "prompt_number": 205
    },
    {
     "cell_type": "code",
     "collapsed": false,
     "input": [
      "# let's write a csv file with headers using DictWriter\n",
      "\n",
      "# from above we saw that the structure generated from DictReader was a list\n",
      "# of dictionaries - so generate a list of dictionaries\n",
      "\n",
      "import os\n",
      "import csv\n",
      "\n",
      "# define the list\n",
      "rows = []\n",
      "rows.append({'name': 'mal', 'dob': 2468, 'role': 'captain'})\n",
      "rows.append({'name': 'zoe', 'dob': 2484, 'role': 'first mate'})\n",
      "rows.append({'name': 'wash', 'dob': 2468, 'role': 'pilot'})\n",
      "rows.append({'name': 'inara', 'dob': 2460, 'role': 'companion'})\n",
      "rows.append({'name': 'jayne', 'dob': 2463, 'role': 'mercenary'})\n",
      "\n",
      "# define the header\n",
      "header = ['name', 'dob', 'role']\n",
      "\n",
      "# open the file\n",
      "with open('data' + os.sep + 'csv_output_2.csv', 'wb') as fout:\n",
      "    csv_writer = csv.DictWriter(fout, header)\n",
      "    csv_writer.writeheader()\n",
      "    csv_writer.writerows(rows)"
     ],
     "language": "python",
     "metadata": {},
     "outputs": [],
     "prompt_number": 206
    },
    {
     "cell_type": "code",
     "collapsed": false,
     "input": [
      "# read the contents of the just created  csv file\n",
      "import csv\n",
      "\n",
      "with open('data' + os.sep + 'csv_output_2.csv', 'rb') as fin:\n",
      "    csv_reader = csv.reader(fin)\n",
      "    \n",
      "    for row in csv_reader:\n",
      "        print row"
     ],
     "language": "python",
     "metadata": {},
     "outputs": [
      {
       "output_type": "stream",
       "stream": "stdout",
       "text": [
        "['name', 'dob', 'role']\n",
        "['mal', '2468', 'captain']\n",
        "['zoe', '2484', 'first mate']\n",
        "['wash', '2468', 'pilot']\n",
        "['inara', '2460', 'companion']\n",
        "['jayne', '2463', 'mercenary']\n"
       ]
      }
     ],
     "prompt_number": 207
    },
    {
     "cell_type": "heading",
     "level": 5,
     "metadata": {},
     "source": [
      "Functions"
     ]
    },
    {
     "cell_type": "heading",
     "level": 5,
     "metadata": {},
     "source": [
      "Odds and Ends"
     ]
    },
    {
     "cell_type": "code",
     "collapsed": false,
     "input": [
      "# simple if statement\n",
      "x = 1\n",
      "y = 2\n",
      "\n",
      "if x < y: # parentheses around the logical expression are optional\n",
      "    x = 2\n",
      "    y = 1\n",
      "\n",
      "    \n",
      "print x,y"
     ],
     "language": "python",
     "metadata": {},
     "outputs": [
      {
       "output_type": "stream",
       "stream": "stdout",
       "text": [
        "2 1\n"
       ]
      }
     ],
     "prompt_number": 208
    },
    {
     "cell_type": "code",
     "collapsed": false,
     "input": [
      "# when to use parentheses\n",
      "A = 1\n",
      "B = 2\n",
      "C = 3\n",
      "if (A == 1 and\n",
      "    B == 2 and\n",
      "    C == 3):\n",
      "    print 'yes '*3"
     ],
     "language": "python",
     "metadata": {},
     "outputs": [
      {
       "output_type": "stream",
       "stream": "stdout",
       "text": [
        "yes yes yes \n"
       ]
      }
     ],
     "prompt_number": 209
    },
    {
     "cell_type": "code",
     "collapsed": false,
     "input": [
      "# if/else\n",
      "A = 1\n",
      "B = 2\n",
      "C = 3\n",
      "if (A == 1 and # here we used line continuation\n",
      "    B == 2 and\n",
      "    C == 4):\n",
      "    print 'yes '*3\n",
      "else:\n",
      "    print 'no '*3"
     ],
     "language": "python",
     "metadata": {},
     "outputs": [
      {
       "output_type": "stream",
       "stream": "stdout",
       "text": [
        "no no no \n"
       ]
      }
     ],
     "prompt_number": 210
    },
    {
     "cell_type": "code",
     "collapsed": false,
     "input": [
      "# if and if-else\n",
      "# if/else\n",
      "A = 1\n",
      "B = 2\n",
      "C = 3\n",
      "if (A == 1 and\n",
      "    B == 2 and\n",
      "    C == 4):\n",
      "    print 'yes '*3\n",
      "elif (A == 1 and \n",
      "      B == 2 and \n",
      "      C == 3):\n",
      "    print 'maybe ' * 3\n",
      "else:\n",
      "    print 'no '*3"
     ],
     "language": "python",
     "metadata": {},
     "outputs": [
      {
       "output_type": "stream",
       "stream": "stdout",
       "text": [
        "maybe maybe maybe \n"
       ]
      }
     ],
     "prompt_number": 211
    },
    {
     "cell_type": "code",
     "collapsed": false,
     "input": [
      "# line continuation\n",
      "A = 1\n",
      "B = 2\n",
      "C = 3\n",
      "\n",
      "# avoid this - if there is space after the / you'll get an error\n",
      "X = A + \\\n",
      "    B + C\n",
      "print X\n",
      "\n",
      "# instead use this\n",
      "X = (A + \n",
      "     B + C)\n",
      "print X"
     ],
     "language": "python",
     "metadata": {},
     "outputs": [
      {
       "output_type": "stream",
       "stream": "stdout",
       "text": [
        "6\n",
        "6\n"
       ]
      }
     ],
     "prompt_number": 212
    },
    {
     "cell_type": "code",
     "collapsed": false,
     "input": [
      "# special if statement\n",
      "# here the body of the if statement is a single statement\n",
      "\n",
      "A = 1\n",
      "if A == 1: print A"
     ],
     "language": "python",
     "metadata": {},
     "outputs": [
      {
       "output_type": "stream",
       "stream": "stdout",
       "text": [
        "1\n"
       ]
      }
     ],
     "prompt_number": 213
    },
    {
     "cell_type": "code",
     "collapsed": false,
     "input": [
      "S = \"\"\"\n",
      "aaaa\n",
      "bbbb   #xyz\n",
      "cccc\"\"\"\n",
      "print S"
     ],
     "language": "python",
     "metadata": {},
     "outputs": [
      {
       "output_type": "stream",
       "stream": "stdout",
       "text": [
        "\n",
        "aaaa\n",
        "bbbb   #xyz\n",
        "cccc\n"
       ]
      }
     ],
     "prompt_number": 214
    },
    {
     "cell_type": "code",
     "collapsed": false,
     "input": [
      "S = ('aaaa'\n",
      "     'bbbb'                      # Comments here are ignored\n",
      "     'cccc')\n",
      "print S"
     ],
     "language": "python",
     "metadata": {},
     "outputs": [
      {
       "output_type": "stream",
       "stream": "stdout",
       "text": [
        "aaaabbbbcccc\n"
       ]
      }
     ],
     "prompt_number": 215
    },
    {
     "cell_type": "code",
     "collapsed": false,
     "input": [
      "L = [\"Good\",\n",
      "     \"Bad\",\n",
      "     \"Ugly\"]   \n",
      "\n",
      "print L"
     ],
     "language": "python",
     "metadata": {},
     "outputs": [
      {
       "output_type": "stream",
       "stream": "stdout",
       "text": [
        "['Good', 'Bad', 'Ugly']\n"
       ]
      }
     ],
     "prompt_number": 216
    },
    {
     "cell_type": "code",
     "collapsed": false,
     "input": [
      "# define a dictionary\n",
      "branch = {'spam': 1.25, 'ham':  1.99,'eggs': 0.99}"
     ],
     "language": "python",
     "metadata": {},
     "outputs": [],
     "prompt_number": 217
    },
    {
     "cell_type": "code",
     "collapsed": false,
     "input": [
      "# use the get function\n",
      "branch.get('spamd', 'Bad Choice')"
     ],
     "language": "python",
     "metadata": {},
     "outputs": [
      {
       "metadata": {},
       "output_type": "pyout",
       "prompt_number": 218,
       "text": [
        "'Bad Choice'"
       ]
      }
     ],
     "prompt_number": 218
    },
    {
     "cell_type": "code",
     "collapsed": false,
     "input": [
      "# print the dictionary as a list of tuples\n",
      "branch.items()"
     ],
     "language": "python",
     "metadata": {},
     "outputs": [
      {
       "metadata": {},
       "output_type": "pyout",
       "prompt_number": 219,
       "text": [
        "[('eggs', 0.99), ('ham', 1.99), ('spam', 1.25)]"
       ]
      }
     ],
     "prompt_number": 219
    },
    {
     "cell_type": "code",
     "collapsed": false,
     "input": [
      "# loop though dictionary and print key-value pairs\n",
      "for (key,value) in branch.items():\n",
      "    print key, '\\t', value"
     ],
     "language": "python",
     "metadata": {},
     "outputs": [
      {
       "output_type": "stream",
       "stream": "stdout",
       "text": [
        "eggs \t0.99\n",
        "ham \t1.99\n",
        "spam \t1.25\n"
       ]
      }
     ],
     "prompt_number": 220
    },
    {
     "cell_type": "code",
     "collapsed": false,
     "input": [
      "# simple while loop\n",
      "x='spam'\n",
      "while x:\n",
      "    print x,\n",
      "    x=x[1:]"
     ],
     "language": "python",
     "metadata": {},
     "outputs": [
      {
       "output_type": "stream",
       "stream": "stdout",
       "text": [
        "spam pam am m\n"
       ]
      }
     ],
     "prompt_number": 221
    },
    {
     "cell_type": "code",
     "collapsed": false,
     "input": [
      "# some formatting\n",
      "print '%02d' % (1,)"
     ],
     "language": "python",
     "metadata": {},
     "outputs": [
      {
       "output_type": "stream",
       "stream": "stdout",
       "text": [
        "01\n"
       ]
      }
     ],
     "prompt_number": 222
    },
    {
     "cell_type": "code",
     "collapsed": false,
     "input": [
      "# some more formatting\n",
      "x=3.1415926\n",
      "print '{:.2f}'.format(x)"
     ],
     "language": "python",
     "metadata": {},
     "outputs": [
      {
       "output_type": "stream",
       "stream": "stdout",
       "text": [
        "3.14\n"
       ]
      }
     ],
     "prompt_number": 223
    },
    {
     "cell_type": "code",
     "collapsed": false,
     "input": [
      "# simple assignments\n",
      "a = 3\n",
      "b = a\n",
      "print a,b\n",
      "a = 4\n",
      "print a,b"
     ],
     "language": "python",
     "metadata": {},
     "outputs": [
      {
       "output_type": "stream",
       "stream": "stdout",
       "text": [
        "3 3\n",
        "4 3\n"
       ]
      }
     ],
     "prompt_number": 224
    },
    {
     "cell_type": "code",
     "collapsed": false,
     "input": [
      "# list copying and assigning\n",
      "L=[1,2,3,4]\n",
      "L1 = L\n",
      "print L,L1\n",
      "L.append(5)\n",
      "print L, L1\n",
      "L1 = L[:] # deep copy\n",
      "L.append(6)\n",
      "print L, L1"
     ],
     "language": "python",
     "metadata": {},
     "outputs": [
      {
       "output_type": "stream",
       "stream": "stdout",
       "text": [
        "[1, 2, 3, 4] [1, 2, 3, 4]\n",
        "[1, 2, 3, 4, 5] [1, 2, 3, 4, 5]\n",
        "[1, 2, 3, 4, 5, 6] [1, 2, 3, 4, 5]\n"
       ]
      }
     ],
     "prompt_number": 225
    },
    {
     "cell_type": "code",
     "collapsed": false,
     "input": [],
     "language": "python",
     "metadata": {},
     "outputs": []
    },
    {
     "cell_type": "code",
     "collapsed": false,
     "input": [],
     "language": "python",
     "metadata": {},
     "outputs": []
    }
   ],
   "metadata": {}
  }
 ]
}