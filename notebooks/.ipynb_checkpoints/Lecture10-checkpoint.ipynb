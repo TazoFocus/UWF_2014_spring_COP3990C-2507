{
 "metadata": {
  "name": ""
 },
 "nbformat": 3,
 "nbformat_minor": 0,
 "worksheets": [
  {
   "cells": [
    {
     "cell_type": "code",
     "collapsed": false,
     "input": [
      "import os"
     ],
     "language": "python",
     "metadata": {},
     "outputs": [],
     "prompt_number": 2
    },
    {
     "cell_type": "code",
     "collapsed": false,
     "input": [
      "os.getcwd()"
     ],
     "language": "python",
     "metadata": {},
     "outputs": [
      {
       "metadata": {},
       "output_type": "pyout",
       "prompt_number": 3,
       "text": [
        "'/home/jimmy/Dropbox/UWF/Spring2014/Python/UWF_2014_spring_COP3990C-2507/notebooks'"
       ]
      }
     ],
     "prompt_number": 3
    },
    {
     "cell_type": "code",
     "collapsed": false,
     "input": [
      "os.ctermid()"
     ],
     "language": "python",
     "metadata": {},
     "outputs": [
      {
       "metadata": {},
       "output_type": "pyout",
       "prompt_number": 4,
       "text": [
        "'/dev/tty'"
       ]
      }
     ],
     "prompt_number": 4
    },
    {
     "cell_type": "code",
     "collapsed": false,
     "input": [
      "os.geteuid()"
     ],
     "language": "python",
     "metadata": {},
     "outputs": [
      {
       "metadata": {},
       "output_type": "pyout",
       "prompt_number": 5,
       "text": [
        "1000"
       ]
      }
     ],
     "prompt_number": 5
    },
    {
     "cell_type": "code",
     "collapsed": false,
     "input": [
      "os.getegid()"
     ],
     "language": "python",
     "metadata": {},
     "outputs": [
      {
       "metadata": {},
       "output_type": "pyout",
       "prompt_number": 6,
       "text": [
        "1000"
       ]
      }
     ],
     "prompt_number": 6
    },
    {
     "cell_type": "code",
     "collapsed": false,
     "input": [
      "os.getgroups()"
     ],
     "language": "python",
     "metadata": {},
     "outputs": [
      {
       "metadata": {},
       "output_type": "pyout",
       "prompt_number": 7,
       "text": [
        "[24, 25, 29, 30, 44, 46, 103, 106, 111, 1000]"
       ]
      }
     ],
     "prompt_number": 7
    },
    {
     "cell_type": "code",
     "collapsed": false,
     "input": [
      "os.stat('scripts/')"
     ],
     "language": "python",
     "metadata": {},
     "outputs": [
      {
       "metadata": {},
       "output_type": "pyout",
       "prompt_number": 14,
       "text": [
        "posix.stat_result(st_mode=16877, st_ino=3670051, st_dev=65025L, st_nlink=8, st_uid=1000, st_gid=1000, st_size=4096, st_atime=1393016640, st_mtime=1392676428, st_ctime=1392676428)"
       ]
      }
     ],
     "prompt_number": 14
    },
    {
     "cell_type": "code",
     "collapsed": false,
     "input": [
      "os.getlogin()"
     ],
     "language": "python",
     "metadata": {},
     "outputs": [
      {
       "metadata": {},
       "output_type": "pyout",
       "prompt_number": 8,
       "text": [
        "'jimmy'"
       ]
      }
     ],
     "prompt_number": 8
    },
    {
     "cell_type": "code",
     "collapsed": false,
     "input": [
      "os.getpgrp()"
     ],
     "language": "python",
     "metadata": {},
     "outputs": [
      {
       "metadata": {},
       "output_type": "pyout",
       "prompt_number": 9,
       "text": [
        "8143"
       ]
      }
     ],
     "prompt_number": 9
    },
    {
     "cell_type": "code",
     "collapsed": false,
     "input": [
      "os.getppid()"
     ],
     "language": "python",
     "metadata": {},
     "outputs": [
      {
       "metadata": {},
       "output_type": "pyout",
       "prompt_number": 10,
       "text": [
        "8143"
       ]
      }
     ],
     "prompt_number": 10
    },
    {
     "cell_type": "code",
     "collapsed": false,
     "input": [
      "'x' is 'x'"
     ],
     "language": "python",
     "metadata": {},
     "outputs": [
      {
       "metadata": {},
       "output_type": "pyout",
       "prompt_number": 1,
       "text": [
        "True"
       ]
      }
     ],
     "prompt_number": 1
    },
    {
     "cell_type": "code",
     "collapsed": false,
     "input": [
      "import os.path"
     ],
     "language": "python",
     "metadata": {},
     "outputs": [],
     "prompt_number": 3
    },
    {
     "cell_type": "code",
     "collapsed": false,
     "input": [
      "os.path.abspath('.')"
     ],
     "language": "python",
     "metadata": {},
     "outputs": [
      {
       "metadata": {},
       "output_type": "pyout",
       "prompt_number": 4,
       "text": [
        "'/home/aliean/Dropbox/UWF/spring2014/python/UWF_2014_spring_COP3990C-2507/notebooks'"
       ]
      }
     ],
     "prompt_number": 4
    },
    {
     "cell_type": "code",
     "collapsed": false,
     "input": [
      "os.path.basename('scripts/gen_random_csv_file.py')"
     ],
     "language": "python",
     "metadata": {},
     "outputs": [
      {
       "metadata": {},
       "output_type": "pyout",
       "prompt_number": 5,
       "text": [
        "'gen_random_csv_file.py'"
       ]
      }
     ],
     "prompt_number": 5
    },
    {
     "cell_type": "code",
     "collapsed": false,
     "input": [
      "os.path.dirname('/home/aliean/Dropbox/UWF/spring2014/python/UWF_2014_spring_COP3990C-2507/notebooks/scripts/gen_random_csv_file.py')"
     ],
     "language": "python",
     "metadata": {},
     "outputs": [
      {
       "metadata": {},
       "output_type": "pyout",
       "prompt_number": 10,
       "text": [
        "'/home/aliean/Dropbox/UWF/spring2014/python/UWF_2014_spring_COP3990C-2507/notebooks/scripts'"
       ]
      }
     ],
     "prompt_number": 10
    },
    {
     "cell_type": "code",
     "collapsed": false,
     "input": [
      "os.path.exists('scripts')"
     ],
     "language": "python",
     "metadata": {},
     "outputs": [
      {
       "metadata": {},
       "output_type": "pyout",
       "prompt_number": 11,
       "text": [
        "True"
       ]
      }
     ],
     "prompt_number": 11
    },
    {
     "cell_type": "code",
     "collapsed": false,
     "input": [
      "os.path.exists('scripts/gen_random_csv_file.py')"
     ],
     "language": "python",
     "metadata": {},
     "outputs": [
      {
       "metadata": {},
       "output_type": "pyout",
       "prompt_number": 12,
       "text": [
        "True"
       ]
      }
     ],
     "prompt_number": 12
    },
    {
     "cell_type": "code",
     "collapsed": false,
     "input": [
      "os.path.exists('scripts/gen_random_csv_file')"
     ],
     "language": "python",
     "metadata": {},
     "outputs": [
      {
       "metadata": {},
       "output_type": "pyout",
       "prompt_number": 13,
       "text": [
        "False"
       ]
      }
     ],
     "prompt_number": 13
    },
    {
     "cell_type": "code",
     "collapsed": false,
     "input": [
      "os.path.expanduser('~/Dropbox/UWF')"
     ],
     "language": "python",
     "metadata": {},
     "outputs": [
      {
       "metadata": {},
       "output_type": "pyout",
       "prompt_number": 15,
       "text": [
        "'/home/aliean/Dropbox/UWF'"
       ]
      }
     ],
     "prompt_number": 15
    },
    {
     "cell_type": "code",
     "collapsed": false,
     "input": [
      "os.path.expandvars('$HOME')"
     ],
     "language": "python",
     "metadata": {},
     "outputs": [
      {
       "metadata": {},
       "output_type": "pyout",
       "prompt_number": 16,
       "text": [
        "'/home/aliean'"
       ]
      }
     ],
     "prompt_number": 16
    },
    {
     "cell_type": "code",
     "collapsed": false,
     "input": [
      "os.path.getatime('scripts/gen_random_csv_file.py')"
     ],
     "language": "python",
     "metadata": {},
     "outputs": [
      {
       "metadata": {},
       "output_type": "pyout",
       "prompt_number": 17,
       "text": [
        "1392073757.441843"
       ]
      }
     ],
     "prompt_number": 17
    },
    {
     "cell_type": "code",
     "collapsed": false,
     "input": [
      "os.path.getmtime('scripts/gen_random_csv_file.py')"
     ],
     "language": "python",
     "metadata": {},
     "outputs": [
      {
       "metadata": {},
       "output_type": "pyout",
       "prompt_number": 18,
       "text": [
        "1391718655.0"
       ]
      }
     ],
     "prompt_number": 18
    },
    {
     "cell_type": "code",
     "collapsed": false,
     "input": [
      "# in bytes\n",
      "os.path.getsize('scripts/gen_random_csv_file.py')"
     ],
     "language": "python",
     "metadata": {},
     "outputs": [
      {
       "metadata": {},
       "output_type": "pyout",
       "prompt_number": 20,
       "text": [
        "272"
       ]
      }
     ],
     "prompt_number": 20
    },
    {
     "cell_type": "code",
     "collapsed": false,
     "input": [
      "os.path.isabs('scripts/gen_random_csv_file.py')"
     ],
     "language": "python",
     "metadata": {},
     "outputs": [
      {
       "metadata": {},
       "output_type": "pyout",
       "prompt_number": 21,
       "text": [
        "False"
       ]
      }
     ],
     "prompt_number": 21
    },
    {
     "cell_type": "code",
     "collapsed": false,
     "input": [
      "os.path.isfile('scripts/gen_random_csv_file.py')"
     ],
     "language": "python",
     "metadata": {},
     "outputs": [
      {
       "metadata": {},
       "output_type": "pyout",
       "prompt_number": 22,
       "text": [
        "True"
       ]
      }
     ],
     "prompt_number": 22
    },
    {
     "cell_type": "code",
     "collapsed": false,
     "input": [
      "os.path.isfile('scripts')"
     ],
     "language": "python",
     "metadata": {},
     "outputs": [
      {
       "metadata": {},
       "output_type": "pyout",
       "prompt_number": 23,
       "text": [
        "False"
       ]
      }
     ],
     "prompt_number": 23
    },
    {
     "cell_type": "code",
     "collapsed": false,
     "input": [
      "os.path.isdir('scripts')"
     ],
     "language": "python",
     "metadata": {},
     "outputs": [
      {
       "metadata": {},
       "output_type": "pyout",
       "prompt_number": 24,
       "text": [
        "True"
       ]
      }
     ],
     "prompt_number": 24
    },
    {
     "cell_type": "code",
     "collapsed": false,
     "input": [
      "os.path.sameopenfile"
     ],
     "language": "python",
     "metadata": {},
     "outputs": []
    },
    {
     "cell_type": "code",
     "collapsed": false,
     "input": [
      "os.path.splitext('scripts/gen_random_csv_file.py')"
     ],
     "language": "python",
     "metadata": {},
     "outputs": [
      {
       "metadata": {},
       "output_type": "pyout",
       "prompt_number": 25,
       "text": [
        "('scripts/gen_random_csv_file', '.py')"
       ]
      }
     ],
     "prompt_number": 25
    },
    {
     "cell_type": "code",
     "collapsed": false,
     "input": [
      "os.path.splitext('scripts')"
     ],
     "language": "python",
     "metadata": {},
     "outputs": [
      {
       "metadata": {},
       "output_type": "pyout",
       "prompt_number": 30,
       "text": [
        "('scripts', '')"
       ]
      }
     ],
     "prompt_number": 30
    },
    {
     "cell_type": "code",
     "collapsed": false,
     "input": [
      "os.path.walk(path, visit, arg)"
     ],
     "language": "python",
     "metadata": {},
     "outputs": []
    },
    {
     "cell_type": "code",
     "collapsed": false,
     "input": [
      "def visit(arg,dir_name,names):\n",
      "    print dir_name, \" :\\t %d files\" %len(names)\n",
      "    \n",
      "    \n",
      "os.path.walk(os.path.expanduser('/home/aliean/Dropbox/UWF/spring2014/python/UWF_2014_spring_COP3990C-2507/notebooks/scripts/'), visit, None)"
     ],
     "language": "python",
     "metadata": {},
     "outputs": [
      {
       "output_type": "stream",
       "stream": "stdout",
       "text": [
        "/home/aliean/Dropbox/UWF/spring2014/python/UWF_2014_spring_COP3990C-2507/notebooks/scripts/  :\t 21 files\n",
        "/home/aliean/Dropbox/UWF/spring2014/python/UWF_2014_spring_COP3990C-2507/notebooks/scripts/hw02-solutions  :\t 5 files\n",
        "/home/aliean/Dropbox/UWF/spring2014/python/UWF_2014_spring_COP3990C-2507/notebooks/scripts/hw03-solutions  :\t 8 files\n",
        "/home/aliean/Dropbox/UWF/spring2014/python/UWF_2014_spring_COP3990C-2507/notebooks/scripts/hw01-solutions  :\t 1 files\n",
        "/home/aliean/Dropbox/UWF/spring2014/python/UWF_2014_spring_COP3990C-2507/notebooks/scripts/dir0  :\t 4 files\n",
        "/home/aliean/Dropbox/UWF/spring2014/python/UWF_2014_spring_COP3990C-2507/notebooks/scripts/dir0/dir1  :\t 3 files\n",
        "/home/aliean/Dropbox/UWF/spring2014/python/UWF_2014_spring_COP3990C-2507/notebooks/scripts/dir0/dir1/dir2  :\t 3 files\n",
        "/home/aliean/Dropbox/UWF/spring2014/python/UWF_2014_spring_COP3990C-2507/notebooks/scripts/dir0/dir1/dir2/dir3  :\t 2 files\n",
        "/home/aliean/Dropbox/UWF/spring2014/python/UWF_2014_spring_COP3990C-2507/notebooks/scripts/book_code  :\t 3 files\n",
        "/home/aliean/Dropbox/UWF/spring2014/python/UWF_2014_spring_COP3990C-2507/notebooks/scripts/book_code/code  :\t 366 files\n",
        "/home/aliean/Dropbox/UWF/spring2014/python/UWF_2014_spring_COP3990C-2507/notebooks/scripts/book_code/code/py3x  :\t 2 files\n",
        "/home/aliean/Dropbox/UWF/spring2014/python/UWF_2014_spring_COP3990C-2507/notebooks/scripts/book_code/code/py3x/__pycache__  :\t 0 files\n",
        "/home/aliean/Dropbox/UWF/spring2014/python/UWF_2014_spring_COP3990C-2507/notebooks/scripts/book_code/code/ns2  :\t 0 files\n",
        "/home/aliean/Dropbox/UWF/spring2014/python/UWF_2014_spring_COP3990C-2507/notebooks/scripts/book_code/code/ns3  :\t 1 files\n",
        "/home/aliean/Dropbox/UWF/spring2014/python/UWF_2014_spring_COP3990C-2507/notebooks/scripts/book_code/code/ns3/dir  :\t 2 files\n",
        "/home/aliean/Dropbox/UWF/spring2014/python/UWF_2014_spring_COP3990C-2507/notebooks/scripts/book_code/code/ns3/dir/__pycache__  :\t 0 files\n",
        "/home/aliean/Dropbox/UWF/spring2014/python/UWF_2014_spring_COP3990C-2507/notebooks/scripts/book_code/code/py2x  :\t 1 files\n",
        "/home/aliean/Dropbox/UWF/spring2014/python/UWF_2014_spring_COP3990C-2507/notebooks/scripts/book_code/code/a1  :\t 1 files\n",
        "/home/aliean/Dropbox/UWF/spring2014/python/UWF_2014_spring_COP3990C-2507/notebooks/scripts/book_code/code/a1/b  :\t 3 files\n",
        "/home/aliean/Dropbox/UWF/spring2014/python/UWF_2014_spring_COP3990C-2507/notebooks/scripts/book_code/code/a1/b/__pycache__  :\t 0 files\n",
        "/home/aliean/Dropbox/UWF/spring2014/python/UWF_2014_spring_COP3990C-2507/notebooks/scripts/book_code/code/ns4  :\t 2 files\n",
        "/home/aliean/Dropbox/UWF/spring2014/python/UWF_2014_spring_COP3990C-2507/notebooks/scripts/book_code/code/ns4/dir2  :\t 1 files\n",
        "/home/aliean/Dropbox/UWF/spring2014/python/UWF_2014_spring_COP3990C-2507/notebooks/scripts/book_code/code/ns4/dir2/sub  :\t 2 files\n",
        "/home/aliean/Dropbox/UWF/spring2014/python/UWF_2014_spring_COP3990C-2507/notebooks/scripts/book_code/code/ns4/dir2/sub/__pycache__  :\t 0 files\n",
        "/home/aliean/Dropbox/UWF/spring2014/python/UWF_2014_spring_COP3990C-2507/notebooks/scripts/book_code/code/ns4/dir1  :\t 1 files\n",
        "/home/aliean/Dropbox/UWF/spring2014/python/UWF_2014_spring_COP3990C-2507/notebooks/scripts/book_code/code/ns4/dir1/sub  :\t 0 files\n",
        "/home/aliean/Dropbox/UWF/spring2014/python/UWF_2014_spring_COP3990C-2507/notebooks/scripts/book_code/code/pkg  :\t 5 files\n",
        "/home/aliean/Dropbox/UWF/spring2014/python/UWF_2014_spring_COP3990C-2507/notebooks/scripts/book_code/code/pkg/__pycache__  :\t 0 files\n",
        "/home/aliean/Dropbox/UWF/spring2014/python/UWF_2014_spring_COP3990C-2507/notebooks/scripts/book_code/code/ns  :\t 2 files\n",
        "/home/aliean/Dropbox/UWF/spring2014/python/UWF_2014_spring_COP3990C-2507/notebooks/scripts/book_code/code/ns/dir2  :\t 1 files\n",
        "/home/aliean/Dropbox/UWF/spring2014/python/UWF_2014_spring_COP3990C-2507/notebooks/scripts/book_code/code/ns/dir2/sub  :\t 3 files\n",
        "/home/aliean/Dropbox/UWF/spring2014/python/UWF_2014_spring_COP3990C-2507/notebooks/scripts/book_code/code/ns/dir2/sub/lower  :\t 2 files\n",
        "/home/aliean/Dropbox/UWF/spring2014/python/UWF_2014_spring_COP3990C-2507/notebooks/scripts/book_code/code/ns/dir2/sub/lower/__pycache__  :\t 0 files\n",
        "/home/aliean/Dropbox/UWF/spring2014/python/UWF_2014_spring_COP3990C-2507/notebooks/scripts/book_code/code/ns/dir2/sub/__pycache__  :\t 0 files\n",
        "/home/aliean/Dropbox/UWF/spring2014/python/UWF_2014_spring_COP3990C-2507/notebooks/scripts/book_code/code/ns/dir1  :\t 1 files\n",
        "/home/aliean/Dropbox/UWF/spring2014/python/UWF_2014_spring_COP3990C-2507/notebooks/scripts/book_code/code/ns/dir1/sub  :\t 3 files\n",
        "/home/aliean/Dropbox/UWF/spring2014/python/UWF_2014_spring_COP3990C-2507/notebooks/scripts/book_code/code/ns/dir1/sub/pkg  :\t 2 files\n",
        "/home/aliean/Dropbox/UWF/spring2014/python/UWF_2014_spring_COP3990C-2507/notebooks/scripts/book_code/code/ns/dir1/sub/pkg/__pycache__  :\t 0 files\n",
        "/home/aliean/Dropbox/UWF/spring2014/python/UWF_2014_spring_COP3990C-2507/notebooks/scripts/book_code/code/ns/dir1/sub/__pycache__  :\t 0 files\n",
        "/home/aliean/Dropbox/UWF/spring2014/python/UWF_2014_spring_COP3990C-2507/notebooks/scripts/book_code/code/pydoc  :\t 2 files\n",
        "/home/aliean/Dropbox/UWF/spring2014/python/UWF_2014_spring_COP3990C-2507/notebooks/scripts/book_code/code/dualpkg  :\t 5 files\n",
        "/home/aliean/Dropbox/UWF/spring2014/python/UWF_2014_spring_COP3990C-2507/notebooks/scripts/book_code/code/dualpkg/__pycache__  :\t 0 files\n",
        "/home/aliean/Dropbox/UWF/spring2014/python/UWF_2014_spring_COP3990C-2507/notebooks/scripts/book_code/code/__pycache__  :\t 9 files\n",
        "/home/aliean/Dropbox/UWF/spring2014/python/UWF_2014_spring_COP3990C-2507/notebooks/scripts/book_code/code/dir1  :\t 4 files\n",
        "/home/aliean/Dropbox/UWF/spring2014/python/UWF_2014_spring_COP3990C-2507/notebooks/scripts/book_code/code/dir1/dir2  :\t 5 files\n",
        "/home/aliean/Dropbox/UWF/spring2014/python/UWF_2014_spring_COP3990C-2507/notebooks/scripts/book_code/code/dir1/dir2/__pycache__  :\t 0 files\n",
        "/home/aliean/Dropbox/UWF/spring2014/python/UWF_2014_spring_COP3990C-2507/notebooks/scripts/book_code/code/dir1/__pycache__  :\t 0 files\n",
        "/home/aliean/Dropbox/UWF/spring2014/python/UWF_2014_spring_COP3990C-2507/notebooks/scripts/book_code/code/mypkg  :\t 3 files\n",
        "/home/aliean/Dropbox/UWF/spring2014/python/UWF_2014_spring_COP3990C-2507/notebooks/scripts/book_code/code/mypkg/__pycache__  :\t 0 files\n",
        "/home/aliean/Dropbox/UWF/spring2014/python/UWF_2014_spring_COP3990C-2507/notebooks/scripts/book_code/__admin__  :\t 10 files\n",
        "/home/aliean/Dropbox/UWF/spring2014/python/UWF_2014_spring_COP3990C-2507/notebooks/scripts/book_code/__admin__/__pycache__  :\t 2 files\n",
        "/home/aliean/Dropbox/UWF/spring2014/python/UWF_2014_spring_COP3990C-2507/notebooks/scripts/myutils  :\t 0 files\n"
       ]
      }
     ],
     "prompt_number": 44
    },
    {
     "cell_type": "code",
     "collapsed": false,
     "input": [
      "import glob\n",
      "\n",
      "sorted(glob.glob('scripts/*.py'))"
     ],
     "language": "python",
     "metadata": {},
     "outputs": [
      {
       "metadata": {},
       "output_type": "pyout",
       "prompt_number": 47,
       "text": [
        "['scripts/cli.py',\n",
        " 'scripts/gen_random_csv_file.py',\n",
        " 'scripts/myfile.py',\n",
        " 'scripts/script.py',\n",
        " 'scripts/script0.py',\n",
        " 'scripts/script1.py',\n",
        " 'scripts/script2.py',\n",
        " 'scripts/test.py',\n",
        " 'scripts/test_input.py',\n",
        " 'scripts/test_script.py',\n",
        " 'scripts/threenames.py']"
       ]
      }
     ],
     "prompt_number": 47
    },
    {
     "cell_type": "code",
     "collapsed": false,
     "input": [
      "x=glob.iglob('scripts/*.py')"
     ],
     "language": "python",
     "metadata": {},
     "outputs": [],
     "prompt_number": 53
    },
    {
     "cell_type": "code",
     "collapsed": false,
     "input": [
      "for f in x:\n",
      "    print f"
     ],
     "language": "python",
     "metadata": {},
     "outputs": [
      {
       "output_type": "stream",
       "stream": "stdout",
       "text": [
        "scripts/test.py\n",
        "scripts/threenames.py\n",
        "scripts/script.py\n",
        "scripts/myfile.py\n",
        "scripts/cli.py\n",
        "scripts/gen_random_csv_file.py\n",
        "scripts/script2.py\n",
        "scripts/test_input.py\n",
        "scripts/test_script.py\n",
        "scripts/script0.py\n",
        "scripts/script1.py\n"
       ]
      }
     ],
     "prompt_number": 54
    },
    {
     "cell_type": "code",
     "collapsed": false,
     "input": [],
     "language": "python",
     "metadata": {},
     "outputs": []
    }
   ],
   "metadata": {}
  }
 ]
}