{
 "metadata": {
  "name": ""
 },
 "nbformat": 3,
 "nbformat_minor": 0,
 "worksheets": [
  {
   "cells": [
    {
     "cell_type": "heading",
     "level": 1,
     "metadata": {},
     "source": [
      "COP3990C - Python Programming"
     ]
    },
    {
     "cell_type": "markdown",
     "metadata": {},
     "source": [
      "<img src=\"files/images/python-logo.png\">"
     ]
    },
    {
     "cell_type": "code",
     "collapsed": false,
     "input": [
      "# this block is just for the style sheet for the notebook\n",
      "from IPython.core.display import HTML\n",
      "def css_styling():\n",
      "    styles = open(\"styles/custom.css\", \"r\").read()\n",
      "    return HTML(styles)\n",
      "css_styling()"
     ],
     "language": "python",
     "metadata": {},
     "outputs": [
      {
       "html": [
        "<style>\r\n",
        "div.warn {    \r\n",
        "  background-color: #ff8c00;\r\n",
        "  border-color: #00008b;\r\n",
        "  border-left: 5px solid #00008b;\r\n",
        "  padding: 0.5em;\r\n",
        "}\r\n",
        "\r\n",
        "    @font-face {\r\n",
        "        font-family: \"Computer Modern\";\r\n",
        "        src: url('http://mirrors.ctan.org/fonts/cm-unicode/fonts/otf/cmunss.otf');\r\n",
        "    }\r\n",
        "    div.cell{\r\n",
        "        width:800px;\r\n",
        "        margin-left:16% !important;\r\n",
        "        margin-right:auto;\r\n",
        "    }\r\n",
        "    h1 {\r\n",
        "        font-family: Helvetica, serif;\r\n",
        "    }\r\n",
        "    h2 {\r\n",
        "        font-family: Helvetica, serif;\r\n",
        "    }\r\n",
        "    h4{\r\n",
        "        margin-top:12px;\r\n",
        "        margin-bottom: 3px;\r\n",
        "       }\r\n",
        "    div.text_cell_render{\r\n",
        "        font-family: Computer Modern, \"Helvetica Neue\", Arial, Helvetica, Geneva, sans-serif;\r\n",
        "        line-height: 135%;\r\n",
        "        font-size: 120%;\r\n",
        "        width:600px;\r\n",
        "        margin-left:auto;\r\n",
        "        margin-right:auto;\r\n",
        "    }\r\n",
        "    .CodeMirror{\r\n",
        "            font-family: \"Source Code Pro\", source-code-pro,Consolas, monospace;\r\n",
        "    }\r\n",
        "/*    .prompt{\r\n",
        "        display: None;\r\n",
        "    }*/\r\n",
        "    .text_cell_render h5 {\r\n",
        "        font-weight: 300;\r\n",
        "        font-size: 16pt;\r\n",
        "        color: #4057A1;\r\n",
        "        font-style: italic;\r\n",
        "        margin-bottom: .5em;\r\n",
        "        margin-top: 0.5em;\r\n",
        "        display: block;\r\n",
        "    }\r\n",
        "    \r\n",
        "    .warning{\r\n",
        "        color: rgb( 240, 20, 20 )\r\n",
        "        }  \r\n",
        "</style>\r\n",
        "<script>\r\n",
        "    MathJax.Hub.Config({\r\n",
        "                        TeX: {\r\n",
        "                           extensions: [\"AMSmath.js\"]\r\n",
        "                           },\r\n",
        "                tex2jax: {\r\n",
        "                    inlineMath: [ ['$','$'], [\"\\\\(\",\"\\\\)\"] ],\r\n",
        "                    displayMath: [ ['$$','$$'], [\"\\\\[\",\"\\\\]\"] ]\r\n",
        "                },\r\n",
        "                displayAlign: 'center', // Change this to 'center' to center equations.\r\n",
        "                \"HTML-CSS\": {\r\n",
        "                    styles: {'.MathJax_Display': {\"margin\": 4}}\r\n",
        "                }\r\n",
        "        });\r\n",
        "</script>\r\n",
        "\r\n"
       ],
       "metadata": {},
       "output_type": "pyout",
       "prompt_number": 2,
       "text": [
        "<IPython.core.display.HTML at 0x2622f10>"
       ]
      }
     ],
     "prompt_number": 2
    },
    {
     "cell_type": "code",
     "collapsed": false,
     "input": [
      "%matplotlib inline"
     ],
     "language": "python",
     "metadata": {},
     "outputs": [],
     "prompt_number": 1
    },
    {
     "cell_type": "code",
     "collapsed": false,
     "input": [
      "import matplotlib.pyplot as plt\n",
      "import numpy as np\n",
      "\n",
      "# make an agg figure\n",
      "fig, ax = plt.subplots()\n",
      "ax.plot([1,2,3])\n",
      "ax.set_title('a simple figure')\n",
      "fig.canvas.draw()\n",
      "\n",
      "# grab the pixel buffer and dump it into a numpy array\n",
      "buf = fig.canvas.buffer_rgba()\n",
      "l, b, w, h = fig.bbox.bounds\n",
      "# The array needs to be copied, because the underlying buffer\n",
      "# may be reallocated when the window is resized.\n",
      "X = np.frombuffer(buf, np.uint8).copy()\n",
      "X.shape = h,w,4\n",
      "\n",
      "# now display the array X as an Axes in a new figure\n",
      "fig2 = plt.figure()\n",
      "ax2 = fig2.add_subplot(111, frameon=False)\n",
      "ax2.imshow(X)\n",
      "plt.show()"
     ],
     "language": "python",
     "metadata": {},
     "outputs": [
      {
       "metadata": {},
       "output_type": "display_data",
       "png": "[encoded data removed]",
       "text": [
        "<matplotlib.figure.Figure at 0x2ea9690>"
       ]
      },
      {
       "metadata": {},
       "output_type": "display_data",
       "png": "[encoded data removed]",
       "text": [
        "<matplotlib.figure.Figure at 0x2ed7fd0>"
       ]
      }
     ],
     "prompt_number": 2
    },
    {
     "cell_type": "code",
     "collapsed": false,
     "input": [
      "#!/usr/bin/env python\n",
      "\n",
      "\"\"\"\n",
      "An example of how to interact with the plotting canvas by connecting\n",
      "to move and click events\n",
      "\"\"\"\n",
      "from __future__ import print_function\n",
      "import sys\n",
      "from pylab import *\n",
      "\n",
      "t = arange(0.0, 1.0, 0.01)\n",
      "s = sin(2*pi*t)\n",
      "fig, ax = plt.subplots()\n",
      "ax.plot(t,s)\n",
      "\n",
      "\n",
      "def on_move(event):\n",
      "    # get the x and y pixel coords\n",
      "    x, y = event.x, event.y\n",
      "\n",
      "    if event.inaxes:\n",
      "        ax = event.inaxes  # the axes instance\n",
      "        print ('data coords %f %f' % (event.xdata, event.ydata))\n",
      "\n",
      "def on_click(event):\n",
      "    # get the x and y coords, flip y from top to bottom\n",
      "    x, y = event.x, event.y\n",
      "    if event.button==1:\n",
      "        if event.inaxes is not None:\n",
      "            print ('data coords %f %f' % (event.xdata, event.ydata))\n",
      "\n",
      "binding_id = connect('motion_notify_event', on_move)\n",
      "connect('button_press_event', on_click)\n",
      "\n",
      "if \"test_disconnect\" in sys.argv:\n",
      "    print (\"disconnecting console coordinate printout...\")\n",
      "    disconnect(binding_id)\n",
      "\n",
      "show()"
     ],
     "language": "python",
     "metadata": {},
     "outputs": [
      {
       "metadata": {},
       "output_type": "display_data",
       "png": "[encoded data removed]",
       "text": [
        "<matplotlib.figure.Figure at 0x31ed7d0>"
       ]
      }
     ],
     "prompt_number": 3
    },
    {
     "cell_type": "code",
     "collapsed": false,
     "input": [],
     "language": "python",
     "metadata": {},
     "outputs": []
    }
   ],
   "metadata": {}
  }
 ]
}