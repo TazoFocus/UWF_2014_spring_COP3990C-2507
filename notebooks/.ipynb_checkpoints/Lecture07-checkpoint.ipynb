{
 "metadata": {
  "name": ""
 },
 "nbformat": 3,
 "nbformat_minor": 0,
 "worksheets": [
  {
   "cells": [
    {
     "cell_type": "markdown",
     "metadata": {},
     "source": [
      "<img src=\"files/images/python-logo.png\">"
     ]
    },
    {
     "cell_type": "heading",
     "level": 1,
     "metadata": {},
     "source": [
      "Formatting & Functions"
     ]
    },
    {
     "cell_type": "code",
     "collapsed": false,
     "input": [
      "# this block is just for the style sheet for the notebook\n",
      "from IPython.core.display import HTML\n",
      "def css_styling():\n",
      "    styles = open(\"styles/custom.css\", \"r\").read()\n",
      "    return HTML(styles)\n",
      "css_styling()"
     ],
     "language": "python",
     "metadata": {},
     "outputs": [
      {
       "html": [
        "<style>\n",
        "div.warn {    \n",
        "  background-color: #ff8c00;\n",
        "  border-color: #00008b;\n",
        "  border-left: 5px solid #00008b;\n",
        "  padding: 0.5em;\n",
        "}\n",
        "\n",
        "    @font-face {\n",
        "        font-family: \"Computer Modern\";\n",
        "        src: url('http://mirrors.ctan.org/fonts/cm-unicode/fonts/otf/cmunss.otf');\n",
        "    }\n",
        "    div.cell{\n",
        "        width:800px;\n",
        "        margin-left:16% !important;\n",
        "        margin-right:auto;\n",
        "    }\n",
        "    h1 {\n",
        "        font-family: Helvetica, serif;\n",
        "    }\n",
        "    h2 {\n",
        "        font-family: Helvetica, serif;\n",
        "    }\n",
        "    h4{\n",
        "        margin-top:12px;\n",
        "        margin-bottom: 3px;\n",
        "       }\n",
        "    div.text_cell_render{\n",
        "        font-family: Computer Modern, \"Helvetica Neue\", Arial, Helvetica, Geneva, sans-serif;\n",
        "        line-height: 135%;\n",
        "        font-size: 120%;\n",
        "        width:600px;\n",
        "        margin-left:auto;\n",
        "        margin-right:auto;\n",
        "    }\n",
        "    .CodeMirror{\n",
        "            font-family: \"Source Code Pro\", source-code-pro,Consolas, monospace;\n",
        "    }\n",
        "/*    .prompt{\n",
        "        display: None;\n",
        "    }*/\n",
        "    .text_cell_render h5 {\n",
        "        font-weight: 300;\n",
        "        font-size: 16pt;\n",
        "        color: #4057A1;\n",
        "        font-style: italic;\n",
        "        margin-bottom: .5em;\n",
        "        margin-top: 0.5em;\n",
        "        display: block;\n",
        "    }\n",
        "    \n",
        "    .warning{\n",
        "        color: rgb( 240, 20, 20 )\n",
        "        }  \n",
        "</style>\n",
        "<script>\n",
        "    MathJax.Hub.Config({\n",
        "                        TeX: {\n",
        "                           extensions: [\"AMSmath.js\"]\n",
        "                           },\n",
        "                tex2jax: {\n",
        "                    inlineMath: [ ['$','$'], [\"\\\\(\",\"\\\\)\"] ],\n",
        "                    displayMath: [ ['$$','$$'], [\"\\\\[\",\"\\\\]\"] ]\n",
        "                },\n",
        "                displayAlign: 'center', // Change this to 'center' to center equations.\n",
        "                \"HTML-CSS\": {\n",
        "                    styles: {'.MathJax_Display': {\"margin\": 4}}\n",
        "                }\n",
        "        });\n",
        "</script>\n",
        "\n"
       ],
       "output_type": "pyout",
       "prompt_number": 1,
       "text": [
        "<IPython.core.display.HTML at 0x413bd90>"
       ]
      }
     ],
     "prompt_number": 1
    },
    {
     "cell_type": "heading",
     "level": 1,
     "metadata": {},
     "source": [
      "Formatting"
     ]
    },
    {
     "cell_type": "markdown",
     "metadata": {},
     "source": [
      "The following was obtained from ebeab.com"
     ]
    },
    {
     "cell_type": "code",
     "collapsed": false,
     "input": [
      "# define variables\n",
      "x = 3.1415926\n",
      "y = 1"
     ],
     "language": "python",
     "metadata": {},
     "outputs": [],
     "prompt_number": 17
    },
    {
     "cell_type": "code",
     "collapsed": false,
     "input": [
      "# 2 decimal places \n",
      "print \"{:.2f}\".format(x)"
     ],
     "language": "python",
     "metadata": {},
     "outputs": [
      {
       "output_type": "stream",
       "stream": "stdout",
       "text": [
        "3.14\n"
       ]
      }
     ],
     "prompt_number": 3
    },
    {
     "cell_type": "code",
     "collapsed": false,
     "input": [
      "# 2 decimal palces with sign\n",
      "print \"{:+.2f}\".format(x)"
     ],
     "language": "python",
     "metadata": {},
     "outputs": [
      {
       "output_type": "stream",
       "stream": "stdout",
       "text": [
        "+3.14\n"
       ]
      }
     ],
     "prompt_number": 4
    },
    {
     "cell_type": "code",
     "collapsed": false,
     "input": [
      "# 2 decimal palces with sign\n",
      "print \"{:.2f}\".format(-y)"
     ],
     "language": "python",
     "metadata": {},
     "outputs": [
      {
       "output_type": "stream",
       "stream": "stdout",
       "text": [
        "-1.00\n"
       ]
      }
     ],
     "prompt_number": 37
    },
    {
     "cell_type": "code",
     "collapsed": false,
     "input": [
      "# print with no decimal palces\n",
      "print \"{:.0f}\".format(3.51)"
     ],
     "language": "python",
     "metadata": {},
     "outputs": [
      {
       "output_type": "stream",
       "stream": "stdout",
       "text": [
        "4\n"
       ]
      }
     ],
     "prompt_number": 19
    },
    {
     "cell_type": "code",
     "collapsed": false,
     "input": [
      "# left padded with 0's - width 4\n",
      "print \"{:0>4d}\".format(1)"
     ],
     "language": "python",
     "metadata": {},
     "outputs": [
      {
       "output_type": "stream",
       "stream": "stdout",
       "text": [
        "0001\n"
       ]
      }
     ],
     "prompt_number": 21
    },
    {
     "cell_type": "code",
     "collapsed": false,
     "input": [
      "for i in range(20):\n",
      "    print \"{:0>4d}\".format(i)"
     ],
     "language": "python",
     "metadata": {},
     "outputs": [
      {
       "output_type": "stream",
       "stream": "stdout",
       "text": [
        "0000\n",
        "0001\n",
        "0002\n",
        "0003\n",
        "0004\n",
        "0005\n",
        "0006\n",
        "0007\n",
        "0008\n",
        "0009\n",
        "0010\n",
        "0011\n",
        "0012\n",
        "0013\n",
        "0014\n",
        "0015\n",
        "0016\n",
        "0017\n",
        "0018\n",
        "0019\n"
       ]
      }
     ],
     "prompt_number": 22
    },
    {
     "cell_type": "code",
     "collapsed": false,
     "input": [
      "# right padd with x's - total width 4\n",
      "print \"{:x<4d}\".format(33)"
     ],
     "language": "python",
     "metadata": {},
     "outputs": [
      {
       "output_type": "stream",
       "stream": "stdout",
       "text": [
        "33xx\n"
       ]
      }
     ],
     "prompt_number": 24
    },
    {
     "cell_type": "code",
     "collapsed": false,
     "input": [
      "# right padd with x's - total width 4\n",
      "print \"{:x<4d}\".format(10*y)"
     ],
     "language": "python",
     "metadata": {},
     "outputs": [
      {
       "output_type": "stream",
       "stream": "stdout",
       "text": [
        "10xx\n"
       ]
      }
     ],
     "prompt_number": 14
    },
    {
     "cell_type": "code",
     "collapsed": false,
     "input": [
      "# insert a comma separator\n",
      "print \"{:,}\".format(10000000000000)"
     ],
     "language": "python",
     "metadata": {},
     "outputs": [
      {
       "output_type": "stream",
       "stream": "stdout",
       "text": [
        "10,000,000,000,000\n"
       ]
      }
     ],
     "prompt_number": 16
    },
    {
     "cell_type": "code",
     "collapsed": false,
     "input": [
      "# % format\n",
      "print \"{:.4%}\".format(0.1235676)"
     ],
     "language": "python",
     "metadata": {},
     "outputs": [
      {
       "output_type": "stream",
       "stream": "stdout",
       "text": [
        "12.3568%\n"
       ]
      }
     ],
     "prompt_number": 27
    },
    {
     "cell_type": "code",
     "collapsed": false,
     "input": [
      "# exponent notation\n",
      "print \"{:.3e}\".format(10000000000000)"
     ],
     "language": "python",
     "metadata": {},
     "outputs": [
      {
       "output_type": "stream",
       "stream": "stdout",
       "text": [
        "1.000e+13\n"
       ]
      }
     ],
     "prompt_number": 38
    },
    {
     "cell_type": "code",
     "collapsed": false,
     "input": [
      "#  right justified, with 10\n",
      "print '1234567890'\n",
      "print \"{:10d}\".format(1000000)"
     ],
     "language": "python",
     "metadata": {},
     "outputs": [
      {
       "output_type": "stream",
       "stream": "stdout",
       "text": [
        "1234567890\n",
        "   1000000\n"
       ]
      }
     ],
     "prompt_number": 30
    },
    {
     "cell_type": "code",
     "collapsed": false,
     "input": [
      "#  left justified, with 10\n",
      "print '12345678901234567890'\n",
      "print \"{:<10d}\".format(100), \"{:<10d}\".format(100)"
     ],
     "language": "python",
     "metadata": {},
     "outputs": [
      {
       "output_type": "stream",
       "stream": "stdout",
       "text": [
        "12345678901234567890\n",
        "100        100       \n"
       ]
      }
     ],
     "prompt_number": 32
    },
    {
     "cell_type": "code",
     "collapsed": false,
     "input": [
      "#  center justified, with 10\n",
      "print '1234567890'\n",
      "print \"{:^10d}\".format(100)"
     ],
     "language": "python",
     "metadata": {},
     "outputs": [
      {
       "output_type": "stream",
       "stream": "stdout",
       "text": [
        "1234567890\n",
        "   100    \n"
       ]
      }
     ],
     "prompt_number": 33
    },
    {
     "cell_type": "code",
     "collapsed": false,
     "input": [
      "# string substitution\n",
      "s1 = 'so much depends upon {}'.format('a red wheel barrow')\n",
      "s2 = 'glazed with {} water beside the {} chickens'.format('rain', 'white')\n",
      "print s1\n",
      "print s2"
     ],
     "language": "python",
     "metadata": {},
     "outputs": [
      {
       "output_type": "stream",
       "stream": "stdout",
       "text": [
        "so much depends upon a red wheel barrow\n",
        "glazed with rain water beside the white chickens\n"
       ]
      }
     ],
     "prompt_number": 34
    },
    {
     "cell_type": "code",
     "collapsed": false,
     "input": [
      "# another substitution\n",
      "s1 = \" {0} is better than {1} \".format(\"emacs\", \"vim\")\n",
      "s2 = \" {1} is better than {0} \".format(\"emacs\", \"vim\")\n",
      "print s1\n",
      "print s2"
     ],
     "language": "python",
     "metadata": {},
     "outputs": [
      {
       "output_type": "stream",
       "stream": "stdout",
       "text": [
        " emacs is better than vim \n",
        " vim is better than emacs \n"
       ]
      }
     ],
     "prompt_number": 35
    },
    {
     "cell_type": "code",
     "collapsed": false,
     "input": [
      "## defining formats\n",
      "email_f = \"Your email address was {email}\".format\n",
      "\n",
      "## use elsewhere\n",
      "print(email_f(email=\"bob@example.com\"))"
     ],
     "language": "python",
     "metadata": {},
     "outputs": [
      {
       "output_type": "stream",
       "stream": "stdout",
       "text": [
        "Your email address was bob@example.com\n"
       ]
      }
     ],
     "prompt_number": 40
    },
    {
     "cell_type": "heading",
     "level": 1,
     "metadata": {},
     "source": [
      "Functions"
     ]
    },
    {
     "cell_type": "heading",
     "level": 5,
     "metadata": {},
     "source": [
      "Why Use Functions? (from your textbook)"
     ]
    },
    {
     "cell_type": "markdown",
     "metadata": {},
     "source": [
      "Before we get into the details, let\u2019s establish a clear picture of what functions are all\n",
      "about. Functions are a nearly universal program-structuring device. You may have\n",
      "come across them before in other languages, where they may have been called subroutines\n",
      "or procedures. As a brief introduction, functions serve two primary development\n",
      "roles:<br><br><br>\n",
      "<i>Maximizing code reuse and minimizing redundancy</i><br>\n",
      "<p>As in most programming languages, Python functions are the simplest way to\n",
      "package logic you may wish to use in more than one place and more than one time.\n",
      "Up until now, all the code we\u2019ve been writing has run immediately. Functions allow\n",
      "us to group and generalize code to be used arbitrarily many times later. Because\n",
      "they allow us to code an operation in a single place and use it in many places,\n",
      "Python functions are the most basic factoring tool in the language: they allow us\n",
      "to reduce code redundancy in our programs, and thereby reduce maintenance effort.</p>\n",
      "<br><i>Procedural decomposition</i><br>\n",
      "<p>Functions also provide a tool for splitting systems into pieces that have well-defined\n",
      "roles. For instance, to make a pizza from scratch, you would start by mixing the\n",
      "dough, rolling it out, adding toppings, baking it, and so on. If you were programming\n",
      "a pizza-making robot, functions would help you divide the overall \u201cmake\n",
      "pizza\u201d task into chunks\u2014one function for each subtask in the process. It\u2019s easier\n",
      "to implement the smaller tasks in isolation than it is to implement the entire process\n",
      "at once. In general, functions are about procedure\u2014how to do something, rather\n",
      "than what you\u2019re doing it to. We\u2019ll see why this distinction matters in Part VI, when\n",
      "we start making new objects with classes.\n",
      "In this part of the book, we\u2019ll explore the tools used to code functions in Python: function\n",
      "basics, scope rules, and argument passing, along with a few related concepts such\n",
      "as generators and functional tools. Because its importance begins to become more apparent\n",
      "at this level of coding, we\u2019ll also revisit the notion of polymorphism, which was introduced earlier in the book. As you\u2019ll see, functions don\u2019t imply much new syntax,\n",
      "    but they do lead us to some bigger programming ideas.</p>"
     ]
    },
    {
     "cell_type": "heading",
     "level": 5,
     "metadata": {},
     "source": [
      "Examples"
     ]
    },
    {
     "cell_type": "markdown",
     "metadata": {},
     "source": [
      "Fibonacci series has the reccursive relation <br>\n",
      "$$\n",
      "F_n = F_{n-1} + F_{n-2}\n",
      "$$\n",
      "with the seed values\n",
      "$$\n",
      "F_1 = 1,\\; F_2 = 1\n",
      "$$\n",
      "or \n",
      "$$\n",
      "F_0 = 0,\\; F_1 = 1\n",
      "$$"
     ]
    },
    {
     "cell_type": "code",
     "collapsed": false,
     "input": [
      "# code that computes Fibonacci series up to n\n",
      "def fibSeries(n):\n",
      "    f0, f1 = 0, 1\n",
      "    while f0 < n:\n",
      "        print f0,\n",
      "        f0, f1 = f1, f0 + f1"
     ],
     "language": "python",
     "metadata": {},
     "outputs": [],
     "prompt_number": 36
    },
    {
     "cell_type": "code",
     "collapsed": false,
     "input": [
      "# evaluate the series up to 100\n",
      "fibSeries(100)"
     ],
     "language": "python",
     "metadata": {},
     "outputs": [
      {
       "output_type": "stream",
       "stream": "stdout",
       "text": [
        "0 1 1 2 3 5 8 13 21 34 55 89\n"
       ]
      }
     ],
     "prompt_number": 37
    },
    {
     "cell_type": "code",
     "collapsed": false,
     "input": [
      "# code that computes Fibonacci series up to n\n",
      "def fibSeries(n):\n",
      "    \"\"\"compute Fibonacci series up to n\"\"\"\n",
      "    f0, f1 = 0, 1\n",
      "    while f0 < n:\n",
      "        print f0,\n",
      "        f0, f1 = f1, f0 + f1"
     ],
     "language": "python",
     "metadata": {},
     "outputs": [],
     "prompt_number": 38
    },
    {
     "cell_type": "code",
     "collapsed": false,
     "input": [
      "# what does the function do????\n",
      "fibSeries.__doc__"
     ],
     "language": "python",
     "metadata": {},
     "outputs": [
      {
       "output_type": "pyout",
       "prompt_number": 39,
       "text": [
        "'compute Fibonacci series up to n'"
       ]
      }
     ],
     "prompt_number": 39
    },
    {
     "cell_type": "code",
     "collapsed": false,
     "input": [
      "print open.__doc__"
     ],
     "language": "python",
     "metadata": {},
     "outputs": [
      {
       "output_type": "stream",
       "stream": "stdout",
       "text": [
        "open(name[, mode[, buffering]]) -> file object\n",
        "\n",
        "Open a file using the file() type, returns a file object.  This is the\n",
        "preferred way to open a file.  See file.__doc__ for further information.\n"
       ]
      }
     ],
     "prompt_number": 41
    },
    {
     "cell_type": "code",
     "collapsed": false,
     "input": [
      "# sometimes we don't want to put the print statement inside the function\n",
      "# create a function that returns a list\n",
      "def fibSeries(n):\n",
      "    \"\"\"compute Fibonacci series up to n and returns the series as a list\"\"\"\n",
      "    \n",
      "    series = [] # store numbers here\n",
      "    f0, f1 = 0, 1 # seed values\n",
      "    \n",
      "    while f0 < n:\n",
      "        series.append(f0)\n",
      "        f0, f1 = f1, f0 + f1\n",
      "        \n",
      "    # return the list\n",
      "    return series"
     ],
     "language": "python",
     "metadata": {},
     "outputs": [],
     "prompt_number": 43
    },
    {
     "cell_type": "code",
     "collapsed": false,
     "input": [
      "# now call the function\n",
      "result = fibSeries(1000)\n",
      "print result"
     ],
     "language": "python",
     "metadata": {},
     "outputs": [
      {
       "output_type": "stream",
       "stream": "stdout",
       "text": [
        "[0, 1, 1, 2, 3, 5, 8, 13, 21, 34, 55, 89, 144, 233, 377, 610, 987]\n"
       ]
      }
     ],
     "prompt_number": 44
    },
    {
     "cell_type": "code",
     "collapsed": false,
     "input": [
      "# define a function inside a function\n",
      "def f1():\n",
      "    x = 99\n",
      "    print x + 2\n",
      "    def f2():\n",
      "        print x + 1\n",
      "        def f3():\n",
      "            print x + 3 # Found in f1's local scope!\n",
      "        f3()\n",
      "    f2()"
     ],
     "language": "python",
     "metadata": {},
     "outputs": [],
     "prompt_number": 58
    },
    {
     "cell_type": "code",
     "collapsed": false,
     "input": [
      "# you can only call the top-level function\n",
      "f1()"
     ],
     "language": "python",
     "metadata": {},
     "outputs": [
      {
       "output_type": "stream",
       "stream": "stdout",
       "text": [
        "101\n",
        "100\n",
        "102\n"
       ]
      }
     ],
     "prompt_number": 59
    },
    {
     "cell_type": "code",
     "collapsed": false,
     "input": [
      "def changer(a, b): \n",
      "    a = 2 \n",
      "    b[0] = 'spam' "
     ],
     "language": "python",
     "metadata": {},
     "outputs": [],
     "prompt_number": 46
    },
    {
     "cell_type": "code",
     "collapsed": false,
     "input": [
      "X = 1\n",
      "L = [1, 2]\n",
      "changer(X, L)\n",
      "X, L"
     ],
     "language": "python",
     "metadata": {},
     "outputs": [
      {
       "output_type": "pyout",
       "prompt_number": 47,
       "text": [
        "(1, ['spam', 2])"
       ]
      }
     ],
     "prompt_number": 47
    },
    {
     "cell_type": "code",
     "collapsed": false,
     "input": [
      "X = 1\n",
      "L = [1, 2]\n",
      "changer(X, L[:])\n",
      "X, L"
     ],
     "language": "python",
     "metadata": {},
     "outputs": [
      {
       "metadata": {},
       "output_type": "pyout",
       "prompt_number": 34,
       "text": [
        "(1, [1, 2])"
       ]
      }
     ],
     "prompt_number": 34
    },
    {
     "cell_type": "code",
     "collapsed": false,
     "input": [
      "X = 1\n",
      "a = X\n",
      "a = 2\n",
      "print (X)\n",
      "print (a)"
     ],
     "language": "python",
     "metadata": {},
     "outputs": [
      {
       "output_type": "stream",
       "stream": "stdout",
       "text": [
        "3\n",
        "2\n"
       ]
      }
     ],
     "prompt_number": 26
    },
    {
     "cell_type": "code",
     "collapsed": false,
     "input": [
      "L = [1, 2]\n",
      "b = L\n",
      "b[0] = 'spam'\n",
      "print L"
     ],
     "language": "python",
     "metadata": {},
     "outputs": [
      {
       "output_type": "stream",
       "stream": "stdout",
       "text": [
        "['spam', 2]\n"
       ]
      }
     ],
     "prompt_number": 27
    },
    {
     "cell_type": "code",
     "collapsed": false,
     "input": [
      "L[1] = 'jam'\n",
      "print b"
     ],
     "language": "python",
     "metadata": {},
     "outputs": [
      {
       "output_type": "stream",
       "stream": "stdout",
       "text": [
        "['spam', 'jam']\n"
       ]
      }
     ],
     "prompt_number": 28
    },
    {
     "cell_type": "code",
     "collapsed": false,
     "input": [
      "L=[1,2]\n",
      "b=L\n",
      "L[0]=5\n",
      "print L,b\n",
      "b=L[:]\n",
      "L[0]=10\n",
      "print L,b"
     ],
     "language": "python",
     "metadata": {},
     "outputs": [
      {
       "output_type": "stream",
       "stream": "stdout",
       "text": [
        "[5, 2] [5, 2]\n",
        "[10, 2] [5, 2]\n"
       ]
      }
     ],
     "prompt_number": 48
    },
    {
     "cell_type": "code",
     "collapsed": false,
     "input": [
      "print L[:]"
     ],
     "language": "python",
     "metadata": {},
     "outputs": [
      {
       "output_type": "stream",
       "stream": "stdout",
       "text": [
        "[10, 2]\n"
       ]
      }
     ],
     "prompt_number": 49
    },
    {
     "cell_type": "heading",
     "level": 6,
     "metadata": {},
     "source": [
      "Scope"
     ]
    },
    {
     "cell_type": "code",
     "collapsed": false,
     "input": [
      "# x is a global variable\n",
      "x = 5\n",
      "\n",
      "def func():\n",
      "    print x # x has the same value as the global value\n",
      "\n",
      "\n",
      "func()\n"
     ],
     "language": "python",
     "metadata": {},
     "outputs": [
      {
       "output_type": "stream",
       "stream": "stdout",
       "text": [
        "5\n"
       ]
      }
     ],
     "prompt_number": 58
    },
    {
     "cell_type": "code",
     "collapsed": false,
     "input": [
      "# x is a global variable\n",
      "x = 5\n",
      "def func():\n",
      "    x = 9 # redefine x here\n",
      "    print x\n",
      "    \n",
      "\n",
      "func()\n",
      "print x"
     ],
     "language": "python",
     "metadata": {},
     "outputs": [
      {
       "output_type": "stream",
       "stream": "stdout",
       "text": [
        "9\n",
        "5\n"
       ]
      }
     ],
     "prompt_number": 59
    },
    {
     "cell_type": "code",
     "collapsed": false,
     "input": [
      "# x gets overridden inside the function only\n",
      "x = 5\n",
      "def func(x):\n",
      "    print x\n",
      "\n",
      "func(10)\n",
      "print x"
     ],
     "language": "python",
     "metadata": {},
     "outputs": [
      {
       "output_type": "stream",
       "stream": "stdout",
       "text": [
        "10\n",
        "5\n"
       ]
      }
     ],
     "prompt_number": 70
    },
    {
     "cell_type": "code",
     "collapsed": false,
     "input": [
      "# x is a global variable but gets changed inside a function\n",
      "x = 5\n",
      "def func():\n",
      "    global x\n",
      "    x = 9 # change here\n",
      "    print x\n",
      "    \n",
      "\n",
      "func()\n",
      "print x"
     ],
     "language": "python",
     "metadata": {},
     "outputs": [
      {
       "output_type": "stream",
       "stream": "stdout",
       "text": [
        "9\n",
        "9\n"
       ]
      }
     ],
     "prompt_number": 60
    },
    {
     "cell_type": "code",
     "collapsed": false,
     "input": [
      "def maker(N):\n",
      "    def action(X):\n",
      "        return X ** N\n",
      "    return action"
     ],
     "language": "python",
     "metadata": {},
     "outputs": [],
     "prompt_number": 61
    },
    {
     "cell_type": "code",
     "collapsed": false,
     "input": [
      "f = maker(2)"
     ],
     "language": "python",
     "metadata": {},
     "outputs": [],
     "prompt_number": 14
    },
    {
     "cell_type": "code",
     "collapsed": false,
     "input": [
      "f(3)"
     ],
     "language": "python",
     "metadata": {},
     "outputs": [
      {
       "ename": "NameError",
       "evalue": "name 'f' is not defined",
       "output_type": "pyerr",
       "traceback": [
        "\u001b[1;31m---------------------------------------------------------------------------\u001b[0m\n\u001b[1;31mNameError\u001b[0m                                 Traceback (most recent call last)",
        "\u001b[1;32m<ipython-input-62-0ec059b9bfe1>\u001b[0m in \u001b[0;36m<module>\u001b[1;34m()\u001b[0m\n\u001b[1;32m----> 1\u001b[1;33m \u001b[0mf\u001b[0m\u001b[1;33m(\u001b[0m\u001b[1;33m)\u001b[0m\u001b[1;33m\u001b[0m\u001b[0m\n\u001b[0m",
        "\u001b[1;31mNameError\u001b[0m: name 'f' is not defined"
       ]
      }
     ],
     "prompt_number": 62
    },
    {
     "cell_type": "code",
     "collapsed": false,
     "input": [
      "f(4)"
     ],
     "language": "python",
     "metadata": {},
     "outputs": [
      {
       "metadata": {},
       "output_type": "pyout",
       "prompt_number": 16,
       "text": [
        "16"
       ]
      }
     ],
     "prompt_number": 16
    },
    {
     "cell_type": "code",
     "collapsed": false,
     "input": [
      "g = maker(3)"
     ],
     "language": "python",
     "metadata": {},
     "outputs": [],
     "prompt_number": 17
    },
    {
     "cell_type": "code",
     "collapsed": false,
     "input": [
      "g(3)"
     ],
     "language": "python",
     "metadata": {},
     "outputs": [
      {
       "metadata": {},
       "output_type": "pyout",
       "prompt_number": 19,
       "text": [
        "27"
       ]
      }
     ],
     "prompt_number": 19
    },
    {
     "cell_type": "code",
     "collapsed": false,
     "input": [
      "g(4)"
     ],
     "language": "python",
     "metadata": {},
     "outputs": [
      {
       "metadata": {},
       "output_type": "pyout",
       "prompt_number": 20,
       "text": [
        "64"
       ]
      }
     ],
     "prompt_number": 20
    },
    {
     "cell_type": "code",
     "collapsed": false,
     "input": [
      "# another way to define it with lambda\n",
      "def maker2(N):\n",
      "    return lambda X: X ** N\n",
      "\n",
      "\n",
      "h = maker2(3)\n",
      "h(4)"
     ],
     "language": "python",
     "metadata": {},
     "outputs": [
      {
       "metadata": {},
       "output_type": "pyout",
       "prompt_number": 21,
       "text": [
        "64"
       ]
      }
     ],
     "prompt_number": 21
    },
    {
     "cell_type": "heading",
     "level": 6,
     "metadata": {},
     "source": [
      "Return values"
     ]
    },
    {
     "cell_type": "code",
     "collapsed": false,
     "input": [
      "# return a value from the function\n",
      "def times(a, b):\n",
      "    return a * b\n",
      "\n",
      "print times(10, 2)\n",
      "print times(3.1415, 4)"
     ],
     "language": "python",
     "metadata": {},
     "outputs": [
      {
       "output_type": "stream",
       "stream": "stdout",
       "text": [
        "20\n",
        "12.566\n"
       ]
      }
     ],
     "prompt_number": 1
    },
    {
     "cell_type": "code",
     "collapsed": false,
     "input": [
      "# functions are typeless\n",
      "times('No!', 4)"
     ],
     "language": "python",
     "metadata": {},
     "outputs": [
      {
       "metadata": {},
       "output_type": "pyout",
       "prompt_number": 5,
       "text": [
        "'No!No!No!No!'"
       ]
      }
     ],
     "prompt_number": 5
    },
    {
     "cell_type": "code",
     "collapsed": false,
     "input": [
      "# complex objects can be passed to the function\n",
      "def intersect(seq1, seq2):\n",
      "    res = []                            # Start empty\n",
      "    \n",
      "    for x in seq1:                      # Scan seq1\n",
      "        if x in seq2:                   # Common item?\n",
      "            res.append(x)               # Add to end\n",
      "   \n",
      "    return res\n",
      "\n",
      "\n",
      "s1 = \"SPAM\"\n",
      "s2 = \"SCAM\"\n",
      "intersect(s1, s2)"
     ],
     "language": "python",
     "metadata": {},
     "outputs": [
      {
       "metadata": {},
       "output_type": "pyout",
       "prompt_number": 7,
       "text": [
        "['S', 'A', 'M']"
       ]
      }
     ],
     "prompt_number": 7
    },
    {
     "cell_type": "code",
     "collapsed": false,
     "input": [
      "# this could have been done in an easy and compact way\n",
      "[x for x in s1 if x in s2]"
     ],
     "language": "python",
     "metadata": {},
     "outputs": [
      {
       "metadata": {},
       "output_type": "pyout",
       "prompt_number": 9,
       "text": [
        "['S', 'A', 'M']"
       ]
      }
     ],
     "prompt_number": 9
    },
    {
     "cell_type": "code",
     "collapsed": false,
     "input": [
      "# passing on 2 types of objects\n",
      "x = intersect([1, 2, 3], (1, 4))\n",
      "print x"
     ],
     "language": "python",
     "metadata": {},
     "outputs": [
      {
       "output_type": "stream",
       "stream": "stdout",
       "text": [
        "[1]\n"
       ]
      }
     ],
     "prompt_number": 11
    },
    {
     "cell_type": "heading",
     "level": 6,
     "metadata": {},
     "source": [
      "Default Arguments"
     ]
    },
    {
     "cell_type": "code",
     "collapsed": false,
     "input": [
      "# code that computes Fibonacci series up to n\n",
      "def fibSeries(n=10):\n",
      "    f0, f1 = 0, 1\n",
      "    while f0 < n:\n",
      "        print f0,\n",
      "        f0, f1 = f1, f0 + f1"
     ],
     "language": "python",
     "metadata": {},
     "outputs": [],
     "prompt_number": 1
    },
    {
     "cell_type": "code",
     "collapsed": false,
     "input": [
      "fibSeries(5)"
     ],
     "language": "python",
     "metadata": {},
     "outputs": [
      {
       "output_type": "stream",
       "stream": "stdout",
       "text": [
        "0 1 1 2 3\n"
       ]
      }
     ],
     "prompt_number": 2
    },
    {
     "cell_type": "code",
     "collapsed": false,
     "input": [
      "fibSeries()"
     ],
     "language": "python",
     "metadata": {},
     "outputs": [
      {
       "output_type": "stream",
       "stream": "stdout",
       "text": [
        "0 1 1 2 3 5 8\n"
       ]
      }
     ],
     "prompt_number": 3
    },
    {
     "cell_type": "code",
     "collapsed": false,
     "input": [
      "def myPrint(a = 1, b = 2, c = 3):\n",
      "    print a, b, c\n",
      "    \n",
      "myPrint()\n",
      "print '-'*10\n",
      "myPrint(3)\n",
      "print '-'*10\n",
      "myPrint(5,6)\n",
      "print '-'*10\n"
     ],
     "language": "python",
     "metadata": {},
     "outputs": [
      {
       "output_type": "stream",
       "stream": "stdout",
       "text": [
        "1 2 3\n",
        "----------\n",
        "3 2 3\n",
        "----------\n",
        "5 6 3\n",
        "----------\n"
       ]
      }
     ],
     "prompt_number": 6
    },
    {
     "cell_type": "code",
     "collapsed": false,
     "input": [
      "def func(spam, eggs, toast=0, ham=0): # First 2 required\n",
      "    print 'spam = ', spam, 'eggs = ', eggs, 'toast = ', toast, 'ham = ', ham\n",
      "    \n",
      "print '-'*40\n",
      "func(1,2)\n",
      "print '-'*40\n",
      "func(1, ham=-1, eggs=0)\n",
      "print '-'*40\n",
      "func(spam=1, eggs=0)\n",
      "print '-'*40\n",
      "func(toast=1, eggs=2, spam=3) \n",
      "print '-'*40\n",
      "func(1, 2, 3, 4)\n",
      "\n"
     ],
     "language": "python",
     "metadata": {},
     "outputs": [
      {
       "output_type": "stream",
       "stream": "stdout",
       "text": [
        "----------------------------------------\n",
        "spam =  1 eggs =  2 toast =  0 ham =  0\n",
        "----------------------------------------\n",
        "spam =  1 eggs =  0 toast =  0 ham =  -1\n",
        "----------------------------------------\n",
        "spam =  1 eggs =  0 toast =  0 ham =  0\n",
        "----------------------------------------\n",
        "spam =  3 eggs =  2 toast =  1 ham =  0\n",
        "----------------------------------------\n",
        "spam =  1 eggs =  2 toast =  3 ham =  4\n"
       ]
      }
     ],
     "prompt_number": 63
    },
    {
     "cell_type": "code",
     "collapsed": false,
     "input": [
      "# arbitrary args  - collected into a tuple\n",
      "def arb(*args): print args\n",
      "\n",
      "print '-'*40\n",
      "arb(10)\n",
      "print '-'*40\n",
      "arb(10,100)\n",
      "print '-'*40\n",
      "arb([1,2,3,4])\n",
      "print '-'*40"
     ],
     "language": "python",
     "metadata": {},
     "outputs": [
      {
       "output_type": "stream",
       "stream": "stdout",
       "text": [
        "----------------------------------------\n",
        "(10,)\n",
        "----------------------------------------\n",
        "(10, 100)\n",
        "----------------------------------------\n",
        "([1, 2, 3, 4],)\n",
        "----------------------------------------\n"
       ]
      }
     ],
     "prompt_number": 10
    },
    {
     "cell_type": "code",
     "collapsed": false,
     "input": [
      "# arbitrary args  - collected into a dictionary\n",
      "def arb(**args): print args\n",
      "\n",
      "print '-'*40\n",
      "arb()\n",
      "print '-'*40\n",
      "arb(a=10,b=100)\n",
      "print '-'*40\n",
      "arb(L=[1,2,3,4])\n",
      "print '-'*40"
     ],
     "language": "python",
     "metadata": {},
     "outputs": [
      {
       "output_type": "stream",
       "stream": "stdout",
       "text": [
        "----------------------------------------\n",
        "{}\n",
        "----------------------------------------\n",
        "{'a': 10, 'b': 100}\n",
        "----------------------------------------\n",
        "{'L': [1, 2, 3, 4]}\n",
        "----------------------------------------\n"
       ]
      }
     ],
     "prompt_number": 12
    },
    {
     "cell_type": "code",
     "collapsed": false,
     "input": [
      "# arbitrary args  - collected into a dictionary\n",
      "def arb(*args1, **args2): print args1, args2\n",
      "\n",
      "print '-'*40\n",
      "arb(s=1)\n",
      "print '-'*40\n",
      "arb(8, 9, a=10,b=100)\n",
      "print '-'*40\n",
      "arb([1,2,3,4,5], s=1, L=[1,2,3,4])\n",
      "print '-'*40"
     ],
     "language": "python",
     "metadata": {},
     "outputs": [
      {
       "output_type": "stream",
       "stream": "stdout",
       "text": [
        "----------------------------------------\n",
        "() {'s': 1}\n",
        "----------------------------------------\n",
        "(8, 9) {'a': 10, 'b': 100}\n",
        "----------------------------------------\n",
        "([1, 2, 3, 4, 5],) {'s': 1, 'L': [1, 2, 3, 4]}\n",
        "----------------------------------------\n"
       ]
      }
     ],
     "prompt_number": 16
    },
    {
     "cell_type": "heading",
     "level": 6,
     "metadata": {},
     "source": [
      "Anonymous Functions: lambda"
     ]
    },
    {
     "cell_type": "code",
     "collapsed": false,
     "input": [
      "L = [lambda x: x ** 2, # Inline function definition\n",
      "    lambda x: x ** 3,\n",
      "    lambda x: x ** 4] # A list of three callable functions\n",
      "\n",
      "\n",
      "for f in L:\n",
      "    print(f(2)) # Prints 4, 8, 16"
     ],
     "language": "python",
     "metadata": {},
     "outputs": [
      {
       "output_type": "stream",
       "stream": "stdout",
       "text": [
        "4\n",
        "8\n",
        "16\n"
       ]
      }
     ],
     "prompt_number": 64
    },
    {
     "cell_type": "code",
     "collapsed": false,
     "input": [
      "print(L[0](3)) # Prints 9"
     ],
     "language": "python",
     "metadata": {},
     "outputs": [
      {
       "output_type": "stream",
       "stream": "stdout",
       "text": [
        "9\n"
       ]
      }
     ],
     "prompt_number": 65
    },
    {
     "cell_type": "code",
     "collapsed": false,
     "input": [
      "def f1(x): return x ** 2\n",
      "def f2(x): return x ** 3 # Define named functions\n",
      "def f3(x): return x ** 4\n",
      "\n",
      "L = [f1, f2, f3] # Reference by name\n",
      "\n",
      "for f in L:\n",
      "    print(f(2)) # Prints 4, 8, 16\n"
     ],
     "language": "python",
     "metadata": {},
     "outputs": [
      {
       "output_type": "stream",
       "stream": "stdout",
       "text": [
        "4\n",
        "8\n",
        "16\n"
       ]
      }
     ],
     "prompt_number": 66
    },
    {
     "cell_type": "code",
     "collapsed": false,
     "input": [
      "print(L[0](3)) # Prints 9"
     ],
     "language": "python",
     "metadata": {},
     "outputs": [
      {
       "output_type": "stream",
       "stream": "stdout",
       "text": [
        "9\n"
       ]
      }
     ],
     "prompt_number": 67
    },
    {
     "cell_type": "code",
     "collapsed": false,
     "input": [],
     "language": "python",
     "metadata": {},
     "outputs": []
    }
   ],
   "metadata": {}
  }
 ]
}