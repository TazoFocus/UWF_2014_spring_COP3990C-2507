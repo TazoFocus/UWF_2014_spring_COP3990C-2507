{
 "metadata": {
  "name": ""
 },
 "nbformat": 3,
 "nbformat_minor": 0,
 "worksheets": [
  {
   "cells": [
    {
     "cell_type": "heading",
     "level": 1,
     "metadata": {},
     "source": [
      "COP3990C - Python Programming"
     ]
    },
    {
     "cell_type": "markdown",
     "metadata": {},
     "source": [
      "<img src=\"files/images/python-logo.png\">"
     ]
    },
    {
     "cell_type": "heading",
     "level": 3,
     "metadata": {},
     "source": [
      "What is Python?"
     ]
    },
    {
     "cell_type": "markdown",
     "metadata": {},
     "source": [
      "Python is an interpreted, object-oriented, high-level programming language with dynamic semantics. Its high-level built in data structures, combined with dynamic typing and dynamic binding, make it very attractive for Rapid Application Development, as well as for use as a scripting or glue language to connect existing components together. Python's simple, easy to learn syntax emphasizes readability and therefore reduces the cost of program maintenance. Python supports modules and packages, which encourages program modularity and code reuse. The Python interpreter and the extensive standard library are available in source or binary form without charge for all major platforms, and can be freely distributed.\n",
      "\n",
      "Often, programmers fall in love with Python because of the increased productivity it provides. Since there is no compilation step, the edit-test-debug cycle is incredibly fast. Debugging Python programs is easy: a bug or bad input will never cause a segmentation fault. Instead, when the interpreter discovers an error, it raises an exception. When the program doesn't catch the exception, the interpreter prints a stack trace. A source level debugger allows inspection of local and global variables, evaluation of arbitrary expressions, setting breakpoints, stepping through the code a line at a time, and so on. The debugger is written in Python itself, testifying to Python's introspective power. On the other hand, often the quickest way to debug a program is to add a few print statements to the source: the fast edit-test-debug cycle makes this simple approach very effective. (http://www.python.org/doc/essays/blurb.html)"
     ]
    },
    {
     "cell_type": "heading",
     "level": 5,
     "metadata": {},
     "source": [
      "In Short, Python is"
     ]
    },
    {
     "cell_type": "markdown",
     "metadata": {},
     "source": [
      "<ul>\n",
      "<li>High-level</li>\n",
      "<li>Object oriented</li>\n",
      "<li>Interpreted</li>\n",
      "<li>Dynamic</li>\n",
      "<li> Glue Language </li>\n",
      "<li> Data structures/Containers/Types </li>\n",
      "<li> Extensive Library </li>\n",
      "</ul>"
     ]
    },
    {
     "cell_type": "heading",
     "level": 3,
     "metadata": {},
     "source": [
      "History"
     ]
    },
    {
     "cell_type": "markdown",
     "metadata": {},
     "source": [
      "Python was conceived in the late 1980s[20] and its implementation was started in December 1989 by Guido van Rossum at CWI in the Netherlands as a successor to the ABC language (itself inspired by SETL) capable of exception handling and interfacing with the Amoeba operating system.[2] Van Rossum is Python's principal author, and his continuing central role in deciding the direction of Python is reflected in the title given to him by the Python community, Benevolent Dictator for Life (BDFL).\n",
      "Python 2.0 was released on 16 October 2000, with many major new features including a full garbage collector and support for Unicode. With this release the development process was changed and became more transparent and community-backed.\n",
      "Python 3.0 (also called Python 3000 or py3k), a major, backwards-incompatible release, was released on 3 December 2008 after a long period of testing. Many of its major features have been backported to the backwards-compatible Python 2.6 and 2.7. http://en.wikipedia.org/wiki/Python_(programming_language)"
     ]
    },
    {
     "cell_type": "heading",
     "level": 3,
     "metadata": {},
     "source": [
      "Benevolent Dictator for Life (BDFL)"
     ]
    },
    {
     "cell_type": "markdown",
     "metadata": {},
     "source": [
      "Guido van Rossum (born 31 January 1956) is a Dutch computer programmer who is best known as the author of the Python programming language. In the Python community, Van Rossum is known as a \"Benevolent Dictator For Life\" (BDFL), meaning that he continues to oversee the Python development process, making decisions where necessary. He was employed by Google from 2005 until December 7th 2012, where he spent half his time developing the Python language. In January 2013, Van Rossum started working for Dropbox. (http://en.wikipedia.org/wiki/Guido_van_Rossum)"
     ]
    },
    {
     "cell_type": "heading",
     "level": 3,
     "metadata": {},
     "source": [
      "Why the Name \"Python\"?"
     ]
    },
    {
     "cell_type": "markdown",
     "metadata": {},
     "source": [
      "Python's name is derived from the television series Monty Python's Flying Circus and it is common to use Monty Python references in example code. For example, the metasyntactic variables often used in Python literature are spam and eggs, instead of the traditional foo and bar.\n"
     ]
    },
    {
     "cell_type": "heading",
     "level": 3,
     "metadata": {},
     "source": [
      "Why Python? <i>(Copied from the textbook)</i>"
     ]
    },
    {
     "cell_type": "heading",
     "level": 5,
     "metadata": {},
     "source": [
      "Software Quality"
     ]
    },
    {
     "cell_type": "markdown",
     "metadata": {},
     "source": [
      "For many, Python\u2019s focus on readability, coherence, and software quality in\n",
      "general sets it apart from other tools in the scripting world. Python code is\n",
      "designed to be readable, and hence reusable and maintainable\u2014much more so\n",
      "than traditional scripting languages. The uniformity of Python code makes it easy\n",
      "to understand, even if you did not write it. In addition, Python has deep support\n",
      "for more advanced software reuse mechanisms, such as object-oriented (OO)\n",
      "and function programming.\n"
     ]
    },
    {
     "cell_type": "heading",
     "level": 5,
     "metadata": {},
     "source": [
      "Development Productivity"
     ]
    },
    {
     "cell_type": "markdown",
     "metadata": {},
     "source": [
      "Python boosts developer productivity many times beyond compiled or statically\n",
      "typed languages such as C, C++, and Java. Python code is typically one-third to\n",
      "one-fifth the size of equivalent C++ or Java code. That means there is less to\n",
      "type, less to debug, and less to maintain after the fact. Python programs also run\n",
      "immediately, without the lengthy compile and link steps required by some other\n",
      "tools, further boosting programmer speed.\n"
     ]
    },
    {
     "cell_type": "heading",
     "level": 5,
     "metadata": {},
     "source": [
      "Program portability"
     ]
    },
    {
     "cell_type": "markdown",
     "metadata": {},
     "source": [
      "Most Python programs run unchanged on all major computer platforms. Porting\n",
      "Python code between Linux and Windows, for example, is usually just a matter\n",
      "of copying a script\u2019s code between machines. Moreover, Python offers multiple\n",
      "options for coding portable graphical user interfaces, database access programs,web-based systems, and more. Even operating system interfaces, including\n",
      "program launches and directory processing, are as portable in Python as they can\n",
      "possibly be.\n",
      "pport libraries\n"
     ]
    },
    {
     "cell_type": "heading",
     "level": 5,
     "metadata": {},
     "source": [
      "Support libraries"
     ]
    },
    {
     "cell_type": "markdown",
     "metadata": {},
     "source": [
      "Python comes with a large collection of prebuilt and portable functionality,\n",
      "known as the standard library. This library supports an array of application-level\n",
      "programming tasks, from text pattern matching to network scripting. In addition,\n",
      "Python can be extended with both homegrown libraries and a vast collection of\n",
      "third-party application support software. Python\u2019s third-party domain offers\n",
      "tools for website construction, numeric programming, serial port access, game\n",
      "development, and much more (see ahead for a sampling). The NumPy extension,\n",
      "for instance, has been described as a free and more powerful equivalent to the\n",
      "Matlab numeric programming system.\n"
     ]
    },
    {
     "cell_type": "heading",
     "level": 5,
     "metadata": {},
     "source": [
      "Component integration"
     ]
    },
    {
     "cell_type": "markdown",
     "metadata": {},
     "source": [
      "Python scripts can easily communicate with other parts of an application, using a\n",
      "variety of integration mechanisms. Such integrations allow Python to be used as\n",
      "a product customization and extension tool. Today, Python code can invoke C and\n",
      "C++ libraries, can be called from C and C++ programs, can integrate with Java\n",
      "and .NET components, can communicate over frameworks such as COM and\n",
      "Silverlight, can interface with devices over serial ports, and can interact over\n",
      "networks with interfaces like SOAP, XML-RPC, and CORBA. It is not a\n",
      "standalone tool.\n"
     ]
    },
    {
     "cell_type": "heading",
     "level": 5,
     "metadata": {},
     "source": [
      "Enjoyment"
     ]
    },
    {
     "cell_type": "markdown",
     "metadata": {},
     "source": [
      "Because of Python\u2019s ease of use and built-in toolset, it can make the act of\n",
      "programming more pleasure than chore. Although this may be an intangible\n",
      "benefit, its effect on productivity is an important asset.\n"
     ]
    },
    {
     "cell_type": "heading",
     "level": 3,
     "metadata": {},
     "source": [
      "Who Uses Python?"
     ]
    },
    {
     "cell_type": "markdown",
     "metadata": {},
     "source": [
      "<ul>\n",
      "<li> Google makes extensive use of Python in its web search systems.</li>\n",
      "<li>The popular YouTube video sharing service is largely written in Python.</li>\n",
      "<li>The Dropbox storage service codes both its server and desktop client software\n",
      "primarily in Python.</li>\n",
      "<li>The Raspberry Pi single-board computer promotes Python as its educational\n",
      "language.</li>\n",
      "<li>EVE Online, a massively multiplayer online game (MMOG) by CCP Games, uses\n",
      "Python broadly.</li>\n",
      "<li>The widespread BitTorrent peer-to-peer file sharing system began its life as a\n",
      "Python program.</li>\n",
      "<li>Industrial Light & Magic, Pixar, and others use Python in the production of\n",
      "animated movies</li>\n",
      "<li>ESRI uses Python as an end-user customization tool for its popular GIS\n",
      "mapping products.</li>\n",
      "<li>Google\u2019s App Engine web development framework uses Python as an\n",
      "application language.</li>\n",
      "<li>The IronPort email server product uses more than 1 million lines of Python\n",
      "code to do its job.</li>\n",
      "<li>Maya, a powerful integrated 3D modeling and animation system, provides a\n",
      "Python scripting API.</li>\n",
      "<li>The NSA uses Python for cryptography and intelligence analysis.</li>\n",
      "<li>iRobot uses Python to develop commercial and military robotic devices.</li>\n",
      "<li>The Civilization IV game\u2019s customizable scripted events are written entirely in\n",
      "Python.</li>\n",
      "<li>The One Laptop Per Child (OLPC) project built its user interface and activity\n",
      "model in Python.</li>\n",
      "<li>Netflix and Yelp have both documented the role of Python in their software\n",
      "infrastructures.</li>\n",
      "<li>Intel, Cisco, Hewlett-Packard, Seagate, Qualcomm, and IBM use Python for\n",
      "hardware testing.</li>\n",
      "<li>JPMorgan Chase, UBS, Getco, and Citadel apply Python to financial market\n",
      "forecasting.</li>\n",
      "<li>NASA, Los Alamos, Fermilab, JPL, and others use Python for scientific\n",
      "programming tasks.</li>\n",
      "</ul>\n",
      "\n",
      "<p style=\"color:red\"><i>This is copied from your textbook</i></p>\n"
     ]
    },
    {
     "cell_type": "heading",
     "level": 3,
     "metadata": {},
     "source": [
      "What Can You do with Python?"
     ]
    },
    {
     "cell_type": "markdown",
     "metadata": {},
     "source": [
      "<ul>\n",
      "<li> Systems Programming</li>\n",
      "<li> GUIs</li>\n",
      "<li> Internet Scripting</li>\n",
      "<li> Componenet Integration</li>\n",
      "<li> Database Programming</li>\n",
      "<li> Rapid Prototyping</li>\n",
      "<li> Numerical and Scientific Programming</li>\n",
      "<li> Gaming</li>\n",
      "<li> Image Processing and Machine Vision </li>\n",
      "<li> Data Mining and Analysis </li>\n",
      "<li> Robotics </li>\n",
      "<li> Application Interface: MS Office, LibreOffice, Gimp,  </li>\n",
      "</ul>"
     ]
    },
    {
     "cell_type": "heading",
     "level": 3,
     "metadata": {},
     "source": [
      "Coding Style"
     ]
    },
    {
     "cell_type": "markdown",
     "metadata": {},
     "source": [
      "We'll standarize the code for this class. Making the coding style uniform makes it easy for the code to be used in different IDEs and other editors across multiple platforms and operating systems. Here are the basic rules:"
     ]
    },
    {
     "cell_type": "heading",
     "level": 5,
     "metadata": {},
     "source": [
      "Variable Naming Convention"
     ]
    },
    {
     "cell_type": "markdown",
     "metadata": {},
     "source": [
      "In general, use names that are descriptive. Longer names are preferred for clarity. That comes in handy when you revisit your code months even years from the time it was written. "
     ]
    },
    {
     "cell_type": "heading",
     "level": 6,
     "metadata": {},
     "source": [
      "Constants and Global Variables"
     ]
    },
    {
     "cell_type": "markdown",
     "metadata": {},
     "source": [
      "You're discouraged from using global variables but if you feel the need to use them then they should all be capital letters with underscores between the words. Try not to abbreviate words. Example: <p style=\"color:red\"><i>SENSOR_ROWS = 6</i></p>"
     ]
    },
    {
     "cell_type": "heading",
     "level": 6,
     "metadata": {},
     "source": [
      "User Defined Data Types"
     ]
    },
    {
     "cell_type": "markdown",
     "metadata": {},
     "source": [
      "User-defined classes variables start with a capital letter for each word, no underscore between words. Example: <p style=\"color:red\"><i>Projectdata</i>, <i>CameraModel</i>, <i>Sensor</i></p>"
     ]
    },
    {
     "cell_type": "heading",
     "level": 6,
     "metadata": {},
     "source": [
      "Function Names"
     ]
    },
    {
     "cell_type": "markdown",
     "metadata": {},
     "source": [
      "A function's name needs to represent an action (think verb): get, set, truncate, etc... The first word is all lower case letters and subsequent words (if any) start with upper case letters without an underscore between them.\n",
      "Example: <p style=\"color:red\"><i>getHeader</i>, <i>truncate</i>, <i>getAverageAndError</i>, <i>setLimits</i> </p>"
     ]
    },
    {
     "cell_type": "heading",
     "level": 6,
     "metadata": {},
     "source": [
      "Variable Names"
     ]
    },
    {
     "cell_type": "markdown",
     "metadata": {},
     "source": [
      "All lower case, undescores between words. Words may be abbreviated if necessary.<br>\n",
      "Example: Let's say we're assigning the name of a camera calibration file, here is how I would define a variable to hold the name: <font color=\"red\"><i>camera_calib_file_name</i></font> <br>\n",
      "Refrain from using one or two letter variable names unless they're used as dummy variables in a short segment of the code. For example, if I am looping though a list of fine names, then the iteration variable should be <font color=\"red\"><i>file_name</i></font> instead of <font color=\"red\"><i>f</i></font>:<br>\n"
     ]
    },
    {
     "cell_type": "heading",
     "level": 5,
     "metadata": {},
     "source": [
      "Formatting"
     ]
    },
    {
     "cell_type": "markdown",
     "metadata": {},
     "source": [
      "Formatting is very important in Python. Indentation not only makes the code clearer to read but it is part of the language: logical blocks, like loops and functions, use indentation to for beginning and ending markers. There are two ways to indent block, tabs and spaces. You need to set your favorite editor to use spaces for indentation as opposed to tabs and sent the width to 3 spaces. "
     ]
    },
    {
     "cell_type": "heading",
     "level": 5,
     "metadata": {},
     "source": [
      "Editors"
     ]
    },
    {
     "cell_type": "markdown",
     "metadata": {},
     "source": [
      "There are many editors avialble for use to program in Python. They offer syntax highlighting, indentation markers, and some offer inline debigging and project management. \n",
      "\n",
      "https://wiki.python.org/moin/PythonEditors\n"
     ]
    },
    {
     "cell_type": "code",
     "collapsed": false,
     "input": [],
     "language": "python",
     "metadata": {},
     "outputs": []
    },
    {
     "cell_type": "code",
     "collapsed": false,
     "input": [
      "from IPython.core.display import HTML\n",
      "def css_styling():\n",
      "    styles = open(\"styles/custom.css\", \"r\").read()\n",
      "    return HTML(styles)\n",
      "css_styling()"
     ],
     "language": "python",
     "metadata": {},
     "outputs": [
      {
       "html": [
        "<style>\n",
        "    @font-face {\n",
        "        font-family: \"Computer Modern\";\n",
        "        src: url('http://mirrors.ctan.org/fonts/cm-unicode/fonts/otf/cmunss.otf');\n",
        "    }\n",
        "    div.cell{\n",
        "        width:800px;\n",
        "        margin-left:16% !important;\n",
        "        margin-right:auto;\n",
        "    }\n",
        "    h1 {\n",
        "        font-family: Helvetica, serif;\n",
        "    }\n",
        "    h2 {\n",
        "        font-family: Helvetica, serif;\n",
        "    }\n",
        "    h4{\n",
        "        margin-top:12px;\n",
        "        margin-bottom: 3px;\n",
        "       }\n",
        "    div.text_cell_render{\n",
        "        font-family: Computer Modern, \"Helvetica Neue\", Arial, Helvetica, Geneva, sans-serif;\n",
        "        line-height: 135%;\n",
        "        font-size: 120%;\n",
        "        width:600px;\n",
        "        margin-left:auto;\n",
        "        margin-right:auto;\n",
        "    }\n",
        "    .CodeMirror{\n",
        "            font-family: \"Source Code Pro\", source-code-pro,Consolas, monospace;\n",
        "    }\n",
        "/*    .prompt{\n",
        "        display: None;\n",
        "    }*/\n",
        "    .text_cell_render h5 {\n",
        "        font-weight: 300;\n",
        "        font-size: 16pt;\n",
        "        color: #4057A1;\n",
        "        font-style: italic;\n",
        "        margin-bottom: .5em;\n",
        "        margin-top: 0.5em;\n",
        "        display: block;\n",
        "    }\n",
        "    \n",
        "    .warning{\n",
        "        color: rgb( 240, 20, 20 )\n",
        "        }  \n",
        "</style>\n",
        "<script>\n",
        "    MathJax.Hub.Config({\n",
        "                        TeX: {\n",
        "                           extensions: [\"AMSmath.js\"]\n",
        "                           },\n",
        "                tex2jax: {\n",
        "                    inlineMath: [ ['$','$'], [\"\\\\(\",\"\\\\)\"] ],\n",
        "                    displayMath: [ ['$$','$$'], [\"\\\\[\",\"\\\\]\"] ]\n",
        "                },\n",
        "                displayAlign: 'center', // Change this to 'center' to center equations.\n",
        "                \"HTML-CSS\": {\n",
        "                    styles: {'.MathJax_Display': {\"margin\": 4}}\n",
        "                }\n",
        "        });\n",
        "</script>"
       ],
       "metadata": {},
       "output_type": "pyout",
       "prompt_number": 1,
       "text": [
        "<IPython.core.display.HTML at 0x33e7190>"
       ]
      }
     ],
     "prompt_number": 1
    },
    {
     "cell_type": "code",
     "collapsed": false,
     "input": [],
     "language": "python",
     "metadata": {},
     "outputs": []
    }
   ],
   "metadata": {}
  }
 ]
}